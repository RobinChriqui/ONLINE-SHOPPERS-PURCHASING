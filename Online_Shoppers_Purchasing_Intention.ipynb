{
  "nbformat": 4,
  "nbformat_minor": 0,
  "metadata": {
    "colab": {
      "name": " Online_Shoppers_Purchasing_Intention.ipynb",
      "provenance": [],
      "collapsed_sections": []
    },
    "kernelspec": {
      "name": "python3",
      "display_name": "Python 3"
    },
    "language_info": {
      "name": "python"
    }
  },
  "cells": [
    {
      "cell_type": "markdown",
      "source": [
        "# Online Shoppers Purchasing Intention\n",
        "In the data set attached you have users Web behavior during the last year. In order to optimize the user acquisition decisions, we want to predict the Online Shoppers Purchasing Intention. The best approach for this business need is to create a prediction model.\n",
        "model (including all the data-preparation and cleaning process) in Python.\n",
        "1. Which model do you think is the best fit for this business need? Why?\n",
        "This \n",
        "\n",
        ">This is a classification problem, there are several options:\n",
        "SGD, RF, XGboost, Catboost.\n",
        "After some experimentation, the catboost model is the one that performed the best.\n",
        "\n",
        "2. Please shortly describe what the model does.\n",
        "\n",
        ">CatBoost is based on gradient boosted decision trees. During training, a set of decision trees is built consecutively. Each successive tree is built with reduced loss compared to the previous trees.\n",
        "\n",
        "3. What are the limitation of the model?\n",
        "\n",
        ">One disadvantage of boosting is that it is sensitive to outliers since every classifier is obliged to fix the errors in the predecessors. Thus, the method is too dependent on outliers. Another disadvantage is that the method is almost impossible to scale up. This is because every estimator bases its correctness on the previous predictors, thus making the procedure difficult to streamline.\n",
        "\n",
        "4. Model Evaluation Plan – How will you split the data? How will you test the accuracy of the test?\n",
        "\n",
        ">The data will be split in 2 parts, the train(80%) and the test set(20%). The data is unbalance (84% False / 16% True) the problem is that the accuracy of a guessing model will achieve 84% of accuracy.\n",
        "\n",
        "5. Business - Sanity Evaluation Plan – How will you make sure that your solution will have a valid contribution to the business bottom line?\n",
        "\n",
        ">To be sure that the model will bring a business advantage, we will check the Recall, Precision and F1 score on the test data that our model never seen before.\n",
        ">The second part will to track the performance of the model in production."
      ],
      "metadata": {
        "id": "yOMfftQJVcoz"
      }
    },
    {
      "cell_type": "markdown",
      "source": [
        "# 1. Problem definition\n",
        ">How well can we predict the online shoppers purchasing intention, given its characteristics and previous examples of similar client's information.\n",
        "#2. data \n",
        "The data is downloaded from the UCI Online Shoppers Purchasing Intention Dataset.\n",
        "https://archive.ics.uci.edu/ml/datasets/Online+Shoppers+Purchasing+Intention+Dataset\n",
        "\n",
        "**Data Set Information:**\n",
        "\n",
        "The dataset consists of feature vectors belonging to 12,330 sessions.\n",
        "The dataset was formed so that each session\n",
        "would belong to a different user in a 1-year period to avoid\n",
        "any tendency to a specific campaign, special day, user\n",
        "profile, or period.\n",
        "\n",
        "*   The dataset consists of 10 numerical and 8 categorical \n",
        "*   The 'Revenue' attribute can be used as the class label.\n",
        "\n",
        "#3.Evaluation\n",
        "The evaluation metric for this project is the F1-score  between the actual and predicted revenue .\n",
        "#4. Features\n",
        "* Administrative - count of pages visited by the visitor (e.g. user details and account)\n",
        "* Administrative_Duration - total time spent (seconds) in on Administrative type of page\n",
        "Informational - count of pages visited by the visitor (e.g. about and contact of the website)\n",
        "* Informational_Duration - total time spent (seconds) in on Informational type of page\n",
        "* ProductRelated - count of pages visited by the visitor (e.g. product details)\n",
        "* ProductRelated_Duration - total time spent (seconds) in on ProductRelated type of page\n",
        "* BounceRates - percentage of visitors who enter the site from that page and then leave (\"bounce\") without triggering any other requests to the analytics server\n",
        "* ExitRates - the percentage of visitors to a page on the website from which they exit the website to a different website\n",
        "PageValues - the average value for a page that a user visited before landing on the goal page\n",
        "* SpecialDay - indicates the closeness of the site visiting time to a specific special day (e.g. Mother’s Day, Valentine's Day)\n",
        "* Month - the month of the visit to the website\n",
        "* OperatingSystems - the type of operation system used by the visitor\n",
        "* Browser - the type of browser used by the visitor\n",
        "* Region - the geographic region from which the session started\n",
        "* TrafficType - describes how traffic arrived on the website (Direct, Organic, Referral, Social, Email, Display and Paid)\n",
        "* VisitorType - returning or new visitor or other\n",
        "* Weekend - indicating whether the date of the visit is weekend\n",
        "* Revenue: indicates whether the visitor made a purchase or not"
      ],
      "metadata": {
        "id": "OTVivWykXe8u"
      }
    },
    {
      "cell_type": "code",
      "source": [
        "import pandas as pd\n",
        "import seaborn as sns\n",
        "import numpy as np\n",
        "import matplotlib.pyplot as plt\n"
      ],
      "metadata": {
        "id": "xrvm156lYJqZ"
      },
      "execution_count": null,
      "outputs": []
    },
    {
      "cell_type": "markdown",
      "source": [
        "# Load the data"
      ],
      "metadata": {
        "id": "vAdssYsxYEK7"
      }
    },
    {
      "cell_type": "code",
      "execution_count": null,
      "metadata": {
        "colab": {
          "base_uri": "https://localhost:8080/"
        },
        "id": "MxVeTgcTVXGX",
        "outputId": "33d0e630-0fef-4a05-d8a9-a0f1d9fa5a0a"
      },
      "outputs": [
        {
          "output_type": "stream",
          "name": "stdout",
          "text": [
            "--2021-12-14 07:36:07--  https://archive.ics.uci.edu/ml/machine-learning-databases/00468/online_shoppers_intention.csv\n",
            "Resolving archive.ics.uci.edu (archive.ics.uci.edu)... 128.195.10.252\n",
            "Connecting to archive.ics.uci.edu (archive.ics.uci.edu)|128.195.10.252|:443... connected.\n",
            "HTTP request sent, awaiting response... 200 OK\n",
            "Length: 1072063 (1.0M) [application/x-httpd-php]\n",
            "Saving to: ‘online_shoppers_intention.csv.3’\n",
            "\n",
            "online_shoppers_int 100%[===================>]   1.02M  1.32MB/s    in 0.8s    \n",
            "\n",
            "2021-12-14 07:36:08 (1.32 MB/s) - ‘online_shoppers_intention.csv.3’ saved [1072063/1072063]\n",
            "\n"
          ]
        }
      ],
      "source": [
        "#load the data \n",
        "!wget https://archive.ics.uci.edu/ml/machine-learning-databases/00468/online_shoppers_intention.csv"
      ]
    },
    {
      "cell_type": "code",
      "source": [
        "df=pd.read_csv('/content/online_shoppers_intention.csv')\n",
        "df.head()"
      ],
      "metadata": {
        "colab": {
          "base_uri": "https://localhost:8080/",
          "height": 226
        },
        "id": "UGsOjSLmVwI3",
        "outputId": "690b4408-73bc-4e31-8795-4c62d0362fae"
      },
      "execution_count": null,
      "outputs": [
        {
          "output_type": "execute_result",
          "data": {
            "text/html": [
              "<div>\n",
              "<style scoped>\n",
              "    .dataframe tbody tr th:only-of-type {\n",
              "        vertical-align: middle;\n",
              "    }\n",
              "\n",
              "    .dataframe tbody tr th {\n",
              "        vertical-align: top;\n",
              "    }\n",
              "\n",
              "    .dataframe thead th {\n",
              "        text-align: right;\n",
              "    }\n",
              "</style>\n",
              "<table border=\"1\" class=\"dataframe\">\n",
              "  <thead>\n",
              "    <tr style=\"text-align: right;\">\n",
              "      <th></th>\n",
              "      <th>Administrative</th>\n",
              "      <th>Administrative_Duration</th>\n",
              "      <th>Informational</th>\n",
              "      <th>Informational_Duration</th>\n",
              "      <th>ProductRelated</th>\n",
              "      <th>ProductRelated_Duration</th>\n",
              "      <th>BounceRates</th>\n",
              "      <th>ExitRates</th>\n",
              "      <th>PageValues</th>\n",
              "      <th>SpecialDay</th>\n",
              "      <th>Month</th>\n",
              "      <th>OperatingSystems</th>\n",
              "      <th>Browser</th>\n",
              "      <th>Region</th>\n",
              "      <th>TrafficType</th>\n",
              "      <th>VisitorType</th>\n",
              "      <th>Weekend</th>\n",
              "      <th>Revenue</th>\n",
              "    </tr>\n",
              "  </thead>\n",
              "  <tbody>\n",
              "    <tr>\n",
              "      <th>0</th>\n",
              "      <td>0</td>\n",
              "      <td>0.0</td>\n",
              "      <td>0</td>\n",
              "      <td>0.0</td>\n",
              "      <td>1</td>\n",
              "      <td>0.000000</td>\n",
              "      <td>0.20</td>\n",
              "      <td>0.20</td>\n",
              "      <td>0.0</td>\n",
              "      <td>0.0</td>\n",
              "      <td>Feb</td>\n",
              "      <td>1</td>\n",
              "      <td>1</td>\n",
              "      <td>1</td>\n",
              "      <td>1</td>\n",
              "      <td>Returning_Visitor</td>\n",
              "      <td>False</td>\n",
              "      <td>False</td>\n",
              "    </tr>\n",
              "    <tr>\n",
              "      <th>1</th>\n",
              "      <td>0</td>\n",
              "      <td>0.0</td>\n",
              "      <td>0</td>\n",
              "      <td>0.0</td>\n",
              "      <td>2</td>\n",
              "      <td>64.000000</td>\n",
              "      <td>0.00</td>\n",
              "      <td>0.10</td>\n",
              "      <td>0.0</td>\n",
              "      <td>0.0</td>\n",
              "      <td>Feb</td>\n",
              "      <td>2</td>\n",
              "      <td>2</td>\n",
              "      <td>1</td>\n",
              "      <td>2</td>\n",
              "      <td>Returning_Visitor</td>\n",
              "      <td>False</td>\n",
              "      <td>False</td>\n",
              "    </tr>\n",
              "    <tr>\n",
              "      <th>2</th>\n",
              "      <td>0</td>\n",
              "      <td>0.0</td>\n",
              "      <td>0</td>\n",
              "      <td>0.0</td>\n",
              "      <td>1</td>\n",
              "      <td>0.000000</td>\n",
              "      <td>0.20</td>\n",
              "      <td>0.20</td>\n",
              "      <td>0.0</td>\n",
              "      <td>0.0</td>\n",
              "      <td>Feb</td>\n",
              "      <td>4</td>\n",
              "      <td>1</td>\n",
              "      <td>9</td>\n",
              "      <td>3</td>\n",
              "      <td>Returning_Visitor</td>\n",
              "      <td>False</td>\n",
              "      <td>False</td>\n",
              "    </tr>\n",
              "    <tr>\n",
              "      <th>3</th>\n",
              "      <td>0</td>\n",
              "      <td>0.0</td>\n",
              "      <td>0</td>\n",
              "      <td>0.0</td>\n",
              "      <td>2</td>\n",
              "      <td>2.666667</td>\n",
              "      <td>0.05</td>\n",
              "      <td>0.14</td>\n",
              "      <td>0.0</td>\n",
              "      <td>0.0</td>\n",
              "      <td>Feb</td>\n",
              "      <td>3</td>\n",
              "      <td>2</td>\n",
              "      <td>2</td>\n",
              "      <td>4</td>\n",
              "      <td>Returning_Visitor</td>\n",
              "      <td>False</td>\n",
              "      <td>False</td>\n",
              "    </tr>\n",
              "    <tr>\n",
              "      <th>4</th>\n",
              "      <td>0</td>\n",
              "      <td>0.0</td>\n",
              "      <td>0</td>\n",
              "      <td>0.0</td>\n",
              "      <td>10</td>\n",
              "      <td>627.500000</td>\n",
              "      <td>0.02</td>\n",
              "      <td>0.05</td>\n",
              "      <td>0.0</td>\n",
              "      <td>0.0</td>\n",
              "      <td>Feb</td>\n",
              "      <td>3</td>\n",
              "      <td>3</td>\n",
              "      <td>1</td>\n",
              "      <td>4</td>\n",
              "      <td>Returning_Visitor</td>\n",
              "      <td>True</td>\n",
              "      <td>False</td>\n",
              "    </tr>\n",
              "  </tbody>\n",
              "</table>\n",
              "</div>"
            ],
            "text/plain": [
              "   Administrative  Administrative_Duration  ...  Weekend  Revenue\n",
              "0               0                      0.0  ...    False    False\n",
              "1               0                      0.0  ...    False    False\n",
              "2               0                      0.0  ...    False    False\n",
              "3               0                      0.0  ...    False    False\n",
              "4               0                      0.0  ...     True    False\n",
              "\n",
              "[5 rows x 18 columns]"
            ]
          },
          "metadata": {},
          "execution_count": 71
        }
      ]
    },
    {
      "cell_type": "code",
      "source": [
        "df.info()"
      ],
      "metadata": {
        "colab": {
          "base_uri": "https://localhost:8080/"
        },
        "id": "fw3ty92zWKK8",
        "outputId": "1f9b5dcf-08bf-448f-99c4-17c09be04ee8"
      },
      "execution_count": null,
      "outputs": [
        {
          "output_type": "stream",
          "name": "stdout",
          "text": [
            "<class 'pandas.core.frame.DataFrame'>\n",
            "RangeIndex: 12330 entries, 0 to 12329\n",
            "Data columns (total 18 columns):\n",
            " #   Column                   Non-Null Count  Dtype  \n",
            "---  ------                   --------------  -----  \n",
            " 0   Administrative           12330 non-null  int64  \n",
            " 1   Administrative_Duration  12330 non-null  float64\n",
            " 2   Informational            12330 non-null  int64  \n",
            " 3   Informational_Duration   12330 non-null  float64\n",
            " 4   ProductRelated           12330 non-null  int64  \n",
            " 5   ProductRelated_Duration  12330 non-null  float64\n",
            " 6   BounceRates              12330 non-null  float64\n",
            " 7   ExitRates                12330 non-null  float64\n",
            " 8   PageValues               12330 non-null  float64\n",
            " 9   SpecialDay               12330 non-null  float64\n",
            " 10  Month                    12330 non-null  object \n",
            " 11  OperatingSystems         12330 non-null  int64  \n",
            " 12  Browser                  12330 non-null  int64  \n",
            " 13  Region                   12330 non-null  int64  \n",
            " 14  TrafficType              12330 non-null  int64  \n",
            " 15  VisitorType              12330 non-null  object \n",
            " 16  Weekend                  12330 non-null  bool   \n",
            " 17  Revenue                  12330 non-null  bool   \n",
            "dtypes: bool(2), float64(7), int64(7), object(2)\n",
            "memory usage: 1.5+ MB\n"
          ]
        }
      ]
    },
    {
      "cell_type": "code",
      "source": [
        "#Check if there is  missing data\n",
        "((df.isna().sum()/df.shape[0])*100).sort_values(ascending=False)"
      ],
      "metadata": {
        "colab": {
          "base_uri": "https://localhost:8080/"
        },
        "id": "LFFt5nRNaM5y",
        "outputId": "e3443164-26fd-42bc-8000-ae7fca78f24b"
      },
      "execution_count": null,
      "outputs": [
        {
          "output_type": "execute_result",
          "data": {
            "text/plain": [
              "Revenue                    0.0\n",
              "Weekend                    0.0\n",
              "Administrative_Duration    0.0\n",
              "Informational              0.0\n",
              "Informational_Duration     0.0\n",
              "ProductRelated             0.0\n",
              "ProductRelated_Duration    0.0\n",
              "BounceRates                0.0\n",
              "ExitRates                  0.0\n",
              "PageValues                 0.0\n",
              "SpecialDay                 0.0\n",
              "Month                      0.0\n",
              "OperatingSystems           0.0\n",
              "Browser                    0.0\n",
              "Region                     0.0\n",
              "TrafficType                0.0\n",
              "VisitorType                0.0\n",
              "Administrative             0.0\n",
              "dtype: float64"
            ]
          },
          "metadata": {},
          "execution_count": 73
        }
      ]
    },
    {
      "cell_type": "code",
      "source": [
        "#check the duplicate \n",
        "print(f\"shape with duplicate {df.shape}\", f\"\\n\\nnumber of duplicate {df.duplicated().value_counts()}\")\n",
        "#drop the duplicate\n",
        "df.drop_duplicates(inplace=True)\n",
        "print(f\"\\n \\nshape after removing the duplicate {df.shape}\")"
      ],
      "metadata": {
        "colab": {
          "base_uri": "https://localhost:8080/"
        },
        "id": "EmKISdmOaRNX",
        "outputId": "ca394039-a2a5-4d12-f0fc-bed48fabc129"
      },
      "execution_count": null,
      "outputs": [
        {
          "output_type": "stream",
          "name": "stdout",
          "text": [
            "shape with duplicate (12330, 18) \n",
            "\n",
            "number of duplicate False    12205\n",
            "True       125\n",
            "dtype: int64\n",
            "\n",
            " \n",
            "shape after removing the duplicate (12205, 18)\n"
          ]
        }
      ]
    },
    {
      "cell_type": "markdown",
      "source": [
        "# EDA "
      ],
      "metadata": {
        "id": "WWl4Xp0NbxRv"
      }
    },
    {
      "cell_type": "code",
      "source": [
        "df.columns"
      ],
      "metadata": {
        "colab": {
          "base_uri": "https://localhost:8080/"
        },
        "id": "rkMwEiuNcCmV",
        "outputId": "f793a1bb-3f19-4c5a-ae85-320244deacb2"
      },
      "execution_count": null,
      "outputs": [
        {
          "output_type": "execute_result",
          "data": {
            "text/plain": [
              "Index(['Administrative', 'Administrative_Duration', 'Informational',\n",
              "       'Informational_Duration', 'ProductRelated', 'ProductRelated_Duration',\n",
              "       'BounceRates', 'ExitRates', 'PageValues', 'SpecialDay', 'Month',\n",
              "       'OperatingSystems', 'Browser', 'Region', 'TrafficType', 'VisitorType',\n",
              "       'Weekend', 'Revenue'],\n",
              "      dtype='object')"
            ]
          },
          "metadata": {},
          "execution_count": 75
        }
      ]
    },
    {
      "cell_type": "code",
      "source": [
        "df.describe().T"
      ],
      "metadata": {
        "colab": {
          "base_uri": "https://localhost:8080/",
          "height": 488
        },
        "id": "b0XfVgKjuLNl",
        "outputId": "74ce7e5a-d184-4b6c-d957-772595deeb25"
      },
      "execution_count": null,
      "outputs": [
        {
          "output_type": "execute_result",
          "data": {
            "text/html": [
              "<div>\n",
              "<style scoped>\n",
              "    .dataframe tbody tr th:only-of-type {\n",
              "        vertical-align: middle;\n",
              "    }\n",
              "\n",
              "    .dataframe tbody tr th {\n",
              "        vertical-align: top;\n",
              "    }\n",
              "\n",
              "    .dataframe thead th {\n",
              "        text-align: right;\n",
              "    }\n",
              "</style>\n",
              "<table border=\"1\" class=\"dataframe\">\n",
              "  <thead>\n",
              "    <tr style=\"text-align: right;\">\n",
              "      <th></th>\n",
              "      <th>count</th>\n",
              "      <th>mean</th>\n",
              "      <th>std</th>\n",
              "      <th>min</th>\n",
              "      <th>25%</th>\n",
              "      <th>50%</th>\n",
              "      <th>75%</th>\n",
              "      <th>max</th>\n",
              "    </tr>\n",
              "  </thead>\n",
              "  <tbody>\n",
              "    <tr>\n",
              "      <th>Administrative</th>\n",
              "      <td>12205.0</td>\n",
              "      <td>2.338878</td>\n",
              "      <td>3.330436</td>\n",
              "      <td>0.0</td>\n",
              "      <td>0.000000</td>\n",
              "      <td>1.000000</td>\n",
              "      <td>4.000000</td>\n",
              "      <td>27.000000</td>\n",
              "    </tr>\n",
              "    <tr>\n",
              "      <th>Administrative_Duration</th>\n",
              "      <td>12205.0</td>\n",
              "      <td>81.646331</td>\n",
              "      <td>177.491845</td>\n",
              "      <td>0.0</td>\n",
              "      <td>0.000000</td>\n",
              "      <td>9.000000</td>\n",
              "      <td>94.700000</td>\n",
              "      <td>3398.750000</td>\n",
              "    </tr>\n",
              "    <tr>\n",
              "      <th>Informational</th>\n",
              "      <td>12205.0</td>\n",
              "      <td>0.508726</td>\n",
              "      <td>1.275617</td>\n",
              "      <td>0.0</td>\n",
              "      <td>0.000000</td>\n",
              "      <td>0.000000</td>\n",
              "      <td>0.000000</td>\n",
              "      <td>24.000000</td>\n",
              "    </tr>\n",
              "    <tr>\n",
              "      <th>Informational_Duration</th>\n",
              "      <td>12205.0</td>\n",
              "      <td>34.825454</td>\n",
              "      <td>141.424807</td>\n",
              "      <td>0.0</td>\n",
              "      <td>0.000000</td>\n",
              "      <td>0.000000</td>\n",
              "      <td>0.000000</td>\n",
              "      <td>2549.375000</td>\n",
              "    </tr>\n",
              "    <tr>\n",
              "      <th>ProductRelated</th>\n",
              "      <td>12205.0</td>\n",
              "      <td>32.045637</td>\n",
              "      <td>44.593649</td>\n",
              "      <td>0.0</td>\n",
              "      <td>8.000000</td>\n",
              "      <td>18.000000</td>\n",
              "      <td>38.000000</td>\n",
              "      <td>705.000000</td>\n",
              "    </tr>\n",
              "    <tr>\n",
              "      <th>ProductRelated_Duration</th>\n",
              "      <td>12205.0</td>\n",
              "      <td>1206.982457</td>\n",
              "      <td>1919.601400</td>\n",
              "      <td>0.0</td>\n",
              "      <td>193.000000</td>\n",
              "      <td>608.942857</td>\n",
              "      <td>1477.154762</td>\n",
              "      <td>63973.522230</td>\n",
              "    </tr>\n",
              "    <tr>\n",
              "      <th>BounceRates</th>\n",
              "      <td>12205.0</td>\n",
              "      <td>0.020370</td>\n",
              "      <td>0.045255</td>\n",
              "      <td>0.0</td>\n",
              "      <td>0.000000</td>\n",
              "      <td>0.002899</td>\n",
              "      <td>0.016667</td>\n",
              "      <td>0.200000</td>\n",
              "    </tr>\n",
              "    <tr>\n",
              "      <th>ExitRates</th>\n",
              "      <td>12205.0</td>\n",
              "      <td>0.041466</td>\n",
              "      <td>0.046163</td>\n",
              "      <td>0.0</td>\n",
              "      <td>0.014231</td>\n",
              "      <td>0.025000</td>\n",
              "      <td>0.048529</td>\n",
              "      <td>0.200000</td>\n",
              "    </tr>\n",
              "    <tr>\n",
              "      <th>PageValues</th>\n",
              "      <td>12205.0</td>\n",
              "      <td>5.949574</td>\n",
              "      <td>18.653671</td>\n",
              "      <td>0.0</td>\n",
              "      <td>0.000000</td>\n",
              "      <td>0.000000</td>\n",
              "      <td>0.000000</td>\n",
              "      <td>361.763742</td>\n",
              "    </tr>\n",
              "    <tr>\n",
              "      <th>SpecialDay</th>\n",
              "      <td>12205.0</td>\n",
              "      <td>0.061942</td>\n",
              "      <td>0.199666</td>\n",
              "      <td>0.0</td>\n",
              "      <td>0.000000</td>\n",
              "      <td>0.000000</td>\n",
              "      <td>0.000000</td>\n",
              "      <td>1.000000</td>\n",
              "    </tr>\n",
              "    <tr>\n",
              "      <th>OperatingSystems</th>\n",
              "      <td>12205.0</td>\n",
              "      <td>2.124211</td>\n",
              "      <td>0.906823</td>\n",
              "      <td>1.0</td>\n",
              "      <td>2.000000</td>\n",
              "      <td>2.000000</td>\n",
              "      <td>3.000000</td>\n",
              "      <td>8.000000</td>\n",
              "    </tr>\n",
              "    <tr>\n",
              "      <th>Browser</th>\n",
              "      <td>12205.0</td>\n",
              "      <td>2.357804</td>\n",
              "      <td>1.710114</td>\n",
              "      <td>1.0</td>\n",
              "      <td>2.000000</td>\n",
              "      <td>2.000000</td>\n",
              "      <td>2.000000</td>\n",
              "      <td>13.000000</td>\n",
              "    </tr>\n",
              "    <tr>\n",
              "      <th>Region</th>\n",
              "      <td>12205.0</td>\n",
              "      <td>3.153298</td>\n",
              "      <td>2.402340</td>\n",
              "      <td>1.0</td>\n",
              "      <td>1.000000</td>\n",
              "      <td>3.000000</td>\n",
              "      <td>4.000000</td>\n",
              "      <td>9.000000</td>\n",
              "    </tr>\n",
              "    <tr>\n",
              "      <th>TrafficType</th>\n",
              "      <td>12205.0</td>\n",
              "      <td>4.073904</td>\n",
              "      <td>4.016654</td>\n",
              "      <td>1.0</td>\n",
              "      <td>2.000000</td>\n",
              "      <td>2.000000</td>\n",
              "      <td>4.000000</td>\n",
              "      <td>20.000000</td>\n",
              "    </tr>\n",
              "  </tbody>\n",
              "</table>\n",
              "</div>"
            ],
            "text/plain": [
              "                           count         mean  ...          75%           max\n",
              "Administrative           12205.0     2.338878  ...     4.000000     27.000000\n",
              "Administrative_Duration  12205.0    81.646331  ...    94.700000   3398.750000\n",
              "Informational            12205.0     0.508726  ...     0.000000     24.000000\n",
              "Informational_Duration   12205.0    34.825454  ...     0.000000   2549.375000\n",
              "ProductRelated           12205.0    32.045637  ...    38.000000    705.000000\n",
              "ProductRelated_Duration  12205.0  1206.982457  ...  1477.154762  63973.522230\n",
              "BounceRates              12205.0     0.020370  ...     0.016667      0.200000\n",
              "ExitRates                12205.0     0.041466  ...     0.048529      0.200000\n",
              "PageValues               12205.0     5.949574  ...     0.000000    361.763742\n",
              "SpecialDay               12205.0     0.061942  ...     0.000000      1.000000\n",
              "OperatingSystems         12205.0     2.124211  ...     3.000000      8.000000\n",
              "Browser                  12205.0     2.357804  ...     2.000000     13.000000\n",
              "Region                   12205.0     3.153298  ...     4.000000      9.000000\n",
              "TrafficType              12205.0     4.073904  ...     4.000000     20.000000\n",
              "\n",
              "[14 rows x 8 columns]"
            ]
          },
          "metadata": {},
          "execution_count": 76
        }
      ]
    },
    {
      "cell_type": "code",
      "source": [
        "#Our target data\n",
        "df['Revenue'].value_counts()"
      ],
      "metadata": {
        "colab": {
          "base_uri": "https://localhost:8080/"
        },
        "id": "acqOppEYjrqc",
        "outputId": "daba6417-cc50-4d23-ee5d-6e891a3e25a9"
      },
      "execution_count": null,
      "outputs": [
        {
          "output_type": "execute_result",
          "data": {
            "text/plain": [
              "False    10297\n",
              "True      1908\n",
              "Name: Revenue, dtype: int64"
            ]
          },
          "metadata": {},
          "execution_count": 77
        }
      ]
    },
    {
      "cell_type": "code",
      "source": [
        "#boolean to numeric\n",
        "df['Revenue']=df['Revenue'].astype(int)"
      ],
      "metadata": {
        "id": "Ru0QcGgzj7fR"
      },
      "execution_count": null,
      "outputs": []
    },
    {
      "cell_type": "markdown",
      "source": [
        "## Target variable"
      ],
      "metadata": {
        "id": "UTKT-yfM6ne3"
      }
    },
    {
      "cell_type": "code",
      "source": [
        "#Our target variable\n",
        "ax = sns.countplot(x=\"Revenue\", data=df)"
      ],
      "metadata": {
        "colab": {
          "base_uri": "https://localhost:8080/",
          "height": 279
        },
        "id": "EhUOk-4ebtjA",
        "outputId": "a5747b8c-c46f-433e-85ab-f2c44097eb79"
      },
      "execution_count": null,
      "outputs": [
        {
          "output_type": "display_data",
          "data": {
            "image/png": "[encoded data removed]",
            "text/plain": [
              "<Figure size 432x288 with 1 Axes>"
            ]
          },
          "metadata": {
            "needs_background": "light"
          }
        }
      ]
    },
    {
      "cell_type": "code",
      "source": [
        "df[\"Revenue\"].value_counts(normalize=True)"
      ],
      "metadata": {
        "colab": {
          "base_uri": "https://localhost:8080/"
        },
        "id": "XhXs7vzEcq_p",
        "outputId": "26d3c399-7222-465f-c115-27027001a013"
      },
      "execution_count": null,
      "outputs": [
        {
          "output_type": "execute_result",
          "data": {
            "text/plain": [
              "0    0.843671\n",
              "1    0.156329\n",
              "Name: Revenue, dtype: float64"
            ]
          },
          "metadata": {},
          "execution_count": 80
        }
      ]
    },
    {
      "cell_type": "markdown",
      "source": [
        "* The dataset is unbalance with 85% False and 15% True on our target variable.\n",
        "\n",
        "**Note:** Potentially use a data augmentation, avoid the accuracy metric."
      ],
      "metadata": {
        "id": "cQdF9Tdncn9D"
      }
    },
    {
      "cell_type": "code",
      "source": [
        "#plot the correlation\n",
        "plt.figure(figsize=(12,8))\n",
        "ax = sns.heatmap(df.corr(),annot=True)"
      ],
      "metadata": {
        "colab": {
          "base_uri": "https://localhost:8080/",
          "height": 601
        },
        "id": "17jo9BZmdP1d",
        "outputId": "82a4b958-1aaa-40fd-e115-8c92b8ce1c05"
      },
      "execution_count": null,
      "outputs": [
        {
          "output_type": "display_data",
          "data": {
            "image/png": "[encoded data removed]",
            "text/plain": [
              "<Figure size 864x576 with 2 Axes>"
            ]
          },
          "metadata": {
            "needs_background": "light"
          }
        }
      ]
    },
    {
      "cell_type": "markdown",
      "source": [
        "* Our target variable is strongly related to PageValue\n",
        "* Administrative, Admnistrative_duration, Informational, Information_duration, produt Related, productRelated are strongly related.\n",
        "* Bounce rate and exit rate are highly correlated"
      ],
      "metadata": {
        "id": "3e-B4Jv4eYIY"
      }
    },
    {
      "cell_type": "code",
      "source": [
        "#Let's look at the relation between the target and the other variables\n",
        "plt.figure(figsize=(12,8))\n",
        "df.corr()['Revenue'].sort_values(ascending=False).plot(kind=\"bar\")"
      ],
      "metadata": {
        "colab": {
          "base_uri": "https://localhost:8080/",
          "height": 614
        },
        "id": "8zmqv112fS-r",
        "outputId": "5602f4e0-ba41-46b6-f0f5-91d46a04af4a"
      },
      "execution_count": null,
      "outputs": [
        {
          "output_type": "execute_result",
          "data": {
            "text/plain": [
              "<matplotlib.axes._subplots.AxesSubplot at 0x7fdbea7a9110>"
            ]
          },
          "metadata": {},
          "execution_count": 82
        },
        {
          "output_type": "display_data",
          "data": {
            "image/png": "[encoded data removed]",
            "text/plain": [
              "<Figure size 864x576 with 1 Axes>"
            ]
          },
          "metadata": {
            "needs_background": "light"
          }
        }
      ]
    },
    {
      "cell_type": "code",
      "source": [
        "df.groupby('Revenue')['PageValues'].describe().transpose()"
      ],
      "metadata": {
        "colab": {
          "base_uri": "https://localhost:8080/",
          "height": 300
        },
        "id": "SUVf_asniRzR",
        "outputId": "4dc33632-16b4-426c-da7c-fa4ce7afeb8b"
      },
      "execution_count": null,
      "outputs": [
        {
          "output_type": "execute_result",
          "data": {
            "text/html": [
              "<div>\n",
              "<style scoped>\n",
              "    .dataframe tbody tr th:only-of-type {\n",
              "        vertical-align: middle;\n",
              "    }\n",
              "\n",
              "    .dataframe tbody tr th {\n",
              "        vertical-align: top;\n",
              "    }\n",
              "\n",
              "    .dataframe thead th {\n",
              "        text-align: right;\n",
              "    }\n",
              "</style>\n",
              "<table border=\"1\" class=\"dataframe\">\n",
              "  <thead>\n",
              "    <tr style=\"text-align: right;\">\n",
              "      <th>Revenue</th>\n",
              "      <th>0</th>\n",
              "      <th>1</th>\n",
              "    </tr>\n",
              "  </thead>\n",
              "  <tbody>\n",
              "    <tr>\n",
              "      <th>count</th>\n",
              "      <td>10297.000000</td>\n",
              "      <td>1908.000000</td>\n",
              "    </tr>\n",
              "    <tr>\n",
              "      <th>mean</th>\n",
              "      <td>1.999985</td>\n",
              "      <td>27.264518</td>\n",
              "    </tr>\n",
              "    <tr>\n",
              "      <th>std</th>\n",
              "      <td>9.124701</td>\n",
              "      <td>35.191954</td>\n",
              "    </tr>\n",
              "    <tr>\n",
              "      <th>min</th>\n",
              "      <td>0.000000</td>\n",
              "      <td>0.000000</td>\n",
              "    </tr>\n",
              "    <tr>\n",
              "      <th>25%</th>\n",
              "      <td>0.000000</td>\n",
              "      <td>3.641144</td>\n",
              "    </tr>\n",
              "    <tr>\n",
              "      <th>50%</th>\n",
              "      <td>0.000000</td>\n",
              "      <td>16.758134</td>\n",
              "    </tr>\n",
              "    <tr>\n",
              "      <th>75%</th>\n",
              "      <td>0.000000</td>\n",
              "      <td>38.897742</td>\n",
              "    </tr>\n",
              "    <tr>\n",
              "      <th>max</th>\n",
              "      <td>246.758590</td>\n",
              "      <td>361.763742</td>\n",
              "    </tr>\n",
              "  </tbody>\n",
              "</table>\n",
              "</div>"
            ],
            "text/plain": [
              "Revenue             0            1\n",
              "count    10297.000000  1908.000000\n",
              "mean         1.999985    27.264518\n",
              "std          9.124701    35.191954\n",
              "min          0.000000     0.000000\n",
              "25%          0.000000     3.641144\n",
              "50%          0.000000    16.758134\n",
              "75%          0.000000    38.897742\n",
              "max        246.758590   361.763742"
            ]
          },
          "metadata": {},
          "execution_count": 83
        }
      ]
    },
    {
      "cell_type": "code",
      "source": [
        "df.describe().T"
      ],
      "metadata": {
        "colab": {
          "base_uri": "https://localhost:8080/",
          "height": 520
        },
        "id": "lU3vqswtfDqo",
        "outputId": "9bb1024f-a7e9-44c8-a6fd-5af17d6aca03"
      },
      "execution_count": null,
      "outputs": [
        {
          "output_type": "execute_result",
          "data": {
            "text/html": [
              "<div>\n",
              "<style scoped>\n",
              "    .dataframe tbody tr th:only-of-type {\n",
              "        vertical-align: middle;\n",
              "    }\n",
              "\n",
              "    .dataframe tbody tr th {\n",
              "        vertical-align: top;\n",
              "    }\n",
              "\n",
              "    .dataframe thead th {\n",
              "        text-align: right;\n",
              "    }\n",
              "</style>\n",
              "<table border=\"1\" class=\"dataframe\">\n",
              "  <thead>\n",
              "    <tr style=\"text-align: right;\">\n",
              "      <th></th>\n",
              "      <th>count</th>\n",
              "      <th>mean</th>\n",
              "      <th>std</th>\n",
              "      <th>min</th>\n",
              "      <th>25%</th>\n",
              "      <th>50%</th>\n",
              "      <th>75%</th>\n",
              "      <th>max</th>\n",
              "    </tr>\n",
              "  </thead>\n",
              "  <tbody>\n",
              "    <tr>\n",
              "      <th>Administrative</th>\n",
              "      <td>12205.0</td>\n",
              "      <td>2.338878</td>\n",
              "      <td>3.330436</td>\n",
              "      <td>0.0</td>\n",
              "      <td>0.000000</td>\n",
              "      <td>1.000000</td>\n",
              "      <td>4.000000</td>\n",
              "      <td>27.000000</td>\n",
              "    </tr>\n",
              "    <tr>\n",
              "      <th>Administrative_Duration</th>\n",
              "      <td>12205.0</td>\n",
              "      <td>81.646331</td>\n",
              "      <td>177.491845</td>\n",
              "      <td>0.0</td>\n",
              "      <td>0.000000</td>\n",
              "      <td>9.000000</td>\n",
              "      <td>94.700000</td>\n",
              "      <td>3398.750000</td>\n",
              "    </tr>\n",
              "    <tr>\n",
              "      <th>Informational</th>\n",
              "      <td>12205.0</td>\n",
              "      <td>0.508726</td>\n",
              "      <td>1.275617</td>\n",
              "      <td>0.0</td>\n",
              "      <td>0.000000</td>\n",
              "      <td>0.000000</td>\n",
              "      <td>0.000000</td>\n",
              "      <td>24.000000</td>\n",
              "    </tr>\n",
              "    <tr>\n",
              "      <th>Informational_Duration</th>\n",
              "      <td>12205.0</td>\n",
              "      <td>34.825454</td>\n",
              "      <td>141.424807</td>\n",
              "      <td>0.0</td>\n",
              "      <td>0.000000</td>\n",
              "      <td>0.000000</td>\n",
              "      <td>0.000000</td>\n",
              "      <td>2549.375000</td>\n",
              "    </tr>\n",
              "    <tr>\n",
              "      <th>ProductRelated</th>\n",
              "      <td>12205.0</td>\n",
              "      <td>32.045637</td>\n",
              "      <td>44.593649</td>\n",
              "      <td>0.0</td>\n",
              "      <td>8.000000</td>\n",
              "      <td>18.000000</td>\n",
              "      <td>38.000000</td>\n",
              "      <td>705.000000</td>\n",
              "    </tr>\n",
              "    <tr>\n",
              "      <th>ProductRelated_Duration</th>\n",
              "      <td>12205.0</td>\n",
              "      <td>1206.982457</td>\n",
              "      <td>1919.601400</td>\n",
              "      <td>0.0</td>\n",
              "      <td>193.000000</td>\n",
              "      <td>608.942857</td>\n",
              "      <td>1477.154762</td>\n",
              "      <td>63973.522230</td>\n",
              "    </tr>\n",
              "    <tr>\n",
              "      <th>BounceRates</th>\n",
              "      <td>12205.0</td>\n",
              "      <td>0.020370</td>\n",
              "      <td>0.045255</td>\n",
              "      <td>0.0</td>\n",
              "      <td>0.000000</td>\n",
              "      <td>0.002899</td>\n",
              "      <td>0.016667</td>\n",
              "      <td>0.200000</td>\n",
              "    </tr>\n",
              "    <tr>\n",
              "      <th>ExitRates</th>\n",
              "      <td>12205.0</td>\n",
              "      <td>0.041466</td>\n",
              "      <td>0.046163</td>\n",
              "      <td>0.0</td>\n",
              "      <td>0.014231</td>\n",
              "      <td>0.025000</td>\n",
              "      <td>0.048529</td>\n",
              "      <td>0.200000</td>\n",
              "    </tr>\n",
              "    <tr>\n",
              "      <th>PageValues</th>\n",
              "      <td>12205.0</td>\n",
              "      <td>5.949574</td>\n",
              "      <td>18.653671</td>\n",
              "      <td>0.0</td>\n",
              "      <td>0.000000</td>\n",
              "      <td>0.000000</td>\n",
              "      <td>0.000000</td>\n",
              "      <td>361.763742</td>\n",
              "    </tr>\n",
              "    <tr>\n",
              "      <th>SpecialDay</th>\n",
              "      <td>12205.0</td>\n",
              "      <td>0.061942</td>\n",
              "      <td>0.199666</td>\n",
              "      <td>0.0</td>\n",
              "      <td>0.000000</td>\n",
              "      <td>0.000000</td>\n",
              "      <td>0.000000</td>\n",
              "      <td>1.000000</td>\n",
              "    </tr>\n",
              "    <tr>\n",
              "      <th>OperatingSystems</th>\n",
              "      <td>12205.0</td>\n",
              "      <td>2.124211</td>\n",
              "      <td>0.906823</td>\n",
              "      <td>1.0</td>\n",
              "      <td>2.000000</td>\n",
              "      <td>2.000000</td>\n",
              "      <td>3.000000</td>\n",
              "      <td>8.000000</td>\n",
              "    </tr>\n",
              "    <tr>\n",
              "      <th>Browser</th>\n",
              "      <td>12205.0</td>\n",
              "      <td>2.357804</td>\n",
              "      <td>1.710114</td>\n",
              "      <td>1.0</td>\n",
              "      <td>2.000000</td>\n",
              "      <td>2.000000</td>\n",
              "      <td>2.000000</td>\n",
              "      <td>13.000000</td>\n",
              "    </tr>\n",
              "    <tr>\n",
              "      <th>Region</th>\n",
              "      <td>12205.0</td>\n",
              "      <td>3.153298</td>\n",
              "      <td>2.402340</td>\n",
              "      <td>1.0</td>\n",
              "      <td>1.000000</td>\n",
              "      <td>3.000000</td>\n",
              "      <td>4.000000</td>\n",
              "      <td>9.000000</td>\n",
              "    </tr>\n",
              "    <tr>\n",
              "      <th>TrafficType</th>\n",
              "      <td>12205.0</td>\n",
              "      <td>4.073904</td>\n",
              "      <td>4.016654</td>\n",
              "      <td>1.0</td>\n",
              "      <td>2.000000</td>\n",
              "      <td>2.000000</td>\n",
              "      <td>4.000000</td>\n",
              "      <td>20.000000</td>\n",
              "    </tr>\n",
              "    <tr>\n",
              "      <th>Revenue</th>\n",
              "      <td>12205.0</td>\n",
              "      <td>0.156329</td>\n",
              "      <td>0.363182</td>\n",
              "      <td>0.0</td>\n",
              "      <td>0.000000</td>\n",
              "      <td>0.000000</td>\n",
              "      <td>0.000000</td>\n",
              "      <td>1.000000</td>\n",
              "    </tr>\n",
              "  </tbody>\n",
              "</table>\n",
              "</div>"
            ],
            "text/plain": [
              "                           count         mean  ...          75%           max\n",
              "Administrative           12205.0     2.338878  ...     4.000000     27.000000\n",
              "Administrative_Duration  12205.0    81.646331  ...    94.700000   3398.750000\n",
              "Informational            12205.0     0.508726  ...     0.000000     24.000000\n",
              "Informational_Duration   12205.0    34.825454  ...     0.000000   2549.375000\n",
              "ProductRelated           12205.0    32.045637  ...    38.000000    705.000000\n",
              "ProductRelated_Duration  12205.0  1206.982457  ...  1477.154762  63973.522230\n",
              "BounceRates              12205.0     0.020370  ...     0.016667      0.200000\n",
              "ExitRates                12205.0     0.041466  ...     0.048529      0.200000\n",
              "PageValues               12205.0     5.949574  ...     0.000000    361.763742\n",
              "SpecialDay               12205.0     0.061942  ...     0.000000      1.000000\n",
              "OperatingSystems         12205.0     2.124211  ...     3.000000      8.000000\n",
              "Browser                  12205.0     2.357804  ...     2.000000     13.000000\n",
              "Region                   12205.0     3.153298  ...     4.000000      9.000000\n",
              "TrafficType              12205.0     4.073904  ...     4.000000     20.000000\n",
              "Revenue                  12205.0     0.156329  ...     0.000000      1.000000\n",
              "\n",
              "[15 rows x 8 columns]"
            ]
          },
          "metadata": {},
          "execution_count": 84
        }
      ]
    },
    {
      "cell_type": "markdown",
      "source": [
        "## Region"
      ],
      "metadata": {
        "id": "EbrtiitQSzL0"
      }
    },
    {
      "cell_type": "code",
      "source": [
        "print(df[\"Region\"].dtypes,df[\"Region\"].value_counts())"
      ],
      "metadata": {
        "colab": {
          "base_uri": "https://localhost:8080/"
        },
        "id": "Z_iKbOuCSoeY",
        "outputId": "07ab8bcb-a17b-46a3-f8c3-468c268b1df1"
      },
      "execution_count": null,
      "outputs": [
        {
          "output_type": "stream",
          "name": "stdout",
          "text": [
            "int64 1    4714\n",
            "3    2379\n",
            "4    1171\n",
            "2    1128\n",
            "6     801\n",
            "7     758\n",
            "9     505\n",
            "8     431\n",
            "5     318\n",
            "Name: Region, dtype: int64\n"
          ]
        }
      ]
    },
    {
      "cell_type": "code",
      "source": [
        "df['Region']=df['Region'].astype(\"string\")"
      ],
      "metadata": {
        "id": "APyhtyMlTkJK"
      },
      "execution_count": null,
      "outputs": []
    },
    {
      "cell_type": "markdown",
      "source": [
        "## Product related VS ProductRelated_duration"
      ],
      "metadata": {
        "id": "fcda3pssTczG"
      }
    },
    {
      "cell_type": "code",
      "source": [
        "ax = sns.scatterplot(x=\"ProductRelated_Duration\", y=\"ProductRelated\", data=df)"
      ],
      "metadata": {
        "colab": {
          "base_uri": "https://localhost:8080/",
          "height": 280
        },
        "id": "kn6uQ0xUU0pB",
        "outputId": "71f681a9-87ef-411c-e442-1dd453f49a6b"
      },
      "execution_count": null,
      "outputs": [
        {
          "output_type": "display_data",
          "data": {
            "image/png": "[encoded data removed]",
            "text/plain": [
              "<Figure size 432x288 with 1 Axes>"
            ]
          },
          "metadata": {
            "needs_background": "light"
          }
        }
      ]
    },
    {
      "cell_type": "code",
      "source": [
        "df.columns"
      ],
      "metadata": {
        "colab": {
          "base_uri": "https://localhost:8080/"
        },
        "id": "tnD9mBBVSoUk",
        "outputId": "79fb13c5-35ce-4b62-d6a6-cd57a555b537"
      },
      "execution_count": null,
      "outputs": [
        {
          "output_type": "execute_result",
          "data": {
            "text/plain": [
              "Index(['Administrative', 'Administrative_Duration', 'Informational',\n",
              "       'Informational_Duration', 'ProductRelated', 'ProductRelated_Duration',\n",
              "       'BounceRates', 'ExitRates', 'PageValues', 'SpecialDay', 'Month',\n",
              "       'OperatingSystems', 'Browser', 'Region', 'TrafficType', 'VisitorType',\n",
              "       'Weekend', 'Revenue'],\n",
              "      dtype='object')"
            ]
          },
          "metadata": {},
          "execution_count": 88
        }
      ]
    },
    {
      "cell_type": "markdown",
      "source": [
        "## Administrative VS Administrative duration"
      ],
      "metadata": {
        "id": "qxRVJ2swVdR1"
      }
    },
    {
      "cell_type": "code",
      "source": [
        "ax = sns.scatterplot(x=\"Administrative\", y=\"Administrative_Duration\", data=df)"
      ],
      "metadata": {
        "colab": {
          "base_uri": "https://localhost:8080/",
          "height": 279
        },
        "id": "E-gXDqU9SoRw",
        "outputId": "b58752cf-06b4-4e59-f091-adf273436262"
      },
      "execution_count": null,
      "outputs": [
        {
          "output_type": "display_data",
          "data": {
            "image/png": "[encoded data removed]",
            "text/plain": [
              "<Figure size 432x288 with 1 Axes>"
            ]
          },
          "metadata": {
            "needs_background": "light"
          }
        }
      ]
    },
    {
      "cell_type": "markdown",
      "source": [
        "## Bounce rate VS Revenue"
      ],
      "metadata": {
        "id": "Dtb0vfVNVztE"
      }
    },
    {
      "cell_type": "code",
      "source": [
        "ax = sns.boxplot(x=\"Revenue\", y=\"BounceRates\", data=df)\n"
      ],
      "metadata": {
        "colab": {
          "base_uri": "https://localhost:8080/",
          "height": 279
        },
        "id": "G7u8buD7V0i_",
        "outputId": "e35daadf-dcd6-4137-ed92-8f05d4e8e6c0"
      },
      "execution_count": null,
      "outputs": [
        {
          "output_type": "display_data",
          "data": {
            "image/png": "[encoded data removed]",
            "text/plain": [
              "<Figure size 432x288 with 1 Axes>"
            ]
          },
          "metadata": {
            "needs_background": "light"
          }
        }
      ]
    },
    {
      "cell_type": "markdown",
      "source": [
        "## Exit rate vs Revenue"
      ],
      "metadata": {
        "id": "ry91zSYPWyYY"
      }
    },
    {
      "cell_type": "code",
      "source": [
        "ax = sns.boxplot(x=\"Revenue\", y=\"ExitRates\", data=df)"
      ],
      "metadata": {
        "colab": {
          "base_uri": "https://localhost:8080/",
          "height": 279
        },
        "id": "wWfyy1B1WP8I",
        "outputId": "05c0fa3b-612c-4d07-97fd-e647b3c8be64"
      },
      "execution_count": null,
      "outputs": [
        {
          "output_type": "display_data",
          "data": {
            "image/png": "[encoded data removed]",
            "text/plain": [
              "<Figure size 432x288 with 1 Axes>"
            ]
          },
          "metadata": {
            "needs_background": "light"
          }
        }
      ]
    },
    {
      "cell_type": "markdown",
      "source": [
        "## Bounce rate vs Exit Rate"
      ],
      "metadata": {
        "id": "zcMa-63WW37E"
      }
    },
    {
      "cell_type": "code",
      "source": [
        "ax = sns.scatterplot(x=\"BounceRates\", y=\"ExitRates\", data=df)"
      ],
      "metadata": {
        "colab": {
          "base_uri": "https://localhost:8080/",
          "height": 279
        },
        "id": "bxFmHiNOW3JV",
        "outputId": "700a3057-0f98-4a40-b8cc-a1535c19e952"
      },
      "execution_count": null,
      "outputs": [
        {
          "output_type": "display_data",
          "data": {
            "image/png": "[encoded data removed]",
            "text/plain": [
              "<Figure size 432x288 with 1 Axes>"
            ]
          },
          "metadata": {
            "needs_background": "light"
          }
        }
      ]
    },
    {
      "cell_type": "markdown",
      "source": [
        "### Let's look at our categorical variable month\n"
      ],
      "metadata": {
        "id": "mMKvPBdMgURm"
      }
    },
    {
      "cell_type": "code",
      "source": [
        "df.Month.nunique()"
      ],
      "metadata": {
        "colab": {
          "base_uri": "https://localhost:8080/"
        },
        "id": "buUbsk4dg3lk",
        "outputId": "65af0369-39e7-471d-ac15-3be874b8b22b"
      },
      "execution_count": null,
      "outputs": [
        {
          "output_type": "execute_result",
          "data": {
            "text/plain": [
              "10"
            ]
          },
          "metadata": {},
          "execution_count": 93
        }
      ]
    },
    {
      "cell_type": "markdown",
      "source": [
        "We have potentially 2 months are missing"
      ],
      "metadata": {
        "id": "4LoDqLNYhKvA"
      }
    },
    {
      "cell_type": "code",
      "source": [
        "df.Month.unique()"
      ],
      "metadata": {
        "colab": {
          "base_uri": "https://localhost:8080/"
        },
        "id": "5oPLWu0ogp0a",
        "outputId": "3c7223da-8e33-48fa-d9c8-b0dd8de442b9"
      },
      "execution_count": null,
      "outputs": [
        {
          "output_type": "execute_result",
          "data": {
            "text/plain": [
              "array(['Feb', 'Mar', 'May', 'Oct', 'June', 'Jul', 'Aug', 'Nov', 'Sep',\n",
              "       'Dec'], dtype=object)"
            ]
          },
          "metadata": {},
          "execution_count": 94
        }
      ]
    },
    {
      "cell_type": "markdown",
      "source": [
        "### Month VS Target variable"
      ],
      "metadata": {
        "id": "cW2Nf388mAL9"
      }
    },
    {
      "cell_type": "code",
      "source": [
        "from scipy.stats import chi2_contingency\n",
        "from scipy.stats import chi2\n",
        "def chi_square(column_1, column_2):\n",
        "  \"\"\"\n",
        "  This function help to identify if our variable are independent or dependent\n",
        "  \"\"\"\n",
        "  data_crosstab = pd.crosstab(column_1,column_2, margins = False)\n",
        "\n",
        "  stat, p, dof, expected = chi2_contingency(data_crosstab)\n",
        "\n",
        "    #We put our degree of significance at 95%\n",
        "  prob = 0.95\n",
        "  critical = chi2.ppf(prob, dof)\n",
        "  if abs(stat) >= critical:\n",
        "    print('Dependent (reject H0), our variable could be a candidate to predict our target')\n",
        "  else:\n",
        "    print(\"Independent (fail to reject H0), our variable couldn't be a candidate to predict our target\")"
      ],
      "metadata": {
        "id": "UQpBWqAwnNTg"
      },
      "execution_count": null,
      "outputs": []
    },
    {
      "cell_type": "code",
      "source": [
        "#Our target variable\n",
        "plt.figure(figsize=(12,4))\n",
        "month_order=['Feb', 'Mar', 'May', 'June', 'Jul', 'Aug', 'Sep', 'Oct', 'Dec']\n",
        "sns.countplot(x='Month',data=df,order=month_order,hue='Revenue');"
      ],
      "metadata": {
        "colab": {
          "base_uri": "https://localhost:8080/",
          "height": 279
        },
        "id": "oBPoEft4gd0q",
        "outputId": "8e72e500-b3ce-466e-9c2f-b7bba8821dc4"
      },
      "execution_count": null,
      "outputs": [
        {
          "output_type": "display_data",
          "data": {
            "image/png": "[encoded data removed]",
            "text/plain": [
              "<Figure size 864x288 with 1 Axes>"
            ]
          },
          "metadata": {
            "needs_background": "light"
          }
        }
      ]
    },
    {
      "cell_type": "code",
      "source": [
        "chi_square(column_1=df['Month'], column_2=df['Revenue'])"
      ],
      "metadata": {
        "colab": {
          "base_uri": "https://localhost:8080/"
        },
        "id": "PT4_-iXz9XHx",
        "outputId": "0fce2609-6428-4fd0-8142-115cab48abaf"
      },
      "execution_count": null,
      "outputs": [
        {
          "output_type": "stream",
          "name": "stdout",
          "text": [
            "Dependent (reject H0), our variable could be a candidate to predict our target\n"
          ]
        }
      ]
    },
    {
      "cell_type": "code",
      "source": [
        "#Weekend \n",
        "plt.figure(figsize=(12,4))\n",
        "sns.countplot(x='Weekend',data=df,hue='Revenue')"
      ],
      "metadata": {
        "colab": {
          "base_uri": "https://localhost:8080/",
          "height": 296
        },
        "id": "aO1a1THRl4kg",
        "outputId": "08b5061a-d68e-4868-ab44-6aea55b0324e"
      },
      "execution_count": null,
      "outputs": [
        {
          "output_type": "execute_result",
          "data": {
            "text/plain": [
              "<matplotlib.axes._subplots.AxesSubplot at 0x7fdbea5d5490>"
            ]
          },
          "metadata": {},
          "execution_count": 97
        },
        {
          "output_type": "display_data",
          "data": {
            "image/png": "[encoded data removed]",
            "text/plain": [
              "<Figure size 864x288 with 1 Axes>"
            ]
          },
          "metadata": {
            "needs_background": "light"
          }
        }
      ]
    },
    {
      "cell_type": "code",
      "source": [
        "chi_square(column_1=df['Weekend'], column_2=df['Revenue'])"
      ],
      "metadata": {
        "colab": {
          "base_uri": "https://localhost:8080/"
        },
        "id": "a2X9kTbB9caB",
        "outputId": "0b5e459e-52bb-44ea-8f9b-92b5f5002ee9"
      },
      "execution_count": null,
      "outputs": [
        {
          "output_type": "stream",
          "name": "stdout",
          "text": [
            "Dependent (reject H0), our variable could be a candidate to predict our target\n"
          ]
        }
      ]
    },
    {
      "cell_type": "markdown",
      "source": [
        "The churn seems to increase the weekend."
      ],
      "metadata": {
        "id": "LMNhND7Zq10f"
      }
    },
    {
      "cell_type": "code",
      "source": [
        "#Visitor type\n",
        "plt.figure(figsize=(12,4))\n",
        "sns.countplot(x='VisitorType',data=df,hue='Revenue')"
      ],
      "metadata": {
        "colab": {
          "base_uri": "https://localhost:8080/",
          "height": 297
        },
        "id": "14EbtvZrqZKs",
        "outputId": "ed5559a6-91d7-4978-c4de-7856bdf2109c"
      },
      "execution_count": null,
      "outputs": [
        {
          "output_type": "execute_result",
          "data": {
            "text/plain": [
              "<matplotlib.axes._subplots.AxesSubplot at 0x7fdbee121690>"
            ]
          },
          "metadata": {},
          "execution_count": 98
        },
        {
          "output_type": "display_data",
          "data": {
            "image/png": "[encoded data removed]",
            "text/plain": [
              "<Figure size 864x288 with 1 Axes>"
            ]
          },
          "metadata": {
            "needs_background": "light"
          }
        }
      ]
    },
    {
      "cell_type": "code",
      "source": [
        "chi_square(column_1=df['VisitorType'], column_2=df['Revenue'])"
      ],
      "metadata": {
        "colab": {
          "base_uri": "https://localhost:8080/"
        },
        "id": "kUn6luiD9RlO",
        "outputId": "94e50e37-54c0-466f-beac-718be5e405b1"
      },
      "execution_count": null,
      "outputs": [
        {
          "output_type": "stream",
          "name": "stdout",
          "text": [
            "Dependent (reject H0), our variable could be a candidate to predict our target\n"
          ]
        }
      ]
    },
    {
      "cell_type": "markdown",
      "source": [
        "The type of visitor seems to imapct our target variable, let's confirm it with chi square."
      ],
      "metadata": {
        "id": "PcMwy4o-rRP2"
      }
    },
    {
      "cell_type": "code",
      "source": [
        "#Visitor type\n",
        "plt.figure(figsize=(12,4))\n",
        "sns.countplot(x='TrafficType',data=df,hue='Revenue')"
      ],
      "metadata": {
        "colab": {
          "base_uri": "https://localhost:8080/",
          "height": 296
        },
        "id": "US6N14Pzs3iB",
        "outputId": "ad17931e-4281-47b1-99a0-4613e2fbc54d"
      },
      "execution_count": null,
      "outputs": [
        {
          "output_type": "execute_result",
          "data": {
            "text/plain": [
              "<matplotlib.axes._subplots.AxesSubplot at 0x7fdc08c9c550>"
            ]
          },
          "metadata": {},
          "execution_count": 99
        },
        {
          "output_type": "display_data",
          "data": {
            "image/png": "[encoded data removed]",
            "text/plain": [
              "<Figure size 864x288 with 1 Axes>"
            ]
          },
          "metadata": {
            "needs_background": "light"
          }
        }
      ]
    },
    {
      "cell_type": "code",
      "source": [
        "chi_square(column_1=df['TrafficType'], column_2=df['Revenue'])"
      ],
      "metadata": {
        "colab": {
          "base_uri": "https://localhost:8080/"
        },
        "id": "SIofA5ZQ8_Ku",
        "outputId": "f9e7e1d7-c222-47cb-a0e7-0e85edb35c00"
      },
      "execution_count": null,
      "outputs": [
        {
          "output_type": "stream",
          "name": "stdout",
          "text": [
            "Dependent (reject H0), our variable could be a candidate to predict our target\n"
          ]
        }
      ]
    },
    {
      "cell_type": "markdown",
      "source": [
        "## browser"
      ],
      "metadata": {
        "id": "Mf2XXMekYWma"
      }
    },
    {
      "cell_type": "code",
      "source": [
        "plt.figure(figsize=(12,4))\n",
        "sns.countplot(x='Browser',data=df,hue='Revenue')"
      ],
      "metadata": {
        "colab": {
          "base_uri": "https://localhost:8080/",
          "height": 296
        },
        "id": "55NyJ6-cYZEt",
        "outputId": "16a884fb-e509-4b75-f636-2d493ed6dc5c"
      },
      "execution_count": null,
      "outputs": [
        {
          "output_type": "execute_result",
          "data": {
            "text/plain": [
              "<matplotlib.axes._subplots.AxesSubplot at 0x7fdc08ca5090>"
            ]
          },
          "metadata": {},
          "execution_count": 100
        },
        {
          "output_type": "display_data",
          "data": {
            "image/png": "[encoded data removed]",
            "text/plain": [
              "<Figure size 864x288 with 1 Axes>"
            ]
          },
          "metadata": {
            "needs_background": "light"
          }
        }
      ]
    },
    {
      "cell_type": "code",
      "source": [
        "chi_square(column_1=df['Browser'], column_2=df['Revenue'])"
      ],
      "metadata": {
        "colab": {
          "base_uri": "https://localhost:8080/"
        },
        "id": "F3aLRK3a83FR",
        "outputId": "7f003ab4-26eb-4ef4-bee7-34f82d96d8d5"
      },
      "execution_count": null,
      "outputs": [
        {
          "output_type": "stream",
          "name": "stdout",
          "text": [
            "Dependent (reject H0), our variable could be a candidate to predict our target\n"
          ]
        }
      ]
    },
    {
      "cell_type": "markdown",
      "source": [
        "## OperatingSystems"
      ],
      "metadata": {
        "id": "BUdiDWv2Y0Tr"
      }
    },
    {
      "cell_type": "code",
      "source": [
        "\n",
        "plt.figure(figsize=(12,4))\n",
        "sns.countplot(x='OperatingSystems',data=df,hue='Revenue')"
      ],
      "metadata": {
        "colab": {
          "base_uri": "https://localhost:8080/",
          "height": 296
        },
        "id": "XQ8ClUUJYn-9",
        "outputId": "876ef0ef-00d3-4222-a4b2-a5e3da17e2ff"
      },
      "execution_count": null,
      "outputs": [
        {
          "output_type": "execute_result",
          "data": {
            "text/plain": [
              "<matplotlib.axes._subplots.AxesSubplot at 0x7fdbeaa0b890>"
            ]
          },
          "metadata": {},
          "execution_count": 101
        },
        {
          "output_type": "display_data",
          "data": {
            "image/png": "[encoded data removed]",
            "text/plain": [
              "<Figure size 864x288 with 1 Axes>"
            ]
          },
          "metadata": {
            "needs_background": "light"
          }
        }
      ]
    },
    {
      "cell_type": "code",
      "source": [
        "chi_square(column_1=df['OperatingSystems'], column_2=df['Revenue'])"
      ],
      "metadata": {
        "colab": {
          "base_uri": "https://localhost:8080/"
        },
        "id": "28x-Q3bm8vGg",
        "outputId": "b0719116-5c62-4865-ac97-518540b32fce"
      },
      "execution_count": null,
      "outputs": [
        {
          "output_type": "stream",
          "name": "stdout",
          "text": [
            "Dependent (reject H0), our variable could be a candidate to predict our target\n"
          ]
        }
      ]
    },
    {
      "cell_type": "markdown",
      "source": [
        "## Special day"
      ],
      "metadata": {
        "id": "_49wJf-GX0d1"
      }
    },
    {
      "cell_type": "code",
      "source": [
        "plt.figure(figsize=(12,4))\n",
        "sns.countplot(x='SpecialDay',data=df,hue='Revenue')"
      ],
      "metadata": {
        "colab": {
          "base_uri": "https://localhost:8080/",
          "height": 296
        },
        "id": "mcp907EBXzhB",
        "outputId": "d5c1bbf3-5514-4266-90d0-952735d2abc3"
      },
      "execution_count": null,
      "outputs": [
        {
          "output_type": "execute_result",
          "data": {
            "text/plain": [
              "<matplotlib.axes._subplots.AxesSubplot at 0x7fdbea8f3b10>"
            ]
          },
          "metadata": {},
          "execution_count": 102
        },
        {
          "output_type": "display_data",
          "data": {
            "image/png": "[encoded data removed]",
            "text/plain": [
              "<Figure size 864x288 with 1 Axes>"
            ]
          },
          "metadata": {
            "needs_background": "light"
          }
        }
      ]
    },
    {
      "cell_type": "code",
      "source": [
        "chi_square(column_1=df['SpecialDay'], column_2=df['Revenue'])"
      ],
      "metadata": {
        "colab": {
          "base_uri": "https://localhost:8080/"
        },
        "id": "OAgrEppq8VYA",
        "outputId": "3c89f384-dcdf-47d1-c727-3bc3477f94d2"
      },
      "execution_count": null,
      "outputs": [
        {
          "output_type": "stream",
          "name": "stdout",
          "text": [
            "Dependent (reject H0), our variable could be a candidate to predict our target\n"
          ]
        }
      ]
    },
    {
      "cell_type": "markdown",
      "source": [
        "#feature engineering "
      ],
      "metadata": {
        "id": "VamfpYmpxlVu"
      }
    },
    {
      "cell_type": "code",
      "source": [
        "df_temp=df.copy()"
      ],
      "metadata": {
        "id": "NqIEjSGXxoB1"
      },
      "execution_count": null,
      "outputs": []
    },
    {
      "cell_type": "code",
      "source": [
        "df_temp.columns"
      ],
      "metadata": {
        "colab": {
          "base_uri": "https://localhost:8080/"
        },
        "id": "8oBwZKkvx7MZ",
        "outputId": "72b04eb9-3901-4e78-bdf4-9aac8037fc4c"
      },
      "execution_count": null,
      "outputs": [
        {
          "output_type": "execute_result",
          "data": {
            "text/plain": [
              "Index(['Administrative', 'Administrative_Duration', 'Informational',\n",
              "       'Informational_Duration', 'ProductRelated', 'ProductRelated_Duration',\n",
              "       'BounceRates', 'ExitRates', 'PageValues', 'SpecialDay', 'Month',\n",
              "       'OperatingSystems', 'Browser', 'Region', 'TrafficType', 'VisitorType',\n",
              "       'Weekend', 'Revenue'],\n",
              "      dtype='object')"
            ]
          },
          "metadata": {},
          "execution_count": 104
        }
      ]
    },
    {
      "cell_type": "code",
      "source": [
        "df_temp['TotalPages'] = df_temp['Administrative'] + df_temp['Informational'] + df_temp['ProductRelated']\n",
        "df_temp['Duration']=df_temp['Administrative_Duration'] + df_temp['Informational_Duration'] + df_temp['ProductRelated_Duration']"
      ],
      "metadata": {
        "id": "g7jjuc9VxwtZ"
      },
      "execution_count": null,
      "outputs": []
    },
    {
      "cell_type": "code",
      "source": [
        "df_temp.corr()['Revenue']"
      ],
      "metadata": {
        "colab": {
          "base_uri": "https://localhost:8080/"
        },
        "id": "gPTGPw_IyUjc",
        "outputId": "c31c5ad9-f80c-44f2-bd15-452baa557fa9"
      },
      "execution_count": null,
      "outputs": [
        {
          "output_type": "execute_result",
          "data": {
            "text/plain": [
              "Administrative             0.136330\n",
              "Administrative_Duration    0.091768\n",
              "Informational              0.093626\n",
              "Informational_Duration     0.069358\n",
              "ProductRelated             0.156042\n",
              "ProductRelated_Duration    0.150077\n",
              "BounceRates               -0.145091\n",
              "ExitRates                 -0.204320\n",
              "PageValues                 0.491894\n",
              "SpecialDay                -0.083601\n",
              "OperatingSystems          -0.014927\n",
              "Browser                    0.024052\n",
              "TrafficType               -0.005618\n",
              "Weekend                    0.027729\n",
              "Revenue                    1.000000\n",
              "TotalPages                 0.161535\n",
              "Duration                   0.153720\n",
              "Name: Revenue, dtype: float64"
            ]
          },
          "metadata": {},
          "execution_count": 106
        }
      ]
    },
    {
      "cell_type": "markdown",
      "source": [
        "Not bad, the duration is much more correlated to the target variables than all the duration sperately.\n",
        "Same for the total pages and all the number of pages separtely."
      ],
      "metadata": {
        "id": "WBPWcrJd0FeX"
      }
    },
    {
      "cell_type": "markdown",
      "source": [
        "# Preparation of the data "
      ],
      "metadata": {
        "id": "X1ySb-gRk3_8"
      }
    },
    {
      "cell_type": "code",
      "source": [
        "df_temp.info()"
      ],
      "metadata": {
        "colab": {
          "base_uri": "https://localhost:8080/"
        },
        "id": "rh4Mmkm9qN03",
        "outputId": "dc5cc7f8-f0d7-496d-a56f-b189c4c57356"
      },
      "execution_count": null,
      "outputs": [
        {
          "output_type": "stream",
          "name": "stdout",
          "text": [
            "<class 'pandas.core.frame.DataFrame'>\n",
            "Int64Index: 12205 entries, 0 to 12329\n",
            "Data columns (total 20 columns):\n",
            " #   Column                   Non-Null Count  Dtype  \n",
            "---  ------                   --------------  -----  \n",
            " 0   Administrative           12205 non-null  int64  \n",
            " 1   Administrative_Duration  12205 non-null  float64\n",
            " 2   Informational            12205 non-null  int64  \n",
            " 3   Informational_Duration   12205 non-null  float64\n",
            " 4   ProductRelated           12205 non-null  int64  \n",
            " 5   ProductRelated_Duration  12205 non-null  float64\n",
            " 6   BounceRates              12205 non-null  float64\n",
            " 7   ExitRates                12205 non-null  float64\n",
            " 8   PageValues               12205 non-null  float64\n",
            " 9   SpecialDay               12205 non-null  float64\n",
            " 10  Month                    12205 non-null  object \n",
            " 11  OperatingSystems         12205 non-null  int64  \n",
            " 12  Browser                  12205 non-null  int64  \n",
            " 13  Region                   12205 non-null  string \n",
            " 14  TrafficType              12205 non-null  int64  \n",
            " 15  VisitorType              12205 non-null  object \n",
            " 16  Weekend                  12205 non-null  bool   \n",
            " 17  Revenue                  12205 non-null  int64  \n",
            " 18  TotalPages               12205 non-null  int64  \n",
            " 19  Duration                 12205 non-null  float64\n",
            "dtypes: bool(1), float64(8), int64(8), object(2), string(1)\n",
            "memory usage: 2.2+ MB\n"
          ]
        }
      ]
    },
    {
      "cell_type": "markdown",
      "source": [
        "## weekend"
      ],
      "metadata": {
        "id": "DJwwtkcjjCzs"
      }
    },
    {
      "cell_type": "code",
      "source": [
        "df_temp['Weekend']=df_temp['Weekend'].astype(int)"
      ],
      "metadata": {
        "id": "HMGhjKKHjAhd"
      },
      "execution_count": null,
      "outputs": []
    },
    {
      "cell_type": "markdown",
      "source": [
        "## Encoding"
      ],
      "metadata": {
        "id": "S-lT4ysCd-ut"
      }
    },
    {
      "cell_type": "code",
      "source": [
        "from sklearn.preprocessing import OneHotEncoder\n",
        "# Encoding categorical attributes\n",
        "categorical = ['Month', 'OperatingSystems', 'Browser', 'Region', 'TrafficType', 'VisitorType']\n",
        "enc = OneHotEncoder(handle_unknown='ignore')\n",
        "transformer = enc.fit_transform(df_temp.loc[:, categorical].values)\n",
        "\n",
        "enc_data = pd.DataFrame(\n",
        "    transformer.toarray(), \n",
        "    index=df_temp.index.values,\n",
        "    columns=enc.get_feature_names(categorical))\n",
        "encode_df_temp = pd.merge(df_temp, enc_data, left_index=True, right_index=True)\n",
        "encode_df_temp.drop(columns=categorical, inplace=True)\n",
        "print(\"Done\")\n",
        "\n"
      ],
      "metadata": {
        "colab": {
          "base_uri": "https://localhost:8080/"
        },
        "id": "dfDMGd6JdeNs",
        "outputId": "fd98d521-871d-4964-e78a-d965da45b8b5"
      },
      "execution_count": null,
      "outputs": [
        {
          "output_type": "stream",
          "name": "stdout",
          "text": [
            "Done\n"
          ]
        },
        {
          "output_type": "stream",
          "name": "stderr",
          "text": [
            "/usr/local/lib/python3.7/dist-packages/sklearn/utils/deprecation.py:87: FutureWarning: Function get_feature_names is deprecated; get_feature_names is deprecated in 1.0 and will be removed in 1.2. Please use get_feature_names_out instead.\n",
            "  warnings.warn(msg, category=FutureWarning)\n"
          ]
        }
      ]
    },
    {
      "cell_type": "markdown",
      "source": [
        "# Create a train and test set"
      ],
      "metadata": {
        "id": "KVL9xnidk7wV"
      }
    },
    {
      "cell_type": "code",
      "source": [
        "from sklearn.model_selection import train_test_split"
      ],
      "metadata": {
        "id": "8r3k2VLzrD7w"
      },
      "execution_count": null,
      "outputs": []
    },
    {
      "cell_type": "code",
      "source": [
        "X=encode_df_temp.drop(\"Revenue\", axis=1)\n",
        "y=encode_df_temp['Revenue']\n",
        "X_train, X_test, y_train, y_test = train_test_split(X, y, test_size=0.20)"
      ],
      "metadata": {
        "id": "VlV_m-Xjk0M3"
      },
      "execution_count": null,
      "outputs": []
    },
    {
      "cell_type": "code",
      "source": [
        "X_train.describe()"
      ],
      "metadata": {
        "colab": {
          "base_uri": "https://localhost:8080/",
          "height": 320
        },
        "id": "5m0CGzMD1ak0",
        "outputId": "b725ca01-aae8-4359-ccb8-ddb7dd2e8365"
      },
      "execution_count": null,
      "outputs": [
        {
          "output_type": "execute_result",
          "data": {
            "text/html": [
              "<div>\n",
              "<style scoped>\n",
              "    .dataframe tbody tr th:only-of-type {\n",
              "        vertical-align: middle;\n",
              "    }\n",
              "\n",
              "    .dataframe tbody tr th {\n",
              "        vertical-align: top;\n",
              "    }\n",
              "\n",
              "    .dataframe thead th {\n",
              "        text-align: right;\n",
              "    }\n",
              "</style>\n",
              "<table border=\"1\" class=\"dataframe\">\n",
              "  <thead>\n",
              "    <tr style=\"text-align: right;\">\n",
              "      <th></th>\n",
              "      <th>Administrative</th>\n",
              "      <th>Administrative_Duration</th>\n",
              "      <th>Informational</th>\n",
              "      <th>Informational_Duration</th>\n",
              "      <th>ProductRelated</th>\n",
              "      <th>ProductRelated_Duration</th>\n",
              "      <th>BounceRates</th>\n",
              "      <th>ExitRates</th>\n",
              "      <th>PageValues</th>\n",
              "      <th>SpecialDay</th>\n",
              "      <th>Weekend</th>\n",
              "      <th>TotalPages</th>\n",
              "      <th>Duration</th>\n",
              "      <th>Month_Aug</th>\n",
              "      <th>Month_Dec</th>\n",
              "      <th>Month_Feb</th>\n",
              "      <th>Month_Jul</th>\n",
              "      <th>Month_June</th>\n",
              "      <th>Month_Mar</th>\n",
              "      <th>Month_May</th>\n",
              "      <th>Month_Nov</th>\n",
              "      <th>Month_Oct</th>\n",
              "      <th>Month_Sep</th>\n",
              "      <th>OperatingSystems_1</th>\n",
              "      <th>OperatingSystems_2</th>\n",
              "      <th>OperatingSystems_3</th>\n",
              "      <th>OperatingSystems_4</th>\n",
              "      <th>OperatingSystems_5</th>\n",
              "      <th>OperatingSystems_6</th>\n",
              "      <th>OperatingSystems_7</th>\n",
              "      <th>OperatingSystems_8</th>\n",
              "      <th>Browser_1</th>\n",
              "      <th>Browser_2</th>\n",
              "      <th>Browser_3</th>\n",
              "      <th>Browser_4</th>\n",
              "      <th>Browser_5</th>\n",
              "      <th>Browser_6</th>\n",
              "      <th>Browser_7</th>\n",
              "      <th>Browser_8</th>\n",
              "      <th>Browser_9</th>\n",
              "      <th>Browser_10</th>\n",
              "      <th>Browser_11</th>\n",
              "      <th>Browser_12</th>\n",
              "      <th>Browser_13</th>\n",
              "      <th>Region_1</th>\n",
              "      <th>Region_2</th>\n",
              "      <th>Region_3</th>\n",
              "      <th>Region_4</th>\n",
              "      <th>Region_5</th>\n",
              "      <th>Region_6</th>\n",
              "      <th>Region_7</th>\n",
              "      <th>Region_8</th>\n",
              "      <th>Region_9</th>\n",
              "      <th>TrafficType_1</th>\n",
              "      <th>TrafficType_2</th>\n",
              "      <th>TrafficType_3</th>\n",
              "      <th>TrafficType_4</th>\n",
              "      <th>TrafficType_5</th>\n",
              "      <th>TrafficType_6</th>\n",
              "      <th>TrafficType_7</th>\n",
              "      <th>TrafficType_8</th>\n",
              "      <th>TrafficType_9</th>\n",
              "      <th>TrafficType_10</th>\n",
              "      <th>TrafficType_11</th>\n",
              "      <th>TrafficType_12</th>\n",
              "      <th>TrafficType_13</th>\n",
              "      <th>TrafficType_14</th>\n",
              "      <th>TrafficType_15</th>\n",
              "      <th>TrafficType_16</th>\n",
              "      <th>TrafficType_17</th>\n",
              "      <th>TrafficType_18</th>\n",
              "      <th>TrafficType_19</th>\n",
              "      <th>TrafficType_20</th>\n",
              "      <th>VisitorType_New_Visitor</th>\n",
              "      <th>VisitorType_Other</th>\n",
              "      <th>VisitorType_Returning_Visitor</th>\n",
              "    </tr>\n",
              "  </thead>\n",
              "  <tbody>\n",
              "    <tr>\n",
              "      <th>count</th>\n",
              "      <td>9764.000000</td>\n",
              "      <td>9764.000000</td>\n",
              "      <td>9764.000000</td>\n",
              "      <td>9764.000000</td>\n",
              "      <td>9764.000000</td>\n",
              "      <td>9764.000000</td>\n",
              "      <td>9764.000000</td>\n",
              "      <td>9764.000000</td>\n",
              "      <td>9764.000000</td>\n",
              "      <td>9764.000000</td>\n",
              "      <td>9764.000000</td>\n",
              "      <td>9764.000000</td>\n",
              "      <td>9764.000000</td>\n",
              "      <td>9764.000000</td>\n",
              "      <td>9764.000000</td>\n",
              "      <td>9764.000000</td>\n",
              "      <td>9764.000000</td>\n",
              "      <td>9764.000000</td>\n",
              "      <td>9764.000000</td>\n",
              "      <td>9764.000000</td>\n",
              "      <td>9764.000000</td>\n",
              "      <td>9764.000000</td>\n",
              "      <td>9764.000000</td>\n",
              "      <td>9764.000000</td>\n",
              "      <td>9764.000000</td>\n",
              "      <td>9764.000000</td>\n",
              "      <td>9764.000000</td>\n",
              "      <td>9764.000000</td>\n",
              "      <td>9764.000000</td>\n",
              "      <td>9764.000000</td>\n",
              "      <td>9764.000000</td>\n",
              "      <td>9764.000000</td>\n",
              "      <td>9764.000000</td>\n",
              "      <td>9764.000000</td>\n",
              "      <td>9764.000000</td>\n",
              "      <td>9764.000000</td>\n",
              "      <td>9764.000000</td>\n",
              "      <td>9764.000000</td>\n",
              "      <td>9764.000000</td>\n",
              "      <td>9764.000000</td>\n",
              "      <td>9764.000000</td>\n",
              "      <td>9764.000000</td>\n",
              "      <td>9764.000000</td>\n",
              "      <td>9764.000000</td>\n",
              "      <td>9764.000000</td>\n",
              "      <td>9764.000000</td>\n",
              "      <td>9764.000000</td>\n",
              "      <td>9764.000000</td>\n",
              "      <td>9764.000000</td>\n",
              "      <td>9764.000000</td>\n",
              "      <td>9764.000000</td>\n",
              "      <td>9764.000000</td>\n",
              "      <td>9764.000000</td>\n",
              "      <td>9764.000000</td>\n",
              "      <td>9764.000000</td>\n",
              "      <td>9764.000000</td>\n",
              "      <td>9764.000000</td>\n",
              "      <td>9764.000000</td>\n",
              "      <td>9764.000000</td>\n",
              "      <td>9764.000000</td>\n",
              "      <td>9764.000000</td>\n",
              "      <td>9764.000000</td>\n",
              "      <td>9764.000000</td>\n",
              "      <td>9764.000000</td>\n",
              "      <td>9764.000000</td>\n",
              "      <td>9764.000000</td>\n",
              "      <td>9764.000000</td>\n",
              "      <td>9764.00000</td>\n",
              "      <td>9764.000000</td>\n",
              "      <td>9764.000000</td>\n",
              "      <td>9764.000000</td>\n",
              "      <td>9764.000000</td>\n",
              "      <td>9764.000000</td>\n",
              "      <td>9764.000000</td>\n",
              "      <td>9764.000000</td>\n",
              "      <td>9764.000000</td>\n",
              "    </tr>\n",
              "    <tr>\n",
              "      <th>mean</th>\n",
              "      <td>2.357845</td>\n",
              "      <td>82.733890</td>\n",
              "      <td>0.512905</td>\n",
              "      <td>34.441053</td>\n",
              "      <td>32.201045</td>\n",
              "      <td>1210.563767</td>\n",
              "      <td>0.020344</td>\n",
              "      <td>0.041388</td>\n",
              "      <td>5.894154</td>\n",
              "      <td>0.064031</td>\n",
              "      <td>0.236276</td>\n",
              "      <td>35.071794</td>\n",
              "      <td>1327.738710</td>\n",
              "      <td>0.035334</td>\n",
              "      <td>0.137853</td>\n",
              "      <td>0.014748</td>\n",
              "      <td>0.034617</td>\n",
              "      <td>0.022224</td>\n",
              "      <td>0.153011</td>\n",
              "      <td>0.274887</td>\n",
              "      <td>0.245186</td>\n",
              "      <td>0.045576</td>\n",
              "      <td>0.036563</td>\n",
              "      <td>0.210467</td>\n",
              "      <td>0.534515</td>\n",
              "      <td>0.207087</td>\n",
              "      <td>0.039123</td>\n",
              "      <td>0.000512</td>\n",
              "      <td>0.001844</td>\n",
              "      <td>0.000717</td>\n",
              "      <td>0.005735</td>\n",
              "      <td>0.200635</td>\n",
              "      <td>0.642052</td>\n",
              "      <td>0.009115</td>\n",
              "      <td>0.059607</td>\n",
              "      <td>0.038918</td>\n",
              "      <td>0.013929</td>\n",
              "      <td>0.004097</td>\n",
              "      <td>0.011676</td>\n",
              "      <td>0.000102</td>\n",
              "      <td>0.013826</td>\n",
              "      <td>0.000512</td>\n",
              "      <td>0.000717</td>\n",
              "      <td>0.004814</td>\n",
              "      <td>0.384269</td>\n",
              "      <td>0.092175</td>\n",
              "      <td>0.197870</td>\n",
              "      <td>0.097296</td>\n",
              "      <td>0.026321</td>\n",
              "      <td>0.064215</td>\n",
              "      <td>0.060324</td>\n",
              "      <td>0.035846</td>\n",
              "      <td>0.041684</td>\n",
              "      <td>0.196129</td>\n",
              "      <td>0.320156</td>\n",
              "      <td>0.163458</td>\n",
              "      <td>0.086235</td>\n",
              "      <td>0.022020</td>\n",
              "      <td>0.036973</td>\n",
              "      <td>0.003482</td>\n",
              "      <td>0.028267</td>\n",
              "      <td>0.003073</td>\n",
              "      <td>0.036460</td>\n",
              "      <td>0.020176</td>\n",
              "      <td>0.000102</td>\n",
              "      <td>0.061450</td>\n",
              "      <td>0.001024</td>\n",
              "      <td>0.00338</td>\n",
              "      <td>0.000102</td>\n",
              "      <td>0.000102</td>\n",
              "      <td>0.000922</td>\n",
              "      <td>0.001127</td>\n",
              "      <td>0.015363</td>\n",
              "      <td>0.138161</td>\n",
              "      <td>0.006350</td>\n",
              "      <td>0.855490</td>\n",
              "    </tr>\n",
              "    <tr>\n",
              "      <th>std</th>\n",
              "      <td>3.332379</td>\n",
              "      <td>177.313819</td>\n",
              "      <td>1.290427</td>\n",
              "      <td>137.407018</td>\n",
              "      <td>45.291384</td>\n",
              "      <td>1950.160335</td>\n",
              "      <td>0.045196</td>\n",
              "      <td>0.046131</td>\n",
              "      <td>18.441877</td>\n",
              "      <td>0.202304</td>\n",
              "      <td>0.424815</td>\n",
              "      <td>47.363325</td>\n",
              "      <td>2072.801549</td>\n",
              "      <td>0.184632</td>\n",
              "      <td>0.344764</td>\n",
              "      <td>0.120549</td>\n",
              "      <td>0.182817</td>\n",
              "      <td>0.147420</td>\n",
              "      <td>0.360017</td>\n",
              "      <td>0.446480</td>\n",
              "      <td>0.430220</td>\n",
              "      <td>0.208574</td>\n",
              "      <td>0.187696</td>\n",
              "      <td>0.407661</td>\n",
              "      <td>0.498833</td>\n",
              "      <td>0.405239</td>\n",
              "      <td>0.193898</td>\n",
              "      <td>0.022625</td>\n",
              "      <td>0.042899</td>\n",
              "      <td>0.026767</td>\n",
              "      <td>0.075519</td>\n",
              "      <td>0.400496</td>\n",
              "      <td>0.479421</td>\n",
              "      <td>0.095042</td>\n",
              "      <td>0.236769</td>\n",
              "      <td>0.193411</td>\n",
              "      <td>0.117201</td>\n",
              "      <td>0.063877</td>\n",
              "      <td>0.107426</td>\n",
              "      <td>0.010120</td>\n",
              "      <td>0.116776</td>\n",
              "      <td>0.022625</td>\n",
              "      <td>0.026767</td>\n",
              "      <td>0.069216</td>\n",
              "      <td>0.486447</td>\n",
              "      <td>0.289288</td>\n",
              "      <td>0.398414</td>\n",
              "      <td>0.296376</td>\n",
              "      <td>0.160097</td>\n",
              "      <td>0.245149</td>\n",
              "      <td>0.238098</td>\n",
              "      <td>0.185915</td>\n",
              "      <td>0.199876</td>\n",
              "      <td>0.397087</td>\n",
              "      <td>0.466560</td>\n",
              "      <td>0.369802</td>\n",
              "      <td>0.280725</td>\n",
              "      <td>0.146755</td>\n",
              "      <td>0.188704</td>\n",
              "      <td>0.058910</td>\n",
              "      <td>0.165743</td>\n",
              "      <td>0.055348</td>\n",
              "      <td>0.187443</td>\n",
              "      <td>0.140610</td>\n",
              "      <td>0.010120</td>\n",
              "      <td>0.240167</td>\n",
              "      <td>0.031988</td>\n",
              "      <td>0.05804</td>\n",
              "      <td>0.010120</td>\n",
              "      <td>0.010120</td>\n",
              "      <td>0.030348</td>\n",
              "      <td>0.033547</td>\n",
              "      <td>0.122996</td>\n",
              "      <td>0.345086</td>\n",
              "      <td>0.079437</td>\n",
              "      <td>0.351625</td>\n",
              "    </tr>\n",
              "    <tr>\n",
              "      <th>min</th>\n",
              "      <td>0.000000</td>\n",
              "      <td>0.000000</td>\n",
              "      <td>0.000000</td>\n",
              "      <td>0.000000</td>\n",
              "      <td>0.000000</td>\n",
              "      <td>0.000000</td>\n",
              "      <td>0.000000</td>\n",
              "      <td>0.000000</td>\n",
              "      <td>0.000000</td>\n",
              "      <td>0.000000</td>\n",
              "      <td>0.000000</td>\n",
              "      <td>0.000000</td>\n",
              "      <td>0.000000</td>\n",
              "      <td>0.000000</td>\n",
              "      <td>0.000000</td>\n",
              "      <td>0.000000</td>\n",
              "      <td>0.000000</td>\n",
              "      <td>0.000000</td>\n",
              "      <td>0.000000</td>\n",
              "      <td>0.000000</td>\n",
              "      <td>0.000000</td>\n",
              "      <td>0.000000</td>\n",
              "      <td>0.000000</td>\n",
              "      <td>0.000000</td>\n",
              "      <td>0.000000</td>\n",
              "      <td>0.000000</td>\n",
              "      <td>0.000000</td>\n",
              "      <td>0.000000</td>\n",
              "      <td>0.000000</td>\n",
              "      <td>0.000000</td>\n",
              "      <td>0.000000</td>\n",
              "      <td>0.000000</td>\n",
              "      <td>0.000000</td>\n",
              "      <td>0.000000</td>\n",
              "      <td>0.000000</td>\n",
              "      <td>0.000000</td>\n",
              "      <td>0.000000</td>\n",
              "      <td>0.000000</td>\n",
              "      <td>0.000000</td>\n",
              "      <td>0.000000</td>\n",
              "      <td>0.000000</td>\n",
              "      <td>0.000000</td>\n",
              "      <td>0.000000</td>\n",
              "      <td>0.000000</td>\n",
              "      <td>0.000000</td>\n",
              "      <td>0.000000</td>\n",
              "      <td>0.000000</td>\n",
              "      <td>0.000000</td>\n",
              "      <td>0.000000</td>\n",
              "      <td>0.000000</td>\n",
              "      <td>0.000000</td>\n",
              "      <td>0.000000</td>\n",
              "      <td>0.000000</td>\n",
              "      <td>0.000000</td>\n",
              "      <td>0.000000</td>\n",
              "      <td>0.000000</td>\n",
              "      <td>0.000000</td>\n",
              "      <td>0.000000</td>\n",
              "      <td>0.000000</td>\n",
              "      <td>0.000000</td>\n",
              "      <td>0.000000</td>\n",
              "      <td>0.000000</td>\n",
              "      <td>0.000000</td>\n",
              "      <td>0.000000</td>\n",
              "      <td>0.000000</td>\n",
              "      <td>0.000000</td>\n",
              "      <td>0.000000</td>\n",
              "      <td>0.00000</td>\n",
              "      <td>0.000000</td>\n",
              "      <td>0.000000</td>\n",
              "      <td>0.000000</td>\n",
              "      <td>0.000000</td>\n",
              "      <td>0.000000</td>\n",
              "      <td>0.000000</td>\n",
              "      <td>0.000000</td>\n",
              "      <td>0.000000</td>\n",
              "    </tr>\n",
              "    <tr>\n",
              "      <th>25%</th>\n",
              "      <td>0.000000</td>\n",
              "      <td>0.000000</td>\n",
              "      <td>0.000000</td>\n",
              "      <td>0.000000</td>\n",
              "      <td>7.000000</td>\n",
              "      <td>191.459375</td>\n",
              "      <td>0.000000</td>\n",
              "      <td>0.014193</td>\n",
              "      <td>0.000000</td>\n",
              "      <td>0.000000</td>\n",
              "      <td>0.000000</td>\n",
              "      <td>9.000000</td>\n",
              "      <td>230.525000</td>\n",
              "      <td>0.000000</td>\n",
              "      <td>0.000000</td>\n",
              "      <td>0.000000</td>\n",
              "      <td>0.000000</td>\n",
              "      <td>0.000000</td>\n",
              "      <td>0.000000</td>\n",
              "      <td>0.000000</td>\n",
              "      <td>0.000000</td>\n",
              "      <td>0.000000</td>\n",
              "      <td>0.000000</td>\n",
              "      <td>0.000000</td>\n",
              "      <td>0.000000</td>\n",
              "      <td>0.000000</td>\n",
              "      <td>0.000000</td>\n",
              "      <td>0.000000</td>\n",
              "      <td>0.000000</td>\n",
              "      <td>0.000000</td>\n",
              "      <td>0.000000</td>\n",
              "      <td>0.000000</td>\n",
              "      <td>0.000000</td>\n",
              "      <td>0.000000</td>\n",
              "      <td>0.000000</td>\n",
              "      <td>0.000000</td>\n",
              "      <td>0.000000</td>\n",
              "      <td>0.000000</td>\n",
              "      <td>0.000000</td>\n",
              "      <td>0.000000</td>\n",
              "      <td>0.000000</td>\n",
              "      <td>0.000000</td>\n",
              "      <td>0.000000</td>\n",
              "      <td>0.000000</td>\n",
              "      <td>0.000000</td>\n",
              "      <td>0.000000</td>\n",
              "      <td>0.000000</td>\n",
              "      <td>0.000000</td>\n",
              "      <td>0.000000</td>\n",
              "      <td>0.000000</td>\n",
              "      <td>0.000000</td>\n",
              "      <td>0.000000</td>\n",
              "      <td>0.000000</td>\n",
              "      <td>0.000000</td>\n",
              "      <td>0.000000</td>\n",
              "      <td>0.000000</td>\n",
              "      <td>0.000000</td>\n",
              "      <td>0.000000</td>\n",
              "      <td>0.000000</td>\n",
              "      <td>0.000000</td>\n",
              "      <td>0.000000</td>\n",
              "      <td>0.000000</td>\n",
              "      <td>0.000000</td>\n",
              "      <td>0.000000</td>\n",
              "      <td>0.000000</td>\n",
              "      <td>0.000000</td>\n",
              "      <td>0.000000</td>\n",
              "      <td>0.00000</td>\n",
              "      <td>0.000000</td>\n",
              "      <td>0.000000</td>\n",
              "      <td>0.000000</td>\n",
              "      <td>0.000000</td>\n",
              "      <td>0.000000</td>\n",
              "      <td>0.000000</td>\n",
              "      <td>0.000000</td>\n",
              "      <td>1.000000</td>\n",
              "    </tr>\n",
              "    <tr>\n",
              "      <th>50%</th>\n",
              "      <td>1.000000</td>\n",
              "      <td>10.000000</td>\n",
              "      <td>0.000000</td>\n",
              "      <td>0.000000</td>\n",
              "      <td>18.000000</td>\n",
              "      <td>610.816667</td>\n",
              "      <td>0.002955</td>\n",
              "      <td>0.025000</td>\n",
              "      <td>0.000000</td>\n",
              "      <td>0.000000</td>\n",
              "      <td>0.000000</td>\n",
              "      <td>20.000000</td>\n",
              "      <td>690.939881</td>\n",
              "      <td>0.000000</td>\n",
              "      <td>0.000000</td>\n",
              "      <td>0.000000</td>\n",
              "      <td>0.000000</td>\n",
              "      <td>0.000000</td>\n",
              "      <td>0.000000</td>\n",
              "      <td>0.000000</td>\n",
              "      <td>0.000000</td>\n",
              "      <td>0.000000</td>\n",
              "      <td>0.000000</td>\n",
              "      <td>0.000000</td>\n",
              "      <td>1.000000</td>\n",
              "      <td>0.000000</td>\n",
              "      <td>0.000000</td>\n",
              "      <td>0.000000</td>\n",
              "      <td>0.000000</td>\n",
              "      <td>0.000000</td>\n",
              "      <td>0.000000</td>\n",
              "      <td>0.000000</td>\n",
              "      <td>1.000000</td>\n",
              "      <td>0.000000</td>\n",
              "      <td>0.000000</td>\n",
              "      <td>0.000000</td>\n",
              "      <td>0.000000</td>\n",
              "      <td>0.000000</td>\n",
              "      <td>0.000000</td>\n",
              "      <td>0.000000</td>\n",
              "      <td>0.000000</td>\n",
              "      <td>0.000000</td>\n",
              "      <td>0.000000</td>\n",
              "      <td>0.000000</td>\n",
              "      <td>0.000000</td>\n",
              "      <td>0.000000</td>\n",
              "      <td>0.000000</td>\n",
              "      <td>0.000000</td>\n",
              "      <td>0.000000</td>\n",
              "      <td>0.000000</td>\n",
              "      <td>0.000000</td>\n",
              "      <td>0.000000</td>\n",
              "      <td>0.000000</td>\n",
              "      <td>0.000000</td>\n",
              "      <td>0.000000</td>\n",
              "      <td>0.000000</td>\n",
              "      <td>0.000000</td>\n",
              "      <td>0.000000</td>\n",
              "      <td>0.000000</td>\n",
              "      <td>0.000000</td>\n",
              "      <td>0.000000</td>\n",
              "      <td>0.000000</td>\n",
              "      <td>0.000000</td>\n",
              "      <td>0.000000</td>\n",
              "      <td>0.000000</td>\n",
              "      <td>0.000000</td>\n",
              "      <td>0.000000</td>\n",
              "      <td>0.00000</td>\n",
              "      <td>0.000000</td>\n",
              "      <td>0.000000</td>\n",
              "      <td>0.000000</td>\n",
              "      <td>0.000000</td>\n",
              "      <td>0.000000</td>\n",
              "      <td>0.000000</td>\n",
              "      <td>0.000000</td>\n",
              "      <td>1.000000</td>\n",
              "    </tr>\n",
              "    <tr>\n",
              "      <th>75%</th>\n",
              "      <td>4.000000</td>\n",
              "      <td>96.250000</td>\n",
              "      <td>0.000000</td>\n",
              "      <td>0.000000</td>\n",
              "      <td>38.000000</td>\n",
              "      <td>1476.663691</td>\n",
              "      <td>0.016582</td>\n",
              "      <td>0.048431</td>\n",
              "      <td>0.000000</td>\n",
              "      <td>0.000000</td>\n",
              "      <td>0.000000</td>\n",
              "      <td>42.000000</td>\n",
              "      <td>1640.229167</td>\n",
              "      <td>0.000000</td>\n",
              "      <td>0.000000</td>\n",
              "      <td>0.000000</td>\n",
              "      <td>0.000000</td>\n",
              "      <td>0.000000</td>\n",
              "      <td>0.000000</td>\n",
              "      <td>1.000000</td>\n",
              "      <td>0.000000</td>\n",
              "      <td>0.000000</td>\n",
              "      <td>0.000000</td>\n",
              "      <td>0.000000</td>\n",
              "      <td>1.000000</td>\n",
              "      <td>0.000000</td>\n",
              "      <td>0.000000</td>\n",
              "      <td>0.000000</td>\n",
              "      <td>0.000000</td>\n",
              "      <td>0.000000</td>\n",
              "      <td>0.000000</td>\n",
              "      <td>0.000000</td>\n",
              "      <td>1.000000</td>\n",
              "      <td>0.000000</td>\n",
              "      <td>0.000000</td>\n",
              "      <td>0.000000</td>\n",
              "      <td>0.000000</td>\n",
              "      <td>0.000000</td>\n",
              "      <td>0.000000</td>\n",
              "      <td>0.000000</td>\n",
              "      <td>0.000000</td>\n",
              "      <td>0.000000</td>\n",
              "      <td>0.000000</td>\n",
              "      <td>0.000000</td>\n",
              "      <td>1.000000</td>\n",
              "      <td>0.000000</td>\n",
              "      <td>0.000000</td>\n",
              "      <td>0.000000</td>\n",
              "      <td>0.000000</td>\n",
              "      <td>0.000000</td>\n",
              "      <td>0.000000</td>\n",
              "      <td>0.000000</td>\n",
              "      <td>0.000000</td>\n",
              "      <td>0.000000</td>\n",
              "      <td>1.000000</td>\n",
              "      <td>0.000000</td>\n",
              "      <td>0.000000</td>\n",
              "      <td>0.000000</td>\n",
              "      <td>0.000000</td>\n",
              "      <td>0.000000</td>\n",
              "      <td>0.000000</td>\n",
              "      <td>0.000000</td>\n",
              "      <td>0.000000</td>\n",
              "      <td>0.000000</td>\n",
              "      <td>0.000000</td>\n",
              "      <td>0.000000</td>\n",
              "      <td>0.000000</td>\n",
              "      <td>0.00000</td>\n",
              "      <td>0.000000</td>\n",
              "      <td>0.000000</td>\n",
              "      <td>0.000000</td>\n",
              "      <td>0.000000</td>\n",
              "      <td>0.000000</td>\n",
              "      <td>0.000000</td>\n",
              "      <td>0.000000</td>\n",
              "      <td>1.000000</td>\n",
              "    </tr>\n",
              "    <tr>\n",
              "      <th>max</th>\n",
              "      <td>27.000000</td>\n",
              "      <td>3398.750000</td>\n",
              "      <td>24.000000</td>\n",
              "      <td>2549.375000</td>\n",
              "      <td>705.000000</td>\n",
              "      <td>63973.522230</td>\n",
              "      <td>0.200000</td>\n",
              "      <td>0.200000</td>\n",
              "      <td>361.763742</td>\n",
              "      <td>1.000000</td>\n",
              "      <td>1.000000</td>\n",
              "      <td>746.000000</td>\n",
              "      <td>69921.647230</td>\n",
              "      <td>1.000000</td>\n",
              "      <td>1.000000</td>\n",
              "      <td>1.000000</td>\n",
              "      <td>1.000000</td>\n",
              "      <td>1.000000</td>\n",
              "      <td>1.000000</td>\n",
              "      <td>1.000000</td>\n",
              "      <td>1.000000</td>\n",
              "      <td>1.000000</td>\n",
              "      <td>1.000000</td>\n",
              "      <td>1.000000</td>\n",
              "      <td>1.000000</td>\n",
              "      <td>1.000000</td>\n",
              "      <td>1.000000</td>\n",
              "      <td>1.000000</td>\n",
              "      <td>1.000000</td>\n",
              "      <td>1.000000</td>\n",
              "      <td>1.000000</td>\n",
              "      <td>1.000000</td>\n",
              "      <td>1.000000</td>\n",
              "      <td>1.000000</td>\n",
              "      <td>1.000000</td>\n",
              "      <td>1.000000</td>\n",
              "      <td>1.000000</td>\n",
              "      <td>1.000000</td>\n",
              "      <td>1.000000</td>\n",
              "      <td>1.000000</td>\n",
              "      <td>1.000000</td>\n",
              "      <td>1.000000</td>\n",
              "      <td>1.000000</td>\n",
              "      <td>1.000000</td>\n",
              "      <td>1.000000</td>\n",
              "      <td>1.000000</td>\n",
              "      <td>1.000000</td>\n",
              "      <td>1.000000</td>\n",
              "      <td>1.000000</td>\n",
              "      <td>1.000000</td>\n",
              "      <td>1.000000</td>\n",
              "      <td>1.000000</td>\n",
              "      <td>1.000000</td>\n",
              "      <td>1.000000</td>\n",
              "      <td>1.000000</td>\n",
              "      <td>1.000000</td>\n",
              "      <td>1.000000</td>\n",
              "      <td>1.000000</td>\n",
              "      <td>1.000000</td>\n",
              "      <td>1.000000</td>\n",
              "      <td>1.000000</td>\n",
              "      <td>1.000000</td>\n",
              "      <td>1.000000</td>\n",
              "      <td>1.000000</td>\n",
              "      <td>1.000000</td>\n",
              "      <td>1.000000</td>\n",
              "      <td>1.000000</td>\n",
              "      <td>1.00000</td>\n",
              "      <td>1.000000</td>\n",
              "      <td>1.000000</td>\n",
              "      <td>1.000000</td>\n",
              "      <td>1.000000</td>\n",
              "      <td>1.000000</td>\n",
              "      <td>1.000000</td>\n",
              "      <td>1.000000</td>\n",
              "      <td>1.000000</td>\n",
              "    </tr>\n",
              "  </tbody>\n",
              "</table>\n",
              "</div>"
            ],
            "text/plain": [
              "       Administrative  ...  VisitorType_Returning_Visitor\n",
              "count     9764.000000  ...                    9764.000000\n",
              "mean         2.357845  ...                       0.855490\n",
              "std          3.332379  ...                       0.351625\n",
              "min          0.000000  ...                       0.000000\n",
              "25%          0.000000  ...                       1.000000\n",
              "50%          1.000000  ...                       1.000000\n",
              "75%          4.000000  ...                       1.000000\n",
              "max         27.000000  ...                       1.000000\n",
              "\n",
              "[8 rows x 76 columns]"
            ]
          },
          "metadata": {},
          "execution_count": 112
        }
      ]
    },
    {
      "cell_type": "code",
      "source": [
        "#from sklearn.preprocessing import StandardScaler\n",
        "#scaler = StandardScaler()\n",
        "#X_train = scaler.fit_transform(X_train)\n",
        "#X_test = scaler.transform(X_test)"
      ],
      "metadata": {
        "id": "z6QYzLhwj6_P"
      },
      "execution_count": null,
      "outputs": []
    },
    {
      "cell_type": "code",
      "source": [
        "from sklearn.preprocessing import RobustScaler\n",
        "scaler = RobustScaler()\n",
        "X_train = scaler.fit_transform(X_train)\n",
        "X_test = scaler.transform(X_test)"
      ],
      "metadata": {
        "id": "jUnf8Pv_3hLL"
      },
      "execution_count": null,
      "outputs": []
    },
    {
      "cell_type": "markdown",
      "source": [
        "We saw in the exploration a lot of outliers a robust scaller with be a good approach to scale our data"
      ],
      "metadata": {
        "id": "TuGxYfDc5ArA"
      }
    },
    {
      "cell_type": "markdown",
      "source": [
        "# Modelling"
      ],
      "metadata": {
        "id": "fzq8vMF8ldC4"
      }
    },
    {
      "cell_type": "code",
      "source": [
        "# Function to evaluate: accuracy, precision, recall, f1-score\n",
        "from sklearn.metrics import accuracy_score, precision_recall_fscore_support\n",
        "\n",
        "def calculate_results(y_true, y_pred):\n",
        "  \"\"\"\n",
        "  Calculates model accuracy, precision, recall and f1 score of a binary classification model.\n",
        "\n",
        "  Args:\n",
        "  -----\n",
        "  y_true = true labels in the form of a 1D array\n",
        "  y_pred = predicted labels in the form of a 1D array\n",
        "\n",
        "  Returns a dictionary of accuracy, precision, recall, f1-score.\n",
        "  \"\"\"\n",
        "  # Calculate model accuracy\n",
        "  model_accuracy = accuracy_score(y_true, y_pred) * 100\n",
        "  # Calculate model precision, recall and f1 score using \"weighted\" average\n",
        "  model_precision, model_recall, model_f1, _ = precision_recall_fscore_support(y_true, y_pred, average=\"weighted\")\n",
        "  model_results = {\"accuracy\": model_accuracy,\n",
        "                  \"precision\": model_precision,\n",
        "                  \"recall\": model_recall,\n",
        "                  \"f1\": model_f1}\n",
        "  return model_results"
      ],
      "metadata": {
        "id": "NVsMlxUpl1nv"
      },
      "execution_count": null,
      "outputs": []
    },
    {
      "cell_type": "markdown",
      "source": [
        "## Model 0: Logist Regression"
      ],
      "metadata": {
        "id": "D7dw8qgYmq5z"
      }
    },
    {
      "cell_type": "code",
      "source": [
        "from sklearn.linear_model import LogisticRegression\n",
        "model_0 = LogisticRegression()\n",
        "model_0.fit(X_train, y_train)\n",
        "y_pred = model_0.predict(X_test)"
      ],
      "metadata": {
        "colab": {
          "base_uri": "https://localhost:8080/"
        },
        "id": "PFYQcvbumpbk",
        "outputId": "0e018b69-8fa2-4df6-e081-6ed783d451be"
      },
      "execution_count": null,
      "outputs": [
        {
          "output_type": "stream",
          "name": "stderr",
          "text": [
            "/usr/local/lib/python3.7/dist-packages/sklearn/linear_model/_logistic.py:818: ConvergenceWarning: lbfgs failed to converge (status=1):\n",
            "STOP: TOTAL NO. of ITERATIONS REACHED LIMIT.\n",
            "\n",
            "Increase the number of iterations (max_iter) or scale the data as shown in:\n",
            "    https://scikit-learn.org/stable/modules/preprocessing.html\n",
            "Please also refer to the documentation for alternative solver options:\n",
            "    https://scikit-learn.org/stable/modules/linear_model.html#logistic-regression\n",
            "  extra_warning_msg=_LOGISTIC_SOLVER_CONVERGENCE_MSG,\n"
          ]
        }
      ]
    },
    {
      "cell_type": "code",
      "source": [
        "result_model_0=calculate_results(y_true=y_test, y_pred=y_pred)\n",
        "result_model_0"
      ],
      "metadata": {
        "colab": {
          "base_uri": "https://localhost:8080/"
        },
        "id": "SBGhjmnJm77-",
        "outputId": "2c8ebca8-3217-4279-9596-e572a42472ad"
      },
      "execution_count": null,
      "outputs": [
        {
          "output_type": "execute_result",
          "data": {
            "text/plain": [
              "{'accuracy': 88.11962310528472,\n",
              " 'f1': 0.8629141260524125,\n",
              " 'precision': 0.8720304440192691,\n",
              " 'recall': 0.8811962310528472}"
            ]
          },
          "metadata": {},
          "execution_count": 117
        }
      ]
    },
    {
      "cell_type": "markdown",
      "source": [
        "## Model 1: Random forest"
      ],
      "metadata": {
        "id": "lMdZcAFXlu6a"
      }
    },
    {
      "cell_type": "code",
      "source": [
        "from sklearn.ensemble import RandomForestClassifier\n",
        "model_1 = RandomForestClassifier()\n",
        "model_1.fit(X_train, y_train)\n",
        "y_pred = model_1.predict(X_test)"
      ],
      "metadata": {
        "id": "8FeYG1u6hwLu"
      },
      "execution_count": null,
      "outputs": []
    },
    {
      "cell_type": "code",
      "source": [
        "result_model_1=calculate_results(y_true=y_test, y_pred=y_pred)\n",
        "result_model_1"
      ],
      "metadata": {
        "colab": {
          "base_uri": "https://localhost:8080/"
        },
        "id": "ZCPriFHAlqZ1",
        "outputId": "0606aedc-ffe3-477b-b31f-13d2b7d5b267"
      },
      "execution_count": null,
      "outputs": [
        {
          "output_type": "execute_result",
          "data": {
            "text/plain": [
              "{'accuracy': 89.71732896353953,\n",
              " 'f1': 0.8880859990460245,\n",
              " 'precision': 0.8898115481914777,\n",
              " 'recall': 0.8971732896353953}"
            ]
          },
          "metadata": {},
          "execution_count": 119
        }
      ]
    },
    {
      "cell_type": "markdown",
      "source": [
        "## Model 2: Xgboost\n"
      ],
      "metadata": {
        "id": "74r8oPtFsDBP"
      }
    },
    {
      "cell_type": "code",
      "source": [
        "import time\n",
        "from xgboost import XGBClassifier\n",
        "from sklearn.metrics import classification_report,confusion_matrix\n",
        "# create a default XGBoost classifier\n",
        "model_2 = XGBClassifier(n_estimators=500)\n",
        "# fit the model\n",
        "%time model_2.fit(X_train, y_train)\n",
        "y_pred = model_2.predict(X_test)\n",
        "\n"
      ],
      "metadata": {
        "colab": {
          "base_uri": "https://localhost:8080/"
        },
        "id": "7QcS5QhxmkwU",
        "outputId": "834b8c7e-4c5d-4b78-96bc-cb9eb72171e3"
      },
      "execution_count": null,
      "outputs": [
        {
          "output_type": "stream",
          "name": "stdout",
          "text": [
            "CPU times: user 9.22 s, sys: 27.6 ms, total: 9.25 s\n",
            "Wall time: 9.23 s\n"
          ]
        }
      ]
    },
    {
      "cell_type": "code",
      "source": [
        "result_model_2=calculate_results(y_true=y_test, y_pred=y_pred)\n",
        "result_model_2"
      ],
      "metadata": {
        "colab": {
          "base_uri": "https://localhost:8080/"
        },
        "id": "xtRbvYS8n2iA",
        "outputId": "09aeb624-8aa2-4987-f94f-f603d4e3e299"
      },
      "execution_count": null,
      "outputs": [
        {
          "output_type": "execute_result",
          "data": {
            "text/plain": [
              "{'accuracy': 90.20893076607948,\n",
              " 'f1': 0.8977218158853346,\n",
              " 'precision': 0.8964283270633338,\n",
              " 'recall': 0.9020893076607948}"
            ]
          },
          "metadata": {},
          "execution_count": 121
        }
      ]
    },
    {
      "cell_type": "markdown",
      "source": [
        "## Model 3: Catboost"
      ],
      "metadata": {
        "id": "5EZbgOt7oQxh"
      }
    },
    {
      "cell_type": "code",
      "source": [
        "!pip install catboost"
      ],
      "metadata": {
        "colab": {
          "base_uri": "https://localhost:8080/"
        },
        "id": "Nx85uSPsowJH",
        "outputId": "efc83bf3-d021-48b5-9ae9-7a474dd64b3c"
      },
      "execution_count": null,
      "outputs": [
        {
          "output_type": "stream",
          "name": "stdout",
          "text": [
            "Requirement already satisfied: catboost in /usr/local/lib/python3.7/dist-packages (1.0.3)\n",
            "Requirement already satisfied: six in /usr/local/lib/python3.7/dist-packages (from catboost) (1.15.0)\n",
            "Requirement already satisfied: graphviz in /usr/local/lib/python3.7/dist-packages (from catboost) (0.10.1)\n",
            "Requirement already satisfied: pandas>=0.24.0 in /usr/local/lib/python3.7/dist-packages (from catboost) (1.1.5)\n",
            "Requirement already satisfied: numpy>=1.16.0 in /usr/local/lib/python3.7/dist-packages (from catboost) (1.19.5)\n",
            "Requirement already satisfied: matplotlib in /usr/local/lib/python3.7/dist-packages (from catboost) (3.2.2)\n",
            "Requirement already satisfied: scipy in /usr/local/lib/python3.7/dist-packages (from catboost) (1.4.1)\n",
            "Requirement already satisfied: plotly in /usr/local/lib/python3.7/dist-packages (from catboost) (4.4.1)\n",
            "Requirement already satisfied: pytz>=2017.2 in /usr/local/lib/python3.7/dist-packages (from pandas>=0.24.0->catboost) (2018.9)\n",
            "Requirement already satisfied: python-dateutil>=2.7.3 in /usr/local/lib/python3.7/dist-packages (from pandas>=0.24.0->catboost) (2.8.2)\n",
            "Requirement already satisfied: pyparsing!=2.0.4,!=2.1.2,!=2.1.6,>=2.0.1 in /usr/local/lib/python3.7/dist-packages (from matplotlib->catboost) (3.0.6)\n",
            "Requirement already satisfied: kiwisolver>=1.0.1 in /usr/local/lib/python3.7/dist-packages (from matplotlib->catboost) (1.3.2)\n",
            "Requirement already satisfied: cycler>=0.10 in /usr/local/lib/python3.7/dist-packages (from matplotlib->catboost) (0.11.0)\n",
            "Requirement already satisfied: retrying>=1.3.3 in /usr/local/lib/python3.7/dist-packages (from plotly->catboost) (1.3.3)\n"
          ]
        }
      ]
    },
    {
      "cell_type": "code",
      "source": [
        "from catboost import CatBoostClassifier\n",
        "model_3 = CatBoostClassifier(iterations=1000,                          \n",
        "                           devices='0:1',\n",
        "                           verbose=0)\n",
        "%time model_3.fit(X_train, y_train)\n",
        "y_pred = model_3.predict(X_test)"
      ],
      "metadata": {
        "colab": {
          "base_uri": "https://localhost:8080/"
        },
        "id": "q3bj9Xf_oWdB",
        "outputId": "dc62b32d-0344-4c27-be21-ab8546e47bd0"
      },
      "execution_count": null,
      "outputs": [
        {
          "output_type": "stream",
          "name": "stdout",
          "text": [
            "CPU times: user 10.3 s, sys: 844 ms, total: 11.1 s\n",
            "Wall time: 6 s\n"
          ]
        }
      ]
    },
    {
      "cell_type": "code",
      "source": [
        "result_model_3=calculate_results(y_true=y_test, y_pred=y_pred)\n",
        "result_model_3"
      ],
      "metadata": {
        "colab": {
          "base_uri": "https://localhost:8080/"
        },
        "id": "nyVldAtOpOGC",
        "outputId": "cab60605-0acb-4d2d-c367-a4de2c4ddb25"
      },
      "execution_count": null,
      "outputs": [
        {
          "output_type": "execute_result",
          "data": {
            "text/plain": [
              "{'accuracy': 90.33183121671446,\n",
              " 'f1': 0.89906903923044,\n",
              " 'precision': 0.8978245866958089,\n",
              " 'recall': 0.9033183121671446}"
            ]
          },
          "metadata": {},
          "execution_count": 124
        }
      ]
    },
    {
      "cell_type": "code",
      "source": [
        "from sklearn.metrics import classification_report,confusion_matrix\n",
        "print(classification_report(y_test,y_pred))"
      ],
      "metadata": {
        "colab": {
          "base_uri": "https://localhost:8080/"
        },
        "id": "Oztc9ivNt53T",
        "outputId": "077f762e-b79f-4125-8a18-339797fb41de"
      },
      "execution_count": null,
      "outputs": [
        {
          "output_type": "stream",
          "name": "stdout",
          "text": [
            "              precision    recall  f1-score   support\n",
            "\n",
            "           0       0.93      0.96      0.94      2045\n",
            "           1       0.75      0.61      0.67       396\n",
            "\n",
            "    accuracy                           0.90      2441\n",
            "   macro avg       0.84      0.78      0.81      2441\n",
            "weighted avg       0.90      0.90      0.90      2441\n",
            "\n"
          ]
        }
      ]
    },
    {
      "cell_type": "markdown",
      "source": [
        "# Experimentation to improve the best model"
      ],
      "metadata": {
        "id": "euHzdTdbqAQ3"
      }
    },
    {
      "cell_type": "markdown",
      "source": [
        "The model 3 performed better than all the other models, the data were "
      ],
      "metadata": {
        "id": "CRgOWKBOpdxA"
      }
    },
    {
      "cell_type": "markdown",
      "source": [
        "## Model 4 - Model 3 with smote data"
      ],
      "metadata": {
        "id": "oO7_58-4rJaj"
      }
    },
    {
      "cell_type": "code",
      "source": [
        "# Oversample with SMOTE and random undersample for imbalanced dataset\n",
        "from collections import Counter\n",
        "from sklearn.datasets import make_classification\n",
        "from imblearn.over_sampling import SMOTE\n",
        "from imblearn.under_sampling import RandomUnderSampler\n",
        "from imblearn.pipeline import Pipeline\n",
        "from matplotlib import pyplot\n",
        "from numpy import where"
      ],
      "metadata": {
        "id": "baRJ1ifHput2"
      },
      "execution_count": null,
      "outputs": []
    },
    {
      "cell_type": "code",
      "source": [
        "# define pipeline\n",
        "over = SMOTE(sampling_strategy=0.3)\n",
        "under = RandomUnderSampler(sampling_strategy=0.5)\n",
        "steps = [('o', over), ('u', under)]\n",
        "pipeline = Pipeline(steps=steps)\n",
        "                           "
      ],
      "metadata": {
        "id": "mQYlGmdEqiGx"
      },
      "execution_count": null,
      "outputs": []
    },
    {
      "cell_type": "code",
      "source": [
        "X_train_smote, y_train_smote = pipeline.fit_resample(X_train, y_train)"
      ],
      "metadata": {
        "id": "7hsztTzzqw8e"
      },
      "execution_count": null,
      "outputs": []
    },
    {
      "cell_type": "code",
      "source": [
        "from catboost import CatBoostClassifier\n",
        "model_4 = CatBoostClassifier(iterations=1000,                          \n",
        "                           devices='0:1',\n",
        "                           verbose=0)\n",
        "%time model_4.fit(X_train_smote, y_train_smote)\n",
        "y_pred = model_4.predict(X_test)"
      ],
      "metadata": {
        "colab": {
          "base_uri": "https://localhost:8080/"
        },
        "id": "kiStxEz6rE6q",
        "outputId": "4406b639-e08e-49c1-d40e-073ae58447a4"
      },
      "execution_count": null,
      "outputs": [
        {
          "output_type": "stream",
          "name": "stdout",
          "text": [
            "CPU times: user 22.5 s, sys: 892 ms, total: 23.4 s\n",
            "Wall time: 12.4 s\n"
          ]
        }
      ]
    },
    {
      "cell_type": "code",
      "source": [
        "result_model_4=calculate_results(y_true=y_test, y_pred=y_pred)\n",
        "result_model_4"
      ],
      "metadata": {
        "colab": {
          "base_uri": "https://localhost:8080/"
        },
        "id": "qzy5R8E3rhTd",
        "outputId": "cc7c23fa-2038-4a24-b02f-ba507fb001d5"
      },
      "execution_count": null,
      "outputs": [
        {
          "output_type": "execute_result",
          "data": {
            "text/plain": [
              "{'accuracy': 89.59442851290454,\n",
              " 'f1': 0.896669292651563,\n",
              " 'precision': 0.8974798980034443,\n",
              " 'recall': 0.8959442851290454}"
            ]
          },
          "metadata": {},
          "execution_count": 130
        }
      ]
    },
    {
      "cell_type": "code",
      "source": [
        "from sklearn.metrics import classification_report,confusion_matrix\n",
        "print(classification_report(y_test,y_pred))"
      ],
      "metadata": {
        "colab": {
          "base_uri": "https://localhost:8080/"
        },
        "id": "x0t0CEpOwuOm",
        "outputId": "4d375ff9-6705-42a3-9b8c-17bacba33ff3"
      },
      "execution_count": null,
      "outputs": [
        {
          "output_type": "stream",
          "name": "stdout",
          "text": [
            "              precision    recall  f1-score   support\n",
            "\n",
            "           0       0.94      0.93      0.94      2045\n",
            "           1       0.67      0.70      0.68       396\n",
            "\n",
            "    accuracy                           0.90      2441\n",
            "   macro avg       0.81      0.82      0.81      2441\n",
            "weighted avg       0.90      0.90      0.90      2441\n",
            "\n"
          ]
        }
      ]
    },
    {
      "cell_type": "markdown",
      "source": [
        "We have an improvement of the F1, Recall and precision score on the positive class, so we will consider than the model is better than the model 4 is better than the 3 on the positive class."
      ],
      "metadata": {
        "id": "S9GJ5DW4sunP"
      }
    },
    {
      "cell_type": "code",
      "source": [
        "!wget https://raw.githubusercontent.com/mrdbourke/tensorflow-deep-learning/main/extras/helper_functions.py"
      ],
      "metadata": {
        "colab": {
          "base_uri": "https://localhost:8080/"
        },
        "id": "hhr5UvcXH9Pi",
        "outputId": "b34c7b9c-116b-48ff-f709-df82f93708d8"
      },
      "execution_count": null,
      "outputs": [
        {
          "output_type": "stream",
          "name": "stdout",
          "text": [
            "--2021-12-14 08:52:41--  https://raw.githubusercontent.com/mrdbourke/tensorflow-deep-learning/main/extras/helper_functions.py\n",
            "Resolving raw.githubusercontent.com (raw.githubusercontent.com)... 185.199.111.133, 185.199.109.133, 185.199.110.133, ...\n",
            "Connecting to raw.githubusercontent.com (raw.githubusercontent.com)|185.199.111.133|:443... connected.\n",
            "HTTP request sent, awaiting response... 200 OK\n",
            "Length: 10246 (10K) [text/plain]\n",
            "Saving to: ‘helper_functions.py’\n",
            "\n",
            "helper_functions.py 100%[===================>]  10.01K  --.-KB/s    in 0s      \n",
            "\n",
            "2021-12-14 08:52:42 (87.0 MB/s) - ‘helper_functions.py’ saved [10246/10246]\n",
            "\n"
          ]
        }
      ]
    },
    {
      "cell_type": "code",
      "source": [
        "from helper_functions import make_confusion_matrix"
      ],
      "metadata": {
        "id": "_7Tn7mK9JBOC"
      },
      "execution_count": null,
      "outputs": []
    },
    {
      "cell_type": "code",
      "source": [
        "make_confusion_matrix(y_test, y_pred)"
      ],
      "metadata": {
        "colab": {
          "base_uri": "https://localhost:8080/",
          "height": 574
        },
        "id": "HJULwUs7Ju5-",
        "outputId": "478675d5-fc0e-4bd6-f734-ed87b607c5c8"
      },
      "execution_count": null,
      "outputs": [
        {
          "output_type": "display_data",
          "data": {
            "image/png": "[encoded data removed]",
            "text/plain": [
              "<Figure size 720x720 with 2 Axes>"
            ]
          },
          "metadata": {
            "needs_background": "light"
          }
        }
      ]
    },
    {
      "cell_type": "markdown",
      "source": [
        "## Model 5: model 4 with feature selection"
      ],
      "metadata": {
        "id": "j31okizHs_Jc"
      }
    },
    {
      "cell_type": "code",
      "source": [
        "#https://www.analyseup.com/learn-python-for-data-science/python-random-forest-feature-importance-plot.html\n",
        "def plot_feature_importance(importance,names,model_type):\n",
        "\n",
        "#Create arrays from feature importance and feature names\n",
        "  feature_importance = np.array(importance)\n",
        "  feature_names = np.array(names)\n",
        "\n",
        "#Create a DataFrame using a Dictionary\n",
        "  data={'feature_names':feature_names,'feature_importance':feature_importance}\n",
        "  fi_df = pd.DataFrame(data)\n",
        "\n",
        "#Sort the DataFrame in order decreasing feature importance\n",
        "  fi_df.sort_values(by=['feature_importance'], ascending=False,inplace=True)\n",
        "\n",
        "#Define size of bar plot\n",
        "  plt.figure(figsize=(15,5))\n",
        "#Plot Searborn bar chart\n",
        "  sns.set_color_codes(\"muted\")\n",
        "  #sns.barplot(x=fi_df['feature_importance'], y=fi_df['feature_names'])\n",
        "  sns.barplot(x=fi_df['feature_names'], y=fi_df['feature_importance'])\n",
        "#Add chart labels\n",
        "  plt.title(model_type + 'FEATURE IMPORTANCE')\n",
        "  plt.xlabel('FEATURE NAMES')\n",
        "  plt.ylabel('FEATURE IMPORTANCES')"
      ],
      "metadata": {
        "id": "mwVV-KJU-2E1"
      },
      "execution_count": null,
      "outputs": []
    },
    {
      "cell_type": "code",
      "source": [
        "\n",
        "plot_feature_importance(model_4.get_feature_importance(),pd.DataFrame(X_train_smote).columns,'CATBOOST')"
      ],
      "metadata": {
        "colab": {
          "base_uri": "https://localhost:8080/",
          "height": 350
        },
        "id": "iZA0KKwdAIUh",
        "outputId": "ed40c323-d40e-4a91-f3fe-94a903f2c95f"
      },
      "execution_count": null,
      "outputs": [
        {
          "output_type": "display_data",
          "data": {
            "image/png": "[encoded data removed]",
            "text/plain": [
              "<Figure size 1080x360 with 1 Axes>"
            ]
          },
          "metadata": {
            "needs_background": "light"
          }
        }
      ]
    },
    {
      "cell_type": "code",
      "source": [
        "params_space = {   \n",
        "    'criterion': 'entropy',\n",
        "    'max_depth': 16,\n",
        "    'max_features': 'auto',\n",
        "    'min_samples_leaf': 10,\n",
        "    'min_samples_split': 5,\n",
        "    'n_estimators': 35\n",
        "}\n",
        "select_clf = CatBoostClassifier(iterations=1000,                          \n",
        "                           devices='0:1',\n",
        "                           verbose=0)\n",
        "feat_selector = SelectFromModel(select_clf)\n",
        "feat_selector.fit(X_train_smote, y_train_smote)\n",
        "feats = feat_selector.transform(X_train_smote)"
      ],
      "metadata": {
        "id": "9xayLJA-GIaJ"
      },
      "execution_count": 200,
      "outputs": []
    },
    {
      "cell_type": "code",
      "source": [
        "from catboost import CatBoostClassifier\n",
        "model_5 = CatBoostClassifier(iterations=1000,                          \n",
        "                           devices='0:1',\n",
        "                           verbose=0)\n",
        "%time model_5.fit(feats, y_train_smote)\n",
        "y_pred = model_5.predict(X_test)"
      ],
      "metadata": {
        "colab": {
          "base_uri": "https://localhost:8080/"
        },
        "id": "bvrM1e9CY640",
        "outputId": "2634a335-e37b-49ae-ec67-10eff35467c2"
      },
      "execution_count": 198,
      "outputs": [
        {
          "output_type": "stream",
          "name": "stderr",
          "text": [
            "Custom logger is already specified. Specify more than one logger at same time is not thread safe."
          ]
        },
        {
          "output_type": "stream",
          "name": "stdout",
          "text": [
            "CPU times: user 11.8 s, sys: 799 ms, total: 12.6 s\n",
            "Wall time: 6.74 s\n"
          ]
        }
      ]
    },
    {
      "cell_type": "code",
      "source": [
        "from sklearn.metrics import classification_report,confusion_matrix\n",
        "print(classification_report(y_test,y_pred))"
      ],
      "metadata": {
        "colab": {
          "base_uri": "https://localhost:8080/"
        },
        "id": "DP_t64X2ZXLJ",
        "outputId": "ecbbdcf1-b5c2-4de0-83b2-d9ea6da1af3c"
      },
      "execution_count": 201,
      "outputs": [
        {
          "output_type": "stream",
          "name": "stdout",
          "text": [
            "              precision    recall  f1-score   support\n",
            "\n",
            "           0       0.79      0.57      0.66      2045\n",
            "           1       0.08      0.20      0.12       396\n",
            "\n",
            "    accuracy                           0.51      2441\n",
            "   macro avg       0.43      0.38      0.39      2441\n",
            "weighted avg       0.67      0.51      0.57      2441\n",
            "\n"
          ]
        }
      ]
    },
    {
      "cell_type": "markdown",
      "source": [
        "The experimentation shows that the model 5 with feature selection performed less than the model 4."
      ],
      "metadata": {
        "id": "i4wwvsgSZ1Ld"
      }
    },
    {
      "cell_type": "markdown",
      "source": [
        "## Model_6: Model 4 with optimization "
      ],
      "metadata": {
        "id": "qY1Px8f3Z9-b"
      }
    },
    {
      "cell_type": "code",
      "source": [
        "from sklearn.model_selection import RandomizedSearchCV"
      ],
      "metadata": {
        "id": "Xqa3Oeg4eEnO"
      },
      "execution_count": 225,
      "outputs": []
    },
    {
      "cell_type": "code",
      "source": [
        "#The model 4 was pretty good let's look at the parametter\n",
        "print(model_4.get_all_params())"
      ],
      "metadata": {
        "colab": {
          "base_uri": "https://localhost:8080/"
        },
        "id": "n-i3M9TEmmYm",
        "outputId": "de69ab0a-e56f-4b2e-f369-7f2fed75db84"
      },
      "execution_count": 258,
      "outputs": [
        {
          "output_type": "stream",
          "name": "stdout",
          "text": [
            "{'nan_mode': 'Min', 'eval_metric': 'Logloss', 'iterations': 1000, 'sampling_frequency': 'PerTree', 'leaf_estimation_method': 'Newton', 'grow_policy': 'SymmetricTree', 'penalties_coefficient': 1, 'boosting_type': 'Plain', 'model_shrink_mode': 'Constant', 'feature_border_type': 'GreedyLogSum', 'bayesian_matrix_reg': 0.10000000149011612, 'force_unit_auto_pair_weights': False, 'l2_leaf_reg': 3, 'random_strength': 1, 'rsm': 1, 'boost_from_average': False, 'model_size_reg': 0.5, 'pool_metainfo_options': {'tags': {}}, 'subsample': 0.800000011920929, 'use_best_model': False, 'class_names': [0, 1], 'random_seed': 0, 'depth': 6, 'posterior_sampling': False, 'border_count': 254, 'classes_count': 0, 'auto_class_weights': 'None', 'sparse_features_conflict_fraction': 0, 'leaf_estimation_backtracking': 'AnyImprovement', 'best_model_min_trees': 1, 'model_shrink_rate': 0, 'min_data_in_leaf': 1, 'loss_function': 'Logloss', 'learning_rate': 0.024250999093055725, 'score_function': 'Cosine', 'task_type': 'CPU', 'leaf_estimation_iterations': 10, 'bootstrap_type': 'MVS', 'max_leaves': 64}\n"
          ]
        }
      ]
    },
    {
      "cell_type": "markdown",
      "source": [
        "We will optimize:\n",
        "* the learning rate\n",
        "* Depth\n",
        "* Iteration\n"
      ],
      "metadata": {
        "id": "Iol-Xn7PZ0x1"
      }
    },
    {
      "cell_type": "code",
      "source": [
        "from scipy.stats import uniform as sp_randFloat\n",
        "from scipy.stats import randint as sp_randInt \n",
        "parameters = {'depth'         : sp_randInt(4, 10),\n",
        "                  'learning_rate' : sp_randFloat(0.001, 0.1),\n",
        "                  #'iterations'    : sp_randInt(800, 1500)\n",
        "                  'iterations':[100 ,1000, 1300, 1500]\n",
        "                 }"
      ],
      "metadata": {
        "id": "4frq6zfGfeNS"
      },
      "execution_count": 269,
      "outputs": []
    },
    {
      "cell_type": "code",
      "source": [
        "cb=CatBoostClassifier()"
      ],
      "metadata": {
        "id": "aR1C0VEqdsu5"
      },
      "execution_count": 270,
      "outputs": []
    },
    {
      "cell_type": "code",
      "source": [
        "randm = RandomizedSearchCV(estimator=cb, param_distributions= parameters, \n",
        "                               cv = 3, n_iter = 10, n_jobs=-1)"
      ],
      "metadata": {
        "id": "PveH7lAndbYV"
      },
      "execution_count": 271,
      "outputs": []
    },
    {
      "cell_type": "code",
      "source": [
        "randm.fit(X_train_smote, y_train_smote)\n",
        "print(\"\\n The best parameters across ALL searched params:\\n\",\n",
        "          randm.best_params_)"
      ],
      "metadata": {
        "colab": {
          "base_uri": "https://localhost:8080/"
        },
        "id": "S9VFkI4mgUQc",
        "outputId": "42fd032f-f47b-431c-f99e-069d88d88be7"
      },
      "execution_count": 272,
      "outputs": [
        {
          "output_type": "stream",
          "name": "stdout",
          "text": [
            "0:\tlearn: 0.6476846\ttotal: 45ms\tremaining: 58.5s\n",
            "1:\tlearn: 0.6059188\ttotal: 77.1ms\tremaining: 50s\n",
            "2:\tlearn: 0.5725875\ttotal: 108ms\tremaining: 46.8s\n",
            "3:\tlearn: 0.5468400\ttotal: 141ms\tremaining: 45.8s\n",
            "4:\tlearn: 0.5195036\ttotal: 185ms\tremaining: 47.8s\n",
            "5:\tlearn: 0.4937534\ttotal: 217ms\tremaining: 46.9s\n",
            "6:\tlearn: 0.4702820\ttotal: 255ms\tremaining: 47.1s\n",
            "7:\tlearn: 0.4528641\ttotal: 287ms\tremaining: 46.4s\n",
            "8:\tlearn: 0.4355963\ttotal: 319ms\tremaining: 45.7s\n",
            "9:\tlearn: 0.4208248\ttotal: 350ms\tremaining: 45.2s\n",
            "10:\tlearn: 0.4043774\ttotal: 384ms\tremaining: 45s\n",
            "11:\tlearn: 0.3915079\ttotal: 416ms\tremaining: 44.7s\n",
            "12:\tlearn: 0.3824068\ttotal: 449ms\tremaining: 44.5s\n",
            "13:\tlearn: 0.3729709\ttotal: 488ms\tremaining: 44.8s\n",
            "14:\tlearn: 0.3652746\ttotal: 521ms\tremaining: 44.6s\n",
            "15:\tlearn: 0.3566368\ttotal: 552ms\tremaining: 44.3s\n",
            "16:\tlearn: 0.3500764\ttotal: 586ms\tremaining: 44.2s\n",
            "17:\tlearn: 0.3437741\ttotal: 617ms\tremaining: 43.9s\n",
            "18:\tlearn: 0.3390425\ttotal: 647ms\tremaining: 43.6s\n",
            "19:\tlearn: 0.3327977\ttotal: 680ms\tremaining: 43.5s\n",
            "20:\tlearn: 0.3274967\ttotal: 715ms\tremaining: 43.5s\n",
            "21:\tlearn: 0.3233615\ttotal: 747ms\tremaining: 43.4s\n",
            "22:\tlearn: 0.3196895\ttotal: 781ms\tremaining: 43.4s\n",
            "23:\tlearn: 0.3166984\ttotal: 812ms\tremaining: 43.2s\n",
            "24:\tlearn: 0.3116663\ttotal: 843ms\tremaining: 43s\n",
            "25:\tlearn: 0.3070587\ttotal: 873ms\tremaining: 42.8s\n",
            "26:\tlearn: 0.3040190\ttotal: 906ms\tremaining: 42.7s\n",
            "27:\tlearn: 0.3010933\ttotal: 942ms\tremaining: 42.8s\n",
            "28:\tlearn: 0.2977898\ttotal: 975ms\tremaining: 42.7s\n",
            "29:\tlearn: 0.2953921\ttotal: 1.01s\tremaining: 42.6s\n",
            "30:\tlearn: 0.2923841\ttotal: 1.04s\tremaining: 42.5s\n",
            "31:\tlearn: 0.2891859\ttotal: 1.07s\tremaining: 42.5s\n",
            "32:\tlearn: 0.2873344\ttotal: 1.1s\tremaining: 42.4s\n",
            "33:\tlearn: 0.2853589\ttotal: 1.14s\tremaining: 42.3s\n",
            "34:\tlearn: 0.2822638\ttotal: 1.19s\tremaining: 42.9s\n",
            "35:\tlearn: 0.2801046\ttotal: 1.23s\tremaining: 43s\n",
            "36:\tlearn: 0.2787294\ttotal: 1.26s\tremaining: 42.9s\n",
            "37:\tlearn: 0.2763442\ttotal: 1.31s\tremaining: 43.4s\n",
            "38:\tlearn: 0.2743126\ttotal: 1.34s\tremaining: 43.3s\n",
            "39:\tlearn: 0.2723711\ttotal: 1.37s\tremaining: 43.2s\n",
            "40:\tlearn: 0.2711202\ttotal: 1.41s\tremaining: 43.2s\n",
            "41:\tlearn: 0.2694223\ttotal: 1.44s\tremaining: 43.2s\n",
            "42:\tlearn: 0.2678255\ttotal: 1.48s\tremaining: 43.1s\n",
            "43:\tlearn: 0.2664158\ttotal: 1.51s\tremaining: 43s\n",
            "44:\tlearn: 0.2653968\ttotal: 1.54s\tremaining: 42.9s\n",
            "45:\tlearn: 0.2633606\ttotal: 1.57s\tremaining: 42.8s\n",
            "46:\tlearn: 0.2613154\ttotal: 1.6s\tremaining: 42.6s\n",
            "47:\tlearn: 0.2598208\ttotal: 1.64s\tremaining: 42.7s\n",
            "48:\tlearn: 0.2582987\ttotal: 1.67s\tremaining: 42.6s\n",
            "49:\tlearn: 0.2567579\ttotal: 1.7s\tremaining: 42.5s\n",
            "50:\tlearn: 0.2553660\ttotal: 1.73s\tremaining: 42.4s\n",
            "51:\tlearn: 0.2544159\ttotal: 1.77s\tremaining: 42.4s\n",
            "52:\tlearn: 0.2527985\ttotal: 1.8s\tremaining: 42.3s\n",
            "53:\tlearn: 0.2514687\ttotal: 1.83s\tremaining: 42.2s\n",
            "54:\tlearn: 0.2506583\ttotal: 1.86s\tremaining: 42.2s\n",
            "55:\tlearn: 0.2499677\ttotal: 1.9s\tremaining: 42.2s\n",
            "56:\tlearn: 0.2493554\ttotal: 1.93s\tremaining: 42.1s\n",
            "57:\tlearn: 0.2483184\ttotal: 1.96s\tremaining: 42s\n",
            "58:\tlearn: 0.2472882\ttotal: 2s\tremaining: 42s\n",
            "59:\tlearn: 0.2459315\ttotal: 2.03s\tremaining: 41.9s\n",
            "60:\tlearn: 0.2445359\ttotal: 2.06s\tremaining: 41.8s\n",
            "61:\tlearn: 0.2435115\ttotal: 2.1s\tremaining: 41.8s\n",
            "62:\tlearn: 0.2423072\ttotal: 2.13s\tremaining: 41.8s\n",
            "63:\tlearn: 0.2414565\ttotal: 2.16s\tremaining: 41.8s\n",
            "64:\tlearn: 0.2405551\ttotal: 2.21s\tremaining: 42s\n",
            "65:\tlearn: 0.2398217\ttotal: 2.25s\tremaining: 42s\n",
            "66:\tlearn: 0.2391518\ttotal: 2.28s\tremaining: 42s\n",
            "67:\tlearn: 0.2386342\ttotal: 2.31s\tremaining: 41.9s\n",
            "68:\tlearn: 0.2377732\ttotal: 2.35s\tremaining: 41.8s\n",
            "69:\tlearn: 0.2364194\ttotal: 2.38s\tremaining: 41.9s\n",
            "70:\tlearn: 0.2360419\ttotal: 2.41s\tremaining: 41.8s\n",
            "71:\tlearn: 0.2353976\ttotal: 2.45s\tremaining: 41.7s\n",
            "72:\tlearn: 0.2349293\ttotal: 2.48s\tremaining: 41.7s\n",
            "73:\tlearn: 0.2342804\ttotal: 2.51s\tremaining: 41.6s\n",
            "74:\tlearn: 0.2335336\ttotal: 2.55s\tremaining: 41.7s\n",
            "75:\tlearn: 0.2327133\ttotal: 2.58s\tremaining: 41.6s\n",
            "76:\tlearn: 0.2318562\ttotal: 2.61s\tremaining: 41.5s\n",
            "77:\tlearn: 0.2312266\ttotal: 2.65s\tremaining: 41.4s\n",
            "78:\tlearn: 0.2307368\ttotal: 2.68s\tremaining: 41.4s\n",
            "79:\tlearn: 0.2298210\ttotal: 2.72s\tremaining: 41.4s\n",
            "80:\tlearn: 0.2291442\ttotal: 2.76s\tremaining: 41.5s\n",
            "81:\tlearn: 0.2285865\ttotal: 2.79s\tremaining: 41.4s\n",
            "82:\tlearn: 0.2278311\ttotal: 2.82s\tremaining: 41.4s\n",
            "83:\tlearn: 0.2271040\ttotal: 2.85s\tremaining: 41.3s\n",
            "84:\tlearn: 0.2264109\ttotal: 2.88s\tremaining: 41.2s\n",
            "85:\tlearn: 0.2257870\ttotal: 2.91s\tremaining: 41.1s\n",
            "86:\tlearn: 0.2252665\ttotal: 2.95s\tremaining: 41.1s\n",
            "87:\tlearn: 0.2247580\ttotal: 2.99s\tremaining: 41.1s\n",
            "88:\tlearn: 0.2241881\ttotal: 3.02s\tremaining: 41.1s\n",
            "89:\tlearn: 0.2231709\ttotal: 3.05s\tremaining: 41s\n",
            "90:\tlearn: 0.2222007\ttotal: 3.08s\tremaining: 41s\n",
            "91:\tlearn: 0.2216283\ttotal: 3.12s\tremaining: 40.9s\n",
            "92:\tlearn: 0.2212077\ttotal: 3.15s\tremaining: 40.8s\n",
            "93:\tlearn: 0.2204571\ttotal: 3.18s\tremaining: 40.8s\n",
            "94:\tlearn: 0.2199026\ttotal: 3.23s\tremaining: 41s\n",
            "95:\tlearn: 0.2195331\ttotal: 3.26s\tremaining: 40.9s\n",
            "96:\tlearn: 0.2189382\ttotal: 3.3s\tremaining: 40.9s\n",
            "97:\tlearn: 0.2184280\ttotal: 3.33s\tremaining: 40.8s\n",
            "98:\tlearn: 0.2178042\ttotal: 3.36s\tremaining: 40.8s\n",
            "99:\tlearn: 0.2174560\ttotal: 3.39s\tremaining: 40.7s\n",
            "100:\tlearn: 0.2171461\ttotal: 3.42s\tremaining: 40.6s\n",
            "101:\tlearn: 0.2163570\ttotal: 3.46s\tremaining: 40.6s\n",
            "102:\tlearn: 0.2158519\ttotal: 3.49s\tremaining: 40.5s\n",
            "103:\tlearn: 0.2153050\ttotal: 3.52s\tremaining: 40.5s\n",
            "104:\tlearn: 0.2148266\ttotal: 3.55s\tremaining: 40.4s\n",
            "105:\tlearn: 0.2144378\ttotal: 3.58s\tremaining: 40.3s\n",
            "106:\tlearn: 0.2139905\ttotal: 3.61s\tremaining: 40.3s\n",
            "107:\tlearn: 0.2136521\ttotal: 3.64s\tremaining: 40.2s\n",
            "108:\tlearn: 0.2133299\ttotal: 3.68s\tremaining: 40.2s\n",
            "109:\tlearn: 0.2127117\ttotal: 3.71s\tremaining: 40.2s\n",
            "110:\tlearn: 0.2119094\ttotal: 3.75s\tremaining: 40.2s\n",
            "111:\tlearn: 0.2113775\ttotal: 3.78s\tremaining: 40.1s\n",
            "112:\tlearn: 0.2109798\ttotal: 3.82s\tremaining: 40.1s\n",
            "113:\tlearn: 0.2105022\ttotal: 3.85s\tremaining: 40s\n",
            "114:\tlearn: 0.2101594\ttotal: 3.88s\tremaining: 40s\n",
            "115:\tlearn: 0.2096070\ttotal: 3.92s\tremaining: 40s\n",
            "116:\tlearn: 0.2090589\ttotal: 3.95s\tremaining: 40s\n",
            "117:\tlearn: 0.2088118\ttotal: 3.98s\tremaining: 39.9s\n",
            "118:\tlearn: 0.2084983\ttotal: 4.01s\tremaining: 39.8s\n",
            "119:\tlearn: 0.2075962\ttotal: 4.05s\tremaining: 39.8s\n",
            "120:\tlearn: 0.2072021\ttotal: 4.08s\tremaining: 39.7s\n",
            "121:\tlearn: 0.2066207\ttotal: 4.11s\tremaining: 39.7s\n",
            "122:\tlearn: 0.2060901\ttotal: 4.14s\tremaining: 39.7s\n",
            "123:\tlearn: 0.2054055\ttotal: 4.17s\tremaining: 39.6s\n",
            "124:\tlearn: 0.2048503\ttotal: 4.21s\tremaining: 39.5s\n",
            "125:\tlearn: 0.2042171\ttotal: 4.25s\tremaining: 39.6s\n",
            "126:\tlearn: 0.2036422\ttotal: 4.29s\tremaining: 39.6s\n",
            "127:\tlearn: 0.2033681\ttotal: 4.32s\tremaining: 39.6s\n",
            "128:\tlearn: 0.2029587\ttotal: 4.36s\tremaining: 39.5s\n",
            "129:\tlearn: 0.2024962\ttotal: 4.39s\tremaining: 39.5s\n",
            "130:\tlearn: 0.2019311\ttotal: 4.42s\tremaining: 39.4s\n",
            "131:\tlearn: 0.2014537\ttotal: 4.46s\tremaining: 39.4s\n",
            "132:\tlearn: 0.2009123\ttotal: 4.49s\tremaining: 39.4s\n",
            "133:\tlearn: 0.2005231\ttotal: 4.52s\tremaining: 39.3s\n",
            "134:\tlearn: 0.1999577\ttotal: 4.56s\tremaining: 39.3s\n",
            "135:\tlearn: 0.1998241\ttotal: 4.59s\tremaining: 39.3s\n",
            "136:\tlearn: 0.1994138\ttotal: 4.62s\tremaining: 39.2s\n",
            "137:\tlearn: 0.1989382\ttotal: 4.65s\tremaining: 39.2s\n",
            "138:\tlearn: 0.1984500\ttotal: 4.68s\tremaining: 39.1s\n",
            "139:\tlearn: 0.1978769\ttotal: 4.72s\tremaining: 39.1s\n",
            "140:\tlearn: 0.1974057\ttotal: 4.75s\tremaining: 39.1s\n",
            "141:\tlearn: 0.1969734\ttotal: 4.79s\tremaining: 39.1s\n",
            "142:\tlearn: 0.1967928\ttotal: 4.82s\tremaining: 39s\n",
            "143:\tlearn: 0.1964421\ttotal: 4.86s\tremaining: 39s\n",
            "144:\tlearn: 0.1960429\ttotal: 4.89s\tremaining: 38.9s\n",
            "145:\tlearn: 0.1956918\ttotal: 4.92s\tremaining: 38.9s\n",
            "146:\tlearn: 0.1954379\ttotal: 4.95s\tremaining: 38.8s\n",
            "147:\tlearn: 0.1949754\ttotal: 4.99s\tremaining: 38.8s\n",
            "148:\tlearn: 0.1945225\ttotal: 5.02s\tremaining: 38.8s\n",
            "149:\tlearn: 0.1941745\ttotal: 5.06s\tremaining: 38.8s\n",
            "150:\tlearn: 0.1938633\ttotal: 5.09s\tremaining: 38.7s\n",
            "151:\tlearn: 0.1932644\ttotal: 5.12s\tremaining: 38.7s\n",
            "152:\tlearn: 0.1927135\ttotal: 5.15s\tremaining: 38.6s\n",
            "153:\tlearn: 0.1923846\ttotal: 5.18s\tremaining: 38.6s\n",
            "154:\tlearn: 0.1920751\ttotal: 5.22s\tremaining: 38.6s\n",
            "155:\tlearn: 0.1917107\ttotal: 5.27s\tremaining: 38.6s\n",
            "156:\tlearn: 0.1913404\ttotal: 5.3s\tremaining: 38.6s\n",
            "157:\tlearn: 0.1909439\ttotal: 5.34s\tremaining: 38.6s\n",
            "158:\tlearn: 0.1905729\ttotal: 5.37s\tremaining: 38.5s\n",
            "159:\tlearn: 0.1902768\ttotal: 5.4s\tremaining: 38.5s\n",
            "160:\tlearn: 0.1897794\ttotal: 5.43s\tremaining: 38.4s\n",
            "161:\tlearn: 0.1894589\ttotal: 5.46s\tremaining: 38.4s\n",
            "162:\tlearn: 0.1891575\ttotal: 5.5s\tremaining: 38.3s\n",
            "163:\tlearn: 0.1888601\ttotal: 5.53s\tremaining: 38.3s\n",
            "164:\tlearn: 0.1886349\ttotal: 5.56s\tremaining: 38.3s\n",
            "165:\tlearn: 0.1882444\ttotal: 5.6s\tremaining: 38.2s\n",
            "166:\tlearn: 0.1880657\ttotal: 5.63s\tremaining: 38.2s\n",
            "167:\tlearn: 0.1876477\ttotal: 5.66s\tremaining: 38.1s\n",
            "168:\tlearn: 0.1872359\ttotal: 5.69s\tremaining: 38.1s\n",
            "169:\tlearn: 0.1865793\ttotal: 5.73s\tremaining: 38.1s\n",
            "170:\tlearn: 0.1862060\ttotal: 5.76s\tremaining: 38s\n",
            "171:\tlearn: 0.1860007\ttotal: 5.79s\tremaining: 38s\n",
            "172:\tlearn: 0.1855813\ttotal: 5.83s\tremaining: 38s\n",
            "173:\tlearn: 0.1853417\ttotal: 5.86s\tremaining: 37.9s\n",
            "174:\tlearn: 0.1849850\ttotal: 5.89s\tremaining: 37.9s\n",
            "175:\tlearn: 0.1843872\ttotal: 5.92s\tremaining: 37.8s\n",
            "176:\tlearn: 0.1842274\ttotal: 5.96s\tremaining: 37.8s\n",
            "177:\tlearn: 0.1836921\ttotal: 5.99s\tremaining: 37.8s\n",
            "178:\tlearn: 0.1829078\ttotal: 6.03s\tremaining: 37.8s\n",
            "179:\tlearn: 0.1824660\ttotal: 6.06s\tremaining: 37.7s\n",
            "180:\tlearn: 0.1820074\ttotal: 6.09s\tremaining: 37.7s\n",
            "181:\tlearn: 0.1815208\ttotal: 6.12s\tremaining: 37.6s\n",
            "182:\tlearn: 0.1811618\ttotal: 6.15s\tremaining: 37.6s\n",
            "183:\tlearn: 0.1807414\ttotal: 6.19s\tremaining: 37.5s\n",
            "184:\tlearn: 0.1803698\ttotal: 6.22s\tremaining: 37.5s\n",
            "185:\tlearn: 0.1799622\ttotal: 6.26s\tremaining: 37.5s\n",
            "186:\tlearn: 0.1795060\ttotal: 6.3s\tremaining: 37.5s\n",
            "187:\tlearn: 0.1789487\ttotal: 6.33s\tremaining: 37.4s\n",
            "188:\tlearn: 0.1784895\ttotal: 6.36s\tremaining: 37.4s\n",
            "189:\tlearn: 0.1781085\ttotal: 6.39s\tremaining: 37.3s\n",
            "190:\tlearn: 0.1776686\ttotal: 6.42s\tremaining: 37.3s\n",
            "191:\tlearn: 0.1773327\ttotal: 6.46s\tremaining: 37.3s\n",
            "192:\tlearn: 0.1771739\ttotal: 6.49s\tremaining: 37.2s\n",
            "193:\tlearn: 0.1764196\ttotal: 6.52s\tremaining: 37.2s\n",
            "194:\tlearn: 0.1761367\ttotal: 6.55s\tremaining: 37.1s\n",
            "195:\tlearn: 0.1757015\ttotal: 6.58s\tremaining: 37.1s\n",
            "196:\tlearn: 0.1752216\ttotal: 6.62s\tremaining: 37.1s\n",
            "197:\tlearn: 0.1749607\ttotal: 6.65s\tremaining: 37s\n",
            "198:\tlearn: 0.1746222\ttotal: 6.68s\tremaining: 37s\n",
            "199:\tlearn: 0.1744837\ttotal: 6.71s\tremaining: 36.9s\n",
            "200:\tlearn: 0.1741354\ttotal: 6.75s\tremaining: 36.9s\n",
            "201:\tlearn: 0.1738970\ttotal: 6.78s\tremaining: 36.8s\n",
            "202:\tlearn: 0.1734655\ttotal: 6.81s\tremaining: 36.8s\n",
            "203:\tlearn: 0.1731381\ttotal: 6.84s\tremaining: 36.8s\n",
            "204:\tlearn: 0.1728970\ttotal: 6.88s\tremaining: 36.7s\n",
            "205:\tlearn: 0.1725506\ttotal: 6.91s\tremaining: 36.7s\n",
            "206:\tlearn: 0.1721705\ttotal: 6.94s\tremaining: 36.6s\n",
            "207:\tlearn: 0.1716632\ttotal: 6.97s\tremaining: 36.6s\n",
            "208:\tlearn: 0.1713428\ttotal: 7s\tremaining: 36.6s\n",
            "209:\tlearn: 0.1708642\ttotal: 7.03s\tremaining: 36.5s\n",
            "210:\tlearn: 0.1704573\ttotal: 7.07s\tremaining: 36.5s\n",
            "211:\tlearn: 0.1701731\ttotal: 7.11s\tremaining: 36.5s\n",
            "212:\tlearn: 0.1696465\ttotal: 7.14s\tremaining: 36.4s\n",
            "213:\tlearn: 0.1693099\ttotal: 7.17s\tremaining: 36.4s\n",
            "214:\tlearn: 0.1691158\ttotal: 7.2s\tremaining: 36.3s\n",
            "215:\tlearn: 0.1687819\ttotal: 7.23s\tremaining: 36.3s\n",
            "216:\tlearn: 0.1687343\ttotal: 7.28s\tremaining: 36.3s\n",
            "217:\tlearn: 0.1685359\ttotal: 7.31s\tremaining: 36.3s\n",
            "218:\tlearn: 0.1680487\ttotal: 7.34s\tremaining: 36.3s\n",
            "219:\tlearn: 0.1677948\ttotal: 7.37s\tremaining: 36.2s\n",
            "220:\tlearn: 0.1674323\ttotal: 7.4s\tremaining: 36.1s\n",
            "221:\tlearn: 0.1670992\ttotal: 7.44s\tremaining: 36.1s\n",
            "222:\tlearn: 0.1664487\ttotal: 7.47s\tremaining: 36.1s\n",
            "223:\tlearn: 0.1661862\ttotal: 7.51s\tremaining: 36.1s\n",
            "224:\tlearn: 0.1659805\ttotal: 7.54s\tremaining: 36s\n",
            "225:\tlearn: 0.1657420\ttotal: 7.57s\tremaining: 36s\n",
            "226:\tlearn: 0.1652476\ttotal: 7.6s\tremaining: 35.9s\n",
            "227:\tlearn: 0.1649548\ttotal: 7.63s\tremaining: 35.9s\n",
            "228:\tlearn: 0.1646257\ttotal: 7.67s\tremaining: 35.9s\n",
            "229:\tlearn: 0.1643238\ttotal: 7.7s\tremaining: 35.8s\n",
            "230:\tlearn: 0.1639629\ttotal: 7.74s\tremaining: 35.8s\n",
            "231:\tlearn: 0.1635971\ttotal: 7.77s\tremaining: 35.8s\n",
            "232:\tlearn: 0.1634037\ttotal: 7.8s\tremaining: 35.7s\n",
            "233:\tlearn: 0.1631601\ttotal: 7.83s\tremaining: 35.7s\n",
            "234:\tlearn: 0.1627886\ttotal: 7.87s\tremaining: 35.6s\n",
            "235:\tlearn: 0.1625816\ttotal: 7.9s\tremaining: 35.6s\n",
            "236:\tlearn: 0.1620649\ttotal: 7.93s\tremaining: 35.6s\n",
            "237:\tlearn: 0.1617231\ttotal: 7.97s\tremaining: 35.6s\n",
            "238:\tlearn: 0.1615070\ttotal: 8.01s\tremaining: 35.6s\n",
            "239:\tlearn: 0.1609999\ttotal: 8.04s\tremaining: 35.5s\n",
            "240:\tlearn: 0.1607348\ttotal: 8.07s\tremaining: 35.5s\n",
            "241:\tlearn: 0.1604249\ttotal: 8.11s\tremaining: 35.4s\n",
            "242:\tlearn: 0.1600254\ttotal: 8.14s\tremaining: 35.4s\n",
            "243:\tlearn: 0.1595718\ttotal: 8.17s\tremaining: 35.4s\n",
            "244:\tlearn: 0.1594030\ttotal: 8.21s\tremaining: 35.3s\n",
            "245:\tlearn: 0.1589873\ttotal: 8.24s\tremaining: 35.3s\n",
            "246:\tlearn: 0.1587462\ttotal: 8.29s\tremaining: 35.3s\n",
            "247:\tlearn: 0.1585423\ttotal: 8.32s\tremaining: 35.3s\n",
            "248:\tlearn: 0.1580175\ttotal: 8.35s\tremaining: 35.3s\n",
            "249:\tlearn: 0.1575212\ttotal: 8.38s\tremaining: 35.2s\n",
            "250:\tlearn: 0.1573178\ttotal: 8.41s\tremaining: 35.2s\n",
            "251:\tlearn: 0.1570515\ttotal: 8.45s\tremaining: 35.1s\n",
            "252:\tlearn: 0.1564460\ttotal: 8.48s\tremaining: 35.1s\n",
            "253:\tlearn: 0.1564109\ttotal: 8.51s\tremaining: 35s\n",
            "254:\tlearn: 0.1560220\ttotal: 8.54s\tremaining: 35s\n",
            "255:\tlearn: 0.1555063\ttotal: 8.57s\tremaining: 35s\n",
            "256:\tlearn: 0.1552919\ttotal: 8.6s\tremaining: 34.9s\n",
            "257:\tlearn: 0.1548828\ttotal: 8.64s\tremaining: 34.9s\n",
            "258:\tlearn: 0.1546400\ttotal: 8.67s\tremaining: 34.9s\n",
            "259:\tlearn: 0.1541272\ttotal: 8.71s\tremaining: 34.8s\n",
            "260:\tlearn: 0.1539228\ttotal: 8.74s\tremaining: 34.8s\n",
            "261:\tlearn: 0.1534677\ttotal: 8.77s\tremaining: 34.7s\n",
            "262:\tlearn: 0.1530962\ttotal: 8.8s\tremaining: 34.7s\n",
            "263:\tlearn: 0.1526619\ttotal: 8.83s\tremaining: 34.7s\n",
            "264:\tlearn: 0.1524800\ttotal: 8.87s\tremaining: 34.6s\n",
            "265:\tlearn: 0.1519549\ttotal: 8.9s\tremaining: 34.6s\n",
            "266:\tlearn: 0.1513743\ttotal: 8.93s\tremaining: 34.5s\n",
            "267:\tlearn: 0.1511522\ttotal: 8.96s\tremaining: 34.5s\n",
            "268:\tlearn: 0.1507386\ttotal: 8.99s\tremaining: 34.5s\n",
            "269:\tlearn: 0.1503679\ttotal: 9.02s\tremaining: 34.4s\n",
            "270:\tlearn: 0.1500990\ttotal: 9.06s\tremaining: 34.4s\n",
            "271:\tlearn: 0.1497825\ttotal: 9.1s\tremaining: 34.4s\n",
            "272:\tlearn: 0.1493441\ttotal: 9.13s\tremaining: 34.3s\n",
            "273:\tlearn: 0.1490368\ttotal: 9.16s\tremaining: 34.3s\n",
            "274:\tlearn: 0.1489056\ttotal: 9.19s\tremaining: 34.3s\n",
            "275:\tlearn: 0.1485979\ttotal: 9.23s\tremaining: 34.2s\n",
            "276:\tlearn: 0.1481906\ttotal: 9.26s\tremaining: 34.2s\n",
            "277:\tlearn: 0.1478695\ttotal: 9.31s\tremaining: 34.2s\n",
            "278:\tlearn: 0.1477418\ttotal: 9.34s\tremaining: 34.2s\n",
            "279:\tlearn: 0.1472853\ttotal: 9.37s\tremaining: 34.1s\n",
            "280:\tlearn: 0.1472642\ttotal: 9.4s\tremaining: 34.1s\n",
            "281:\tlearn: 0.1466881\ttotal: 9.43s\tremaining: 34s\n",
            "282:\tlearn: 0.1464826\ttotal: 9.46s\tremaining: 34s\n",
            "283:\tlearn: 0.1461633\ttotal: 9.5s\tremaining: 34s\n",
            "284:\tlearn: 0.1458257\ttotal: 9.54s\tremaining: 34s\n",
            "285:\tlearn: 0.1455276\ttotal: 9.57s\tremaining: 33.9s\n",
            "286:\tlearn: 0.1449991\ttotal: 9.6s\tremaining: 33.9s\n",
            "287:\tlearn: 0.1448270\ttotal: 9.63s\tremaining: 33.9s\n",
            "288:\tlearn: 0.1445089\ttotal: 9.67s\tremaining: 33.8s\n",
            "289:\tlearn: 0.1442335\ttotal: 9.7s\tremaining: 33.8s\n",
            "290:\tlearn: 0.1438013\ttotal: 9.73s\tremaining: 33.7s\n",
            "291:\tlearn: 0.1433573\ttotal: 9.77s\tremaining: 33.7s\n",
            "292:\tlearn: 0.1428994\ttotal: 9.8s\tremaining: 33.7s\n",
            "293:\tlearn: 0.1426320\ttotal: 9.83s\tremaining: 33.6s\n",
            "294:\tlearn: 0.1423447\ttotal: 9.87s\tremaining: 33.6s\n",
            "295:\tlearn: 0.1421169\ttotal: 9.9s\tremaining: 33.6s\n",
            "296:\tlearn: 0.1418881\ttotal: 9.93s\tremaining: 33.5s\n",
            "297:\tlearn: 0.1417122\ttotal: 9.96s\tremaining: 33.5s\n",
            "298:\tlearn: 0.1413470\ttotal: 10s\tremaining: 33.5s\n",
            "299:\tlearn: 0.1411273\ttotal: 10s\tremaining: 33.4s\n",
            "300:\tlearn: 0.1408631\ttotal: 10.1s\tremaining: 33.4s\n",
            "301:\tlearn: 0.1405435\ttotal: 10.1s\tremaining: 33.4s\n",
            "302:\tlearn: 0.1402323\ttotal: 10.1s\tremaining: 33.3s\n",
            "303:\tlearn: 0.1399144\ttotal: 10.2s\tremaining: 33.3s\n",
            "304:\tlearn: 0.1397535\ttotal: 10.2s\tremaining: 33.3s\n",
            "305:\tlearn: 0.1394922\ttotal: 10.2s\tremaining: 33.2s\n",
            "306:\tlearn: 0.1391497\ttotal: 10.3s\tremaining: 33.2s\n",
            "307:\tlearn: 0.1388649\ttotal: 10.3s\tremaining: 33.2s\n",
            "308:\tlearn: 0.1383709\ttotal: 10.3s\tremaining: 33.2s\n",
            "309:\tlearn: 0.1379322\ttotal: 10.4s\tremaining: 33.1s\n",
            "310:\tlearn: 0.1375088\ttotal: 10.4s\tremaining: 33.1s\n",
            "311:\tlearn: 0.1372130\ttotal: 10.4s\tremaining: 33.1s\n",
            "312:\tlearn: 0.1369516\ttotal: 10.5s\tremaining: 33s\n",
            "313:\tlearn: 0.1367878\ttotal: 10.5s\tremaining: 33s\n",
            "314:\tlearn: 0.1365799\ttotal: 10.5s\tremaining: 33s\n",
            "315:\tlearn: 0.1364471\ttotal: 10.6s\tremaining: 32.9s\n",
            "316:\tlearn: 0.1362620\ttotal: 10.6s\tremaining: 32.9s\n",
            "317:\tlearn: 0.1358673\ttotal: 10.6s\tremaining: 32.9s\n",
            "318:\tlearn: 0.1355944\ttotal: 10.7s\tremaining: 32.8s\n",
            "319:\tlearn: 0.1353857\ttotal: 10.7s\tremaining: 32.8s\n",
            "320:\tlearn: 0.1351420\ttotal: 10.7s\tremaining: 32.8s\n",
            "321:\tlearn: 0.1348428\ttotal: 10.8s\tremaining: 32.7s\n",
            "322:\tlearn: 0.1344380\ttotal: 10.8s\tremaining: 32.7s\n",
            "323:\tlearn: 0.1342343\ttotal: 10.8s\tremaining: 32.7s\n",
            "324:\tlearn: 0.1340967\ttotal: 10.9s\tremaining: 32.6s\n",
            "325:\tlearn: 0.1339369\ttotal: 10.9s\tremaining: 32.6s\n",
            "326:\tlearn: 0.1337447\ttotal: 10.9s\tremaining: 32.6s\n",
            "327:\tlearn: 0.1335112\ttotal: 11s\tremaining: 32.5s\n",
            "328:\tlearn: 0.1332318\ttotal: 11s\tremaining: 32.5s\n",
            "329:\tlearn: 0.1330696\ttotal: 11s\tremaining: 32.5s\n",
            "330:\tlearn: 0.1328594\ttotal: 11.1s\tremaining: 32.4s\n",
            "331:\tlearn: 0.1326871\ttotal: 11.1s\tremaining: 32.4s\n",
            "332:\tlearn: 0.1322894\ttotal: 11.1s\tremaining: 32.4s\n",
            "333:\tlearn: 0.1319605\ttotal: 11.2s\tremaining: 32.3s\n",
            "334:\tlearn: 0.1319168\ttotal: 11.2s\tremaining: 32.3s\n",
            "335:\tlearn: 0.1317199\ttotal: 11.2s\tremaining: 32.3s\n",
            "336:\tlearn: 0.1315766\ttotal: 11.3s\tremaining: 32.2s\n",
            "337:\tlearn: 0.1312758\ttotal: 11.3s\tremaining: 32.2s\n",
            "338:\tlearn: 0.1308481\ttotal: 11.4s\tremaining: 32.2s\n",
            "339:\tlearn: 0.1305314\ttotal: 11.4s\tremaining: 32.1s\n",
            "340:\tlearn: 0.1301410\ttotal: 11.4s\tremaining: 32.1s\n",
            "341:\tlearn: 0.1297787\ttotal: 11.4s\tremaining: 32.1s\n",
            "342:\tlearn: 0.1294732\ttotal: 11.5s\tremaining: 32s\n",
            "343:\tlearn: 0.1292843\ttotal: 11.5s\tremaining: 32s\n",
            "344:\tlearn: 0.1290939\ttotal: 11.5s\tremaining: 32s\n",
            "345:\tlearn: 0.1289706\ttotal: 11.6s\tremaining: 31.9s\n",
            "346:\tlearn: 0.1286751\ttotal: 11.6s\tremaining: 31.9s\n",
            "347:\tlearn: 0.1284342\ttotal: 11.7s\tremaining: 31.9s\n",
            "348:\tlearn: 0.1281660\ttotal: 11.7s\tremaining: 31.9s\n",
            "349:\tlearn: 0.1279688\ttotal: 11.7s\tremaining: 31.8s\n",
            "350:\tlearn: 0.1276781\ttotal: 11.8s\tremaining: 31.8s\n",
            "351:\tlearn: 0.1274753\ttotal: 11.8s\tremaining: 31.8s\n",
            "352:\tlearn: 0.1273377\ttotal: 11.8s\tremaining: 31.8s\n",
            "353:\tlearn: 0.1271138\ttotal: 11.9s\tremaining: 31.7s\n",
            "354:\tlearn: 0.1269079\ttotal: 11.9s\tremaining: 31.7s\n",
            "355:\tlearn: 0.1267987\ttotal: 11.9s\tremaining: 31.7s\n",
            "356:\tlearn: 0.1266577\ttotal: 12s\tremaining: 31.6s\n",
            "357:\tlearn: 0.1265081\ttotal: 12s\tremaining: 31.6s\n",
            "358:\tlearn: 0.1262972\ttotal: 12s\tremaining: 31.5s\n",
            "359:\tlearn: 0.1260416\ttotal: 12.1s\tremaining: 31.5s\n",
            "360:\tlearn: 0.1259022\ttotal: 12.1s\tremaining: 31.5s\n",
            "361:\tlearn: 0.1256738\ttotal: 12.1s\tremaining: 31.4s\n",
            "362:\tlearn: 0.1254178\ttotal: 12.2s\tremaining: 31.4s\n",
            "363:\tlearn: 0.1252085\ttotal: 12.2s\tremaining: 31.4s\n",
            "364:\tlearn: 0.1249372\ttotal: 12.2s\tremaining: 31.3s\n",
            "365:\tlearn: 0.1247424\ttotal: 12.3s\tremaining: 31.3s\n",
            "366:\tlearn: 0.1243326\ttotal: 12.3s\tremaining: 31.3s\n",
            "367:\tlearn: 0.1240710\ttotal: 12.3s\tremaining: 31.3s\n",
            "368:\tlearn: 0.1239628\ttotal: 12.4s\tremaining: 31.2s\n",
            "369:\tlearn: 0.1236658\ttotal: 12.4s\tremaining: 31.2s\n",
            "370:\tlearn: 0.1233834\ttotal: 12.4s\tremaining: 31.2s\n",
            "371:\tlearn: 0.1230494\ttotal: 12.5s\tremaining: 31.2s\n",
            "372:\tlearn: 0.1229109\ttotal: 12.5s\tremaining: 31.1s\n",
            "373:\tlearn: 0.1226862\ttotal: 12.6s\tremaining: 31.1s\n",
            "374:\tlearn: 0.1225084\ttotal: 12.6s\tremaining: 31.1s\n",
            "375:\tlearn: 0.1221917\ttotal: 12.6s\tremaining: 31s\n",
            "376:\tlearn: 0.1221085\ttotal: 12.7s\tremaining: 31s\n",
            "377:\tlearn: 0.1220368\ttotal: 12.7s\tremaining: 31s\n",
            "378:\tlearn: 0.1219241\ttotal: 12.7s\tremaining: 30.9s\n",
            "379:\tlearn: 0.1216721\ttotal: 12.8s\tremaining: 30.9s\n",
            "380:\tlearn: 0.1214946\ttotal: 12.8s\tremaining: 30.9s\n",
            "381:\tlearn: 0.1213089\ttotal: 12.8s\tremaining: 30.8s\n",
            "382:\tlearn: 0.1210748\ttotal: 12.9s\tremaining: 30.8s\n",
            "383:\tlearn: 0.1207749\ttotal: 12.9s\tremaining: 30.7s\n",
            "384:\tlearn: 0.1204126\ttotal: 12.9s\tremaining: 30.7s\n",
            "385:\tlearn: 0.1200105\ttotal: 12.9s\tremaining: 30.7s\n",
            "386:\tlearn: 0.1198950\ttotal: 13s\tremaining: 30.6s\n",
            "387:\tlearn: 0.1195716\ttotal: 13s\tremaining: 30.6s\n",
            "388:\tlearn: 0.1193562\ttotal: 13s\tremaining: 30.6s\n",
            "389:\tlearn: 0.1191856\ttotal: 13.1s\tremaining: 30.5s\n",
            "390:\tlearn: 0.1188647\ttotal: 13.1s\tremaining: 30.5s\n",
            "391:\tlearn: 0.1186170\ttotal: 13.1s\tremaining: 30.4s\n",
            "392:\tlearn: 0.1182766\ttotal: 13.2s\tremaining: 30.4s\n",
            "393:\tlearn: 0.1179776\ttotal: 13.2s\tremaining: 30.4s\n",
            "394:\tlearn: 0.1177404\ttotal: 13.2s\tremaining: 30.3s\n",
            "395:\tlearn: 0.1172310\ttotal: 13.3s\tremaining: 30.3s\n",
            "396:\tlearn: 0.1167626\ttotal: 13.3s\tremaining: 30.3s\n",
            "397:\tlearn: 0.1165888\ttotal: 13.4s\tremaining: 30.3s\n",
            "398:\tlearn: 0.1164071\ttotal: 13.4s\tremaining: 30.2s\n",
            "399:\tlearn: 0.1162317\ttotal: 13.4s\tremaining: 30.2s\n",
            "400:\tlearn: 0.1158791\ttotal: 13.5s\tremaining: 30.2s\n",
            "401:\tlearn: 0.1156159\ttotal: 13.5s\tremaining: 30.1s\n",
            "402:\tlearn: 0.1155413\ttotal: 13.5s\tremaining: 30.1s\n",
            "403:\tlearn: 0.1151693\ttotal: 13.5s\tremaining: 30s\n",
            "404:\tlearn: 0.1149874\ttotal: 13.6s\tremaining: 30s\n",
            "405:\tlearn: 0.1148476\ttotal: 13.6s\tremaining: 30s\n",
            "406:\tlearn: 0.1146333\ttotal: 13.7s\tremaining: 30s\n",
            "407:\tlearn: 0.1144382\ttotal: 13.7s\tremaining: 29.9s\n",
            "408:\tlearn: 0.1142962\ttotal: 13.7s\tremaining: 29.9s\n",
            "409:\tlearn: 0.1140445\ttotal: 13.8s\tremaining: 29.9s\n",
            "410:\tlearn: 0.1139493\ttotal: 13.8s\tremaining: 29.8s\n",
            "411:\tlearn: 0.1136679\ttotal: 13.8s\tremaining: 29.8s\n",
            "412:\tlearn: 0.1134143\ttotal: 13.9s\tremaining: 29.8s\n",
            "413:\tlearn: 0.1133175\ttotal: 13.9s\tremaining: 29.7s\n",
            "414:\tlearn: 0.1130347\ttotal: 13.9s\tremaining: 29.7s\n",
            "415:\tlearn: 0.1127686\ttotal: 14s\tremaining: 29.7s\n",
            "416:\tlearn: 0.1125857\ttotal: 14s\tremaining: 29.6s\n",
            "417:\tlearn: 0.1124558\ttotal: 14s\tremaining: 29.6s\n",
            "418:\tlearn: 0.1121150\ttotal: 14.1s\tremaining: 29.6s\n",
            "419:\tlearn: 0.1120141\ttotal: 14.1s\tremaining: 29.5s\n",
            "420:\tlearn: 0.1118185\ttotal: 14.1s\tremaining: 29.5s\n",
            "421:\tlearn: 0.1116565\ttotal: 14.2s\tremaining: 29.5s\n",
            "422:\tlearn: 0.1115013\ttotal: 14.2s\tremaining: 29.4s\n",
            "423:\tlearn: 0.1112352\ttotal: 14.2s\tremaining: 29.4s\n",
            "424:\tlearn: 0.1111002\ttotal: 14.3s\tremaining: 29.4s\n",
            "425:\tlearn: 0.1109355\ttotal: 14.3s\tremaining: 29.3s\n",
            "426:\tlearn: 0.1108050\ttotal: 14.3s\tremaining: 29.3s\n",
            "427:\tlearn: 0.1105894\ttotal: 14.4s\tremaining: 29.3s\n",
            "428:\tlearn: 0.1104289\ttotal: 14.4s\tremaining: 29.2s\n",
            "429:\tlearn: 0.1102082\ttotal: 14.4s\tremaining: 29.2s\n",
            "430:\tlearn: 0.1101323\ttotal: 14.5s\tremaining: 29.2s\n",
            "431:\tlearn: 0.1099904\ttotal: 14.5s\tremaining: 29.1s\n",
            "432:\tlearn: 0.1098069\ttotal: 14.5s\tremaining: 29.1s\n",
            "433:\tlearn: 0.1096668\ttotal: 14.6s\tremaining: 29.1s\n",
            "434:\tlearn: 0.1095005\ttotal: 14.6s\tremaining: 29s\n",
            "435:\tlearn: 0.1092351\ttotal: 14.6s\tremaining: 29s\n",
            "436:\tlearn: 0.1088625\ttotal: 14.7s\tremaining: 29s\n",
            "437:\tlearn: 0.1086813\ttotal: 14.7s\tremaining: 28.9s\n",
            "438:\tlearn: 0.1085172\ttotal: 14.7s\tremaining: 28.9s\n",
            "439:\tlearn: 0.1083322\ttotal: 14.8s\tremaining: 28.9s\n",
            "440:\tlearn: 0.1080867\ttotal: 14.8s\tremaining: 28.9s\n",
            "441:\tlearn: 0.1077973\ttotal: 14.8s\tremaining: 28.8s\n",
            "442:\tlearn: 0.1076425\ttotal: 14.9s\tremaining: 28.8s\n",
            "443:\tlearn: 0.1075135\ttotal: 14.9s\tremaining: 28.7s\n",
            "444:\tlearn: 0.1071593\ttotal: 14.9s\tremaining: 28.7s\n",
            "445:\tlearn: 0.1070433\ttotal: 15s\tremaining: 28.7s\n",
            "446:\tlearn: 0.1069117\ttotal: 15s\tremaining: 28.6s\n",
            "447:\tlearn: 0.1068046\ttotal: 15s\tremaining: 28.6s\n",
            "448:\tlearn: 0.1067255\ttotal: 15.1s\tremaining: 28.6s\n",
            "449:\tlearn: 0.1065921\ttotal: 15.1s\tremaining: 28.5s\n",
            "450:\tlearn: 0.1065835\ttotal: 15.1s\tremaining: 28.5s\n",
            "451:\tlearn: 0.1063333\ttotal: 15.2s\tremaining: 28.5s\n",
            "452:\tlearn: 0.1061420\ttotal: 15.2s\tremaining: 28.4s\n",
            "453:\tlearn: 0.1059152\ttotal: 15.2s\tremaining: 28.4s\n",
            "454:\tlearn: 0.1057928\ttotal: 15.3s\tremaining: 28.4s\n",
            "455:\tlearn: 0.1054721\ttotal: 15.3s\tremaining: 28.3s\n",
            "456:\tlearn: 0.1051883\ttotal: 15.3s\tremaining: 28.3s\n",
            "457:\tlearn: 0.1050521\ttotal: 15.4s\tremaining: 28.3s\n",
            "458:\tlearn: 0.1048364\ttotal: 15.4s\tremaining: 28.3s\n",
            "459:\tlearn: 0.1044638\ttotal: 15.5s\tremaining: 28.2s\n",
            "460:\tlearn: 0.1043590\ttotal: 15.5s\tremaining: 28.2s\n",
            "461:\tlearn: 0.1042493\ttotal: 15.5s\tremaining: 28.1s\n",
            "462:\tlearn: 0.1040377\ttotal: 15.5s\tremaining: 28.1s\n",
            "463:\tlearn: 0.1038269\ttotal: 15.6s\tremaining: 28.1s\n",
            "464:\tlearn: 0.1037145\ttotal: 15.6s\tremaining: 28s\n",
            "465:\tlearn: 0.1035198\ttotal: 15.6s\tremaining: 28s\n",
            "466:\tlearn: 0.1034072\ttotal: 15.7s\tremaining: 28s\n",
            "467:\tlearn: 0.1030817\ttotal: 15.7s\tremaining: 27.9s\n",
            "468:\tlearn: 0.1028085\ttotal: 15.7s\tremaining: 27.9s\n",
            "469:\tlearn: 0.1026552\ttotal: 15.8s\tremaining: 27.9s\n",
            "470:\tlearn: 0.1023877\ttotal: 15.8s\tremaining: 27.8s\n",
            "471:\tlearn: 0.1022480\ttotal: 15.8s\tremaining: 27.8s\n",
            "472:\tlearn: 0.1021719\ttotal: 15.9s\tremaining: 27.8s\n",
            "473:\tlearn: 0.1020236\ttotal: 15.9s\tremaining: 27.7s\n",
            "474:\tlearn: 0.1018959\ttotal: 15.9s\tremaining: 27.7s\n",
            "475:\tlearn: 0.1017701\ttotal: 16s\tremaining: 27.6s\n",
            "476:\tlearn: 0.1016517\ttotal: 16s\tremaining: 27.6s\n",
            "477:\tlearn: 0.1015200\ttotal: 16s\tremaining: 27.6s\n",
            "478:\tlearn: 0.1013817\ttotal: 16.1s\tremaining: 27.5s\n",
            "479:\tlearn: 0.1011592\ttotal: 16.1s\tremaining: 27.5s\n",
            "480:\tlearn: 0.1009129\ttotal: 16.1s\tremaining: 27.5s\n",
            "481:\tlearn: 0.1008604\ttotal: 16.2s\tremaining: 27.4s\n",
            "482:\tlearn: 0.1005502\ttotal: 16.2s\tremaining: 27.4s\n",
            "483:\tlearn: 0.1004318\ttotal: 16.2s\tremaining: 27.4s\n",
            "484:\tlearn: 0.1003269\ttotal: 16.3s\tremaining: 27.3s\n",
            "485:\tlearn: 0.1000758\ttotal: 16.3s\tremaining: 27.3s\n",
            "486:\tlearn: 0.0999143\ttotal: 16.3s\tremaining: 27.3s\n",
            "487:\tlearn: 0.0998055\ttotal: 16.4s\tremaining: 27.2s\n",
            "488:\tlearn: 0.0996779\ttotal: 16.4s\tremaining: 27.2s\n",
            "489:\tlearn: 0.0995482\ttotal: 16.4s\tremaining: 27.2s\n",
            "490:\tlearn: 0.0993938\ttotal: 16.5s\tremaining: 27.1s\n",
            "491:\tlearn: 0.0992903\ttotal: 16.5s\tremaining: 27.1s\n",
            "492:\tlearn: 0.0991477\ttotal: 16.5s\tremaining: 27.1s\n",
            "493:\tlearn: 0.0989225\ttotal: 16.6s\tremaining: 27s\n",
            "494:\tlearn: 0.0987924\ttotal: 16.6s\tremaining: 27s\n",
            "495:\tlearn: 0.0985828\ttotal: 16.6s\tremaining: 27s\n",
            "496:\tlearn: 0.0984150\ttotal: 16.7s\tremaining: 26.9s\n",
            "497:\tlearn: 0.0982787\ttotal: 16.7s\tremaining: 26.9s\n",
            "498:\tlearn: 0.0980836\ttotal: 16.7s\tremaining: 26.8s\n",
            "499:\tlearn: 0.0978694\ttotal: 16.8s\tremaining: 26.8s\n",
            "500:\tlearn: 0.0976570\ttotal: 16.8s\tremaining: 26.8s\n",
            "501:\tlearn: 0.0975342\ttotal: 16.8s\tremaining: 26.7s\n",
            "502:\tlearn: 0.0973599\ttotal: 16.9s\tremaining: 26.7s\n",
            "503:\tlearn: 0.0971684\ttotal: 16.9s\tremaining: 26.7s\n",
            "504:\tlearn: 0.0969949\ttotal: 16.9s\tremaining: 26.6s\n",
            "505:\tlearn: 0.0968375\ttotal: 17s\tremaining: 26.6s\n",
            "506:\tlearn: 0.0966955\ttotal: 17s\tremaining: 26.6s\n",
            "507:\tlearn: 0.0965187\ttotal: 17s\tremaining: 26.5s\n",
            "508:\tlearn: 0.0963139\ttotal: 17.1s\tremaining: 26.5s\n",
            "509:\tlearn: 0.0961156\ttotal: 17.1s\tremaining: 26.5s\n",
            "510:\tlearn: 0.0960013\ttotal: 17.1s\tremaining: 26.4s\n",
            "511:\tlearn: 0.0958832\ttotal: 17.2s\tremaining: 26.4s\n",
            "512:\tlearn: 0.0956854\ttotal: 17.2s\tremaining: 26.4s\n",
            "513:\tlearn: 0.0955940\ttotal: 17.2s\tremaining: 26.3s\n",
            "514:\tlearn: 0.0953901\ttotal: 17.3s\tremaining: 26.3s\n",
            "515:\tlearn: 0.0952518\ttotal: 17.3s\tremaining: 26.3s\n",
            "516:\tlearn: 0.0951430\ttotal: 17.3s\tremaining: 26.2s\n",
            "517:\tlearn: 0.0949015\ttotal: 17.4s\tremaining: 26.2s\n",
            "518:\tlearn: 0.0947785\ttotal: 17.4s\tremaining: 26.2s\n",
            "519:\tlearn: 0.0946913\ttotal: 17.4s\tremaining: 26.2s\n",
            "520:\tlearn: 0.0944874\ttotal: 17.5s\tremaining: 26.1s\n",
            "521:\tlearn: 0.0944016\ttotal: 17.5s\tremaining: 26.1s\n",
            "522:\tlearn: 0.0940740\ttotal: 17.5s\tremaining: 26.1s\n",
            "523:\tlearn: 0.0939754\ttotal: 17.6s\tremaining: 26s\n",
            "524:\tlearn: 0.0938442\ttotal: 17.6s\tremaining: 26s\n",
            "525:\tlearn: 0.0937002\ttotal: 17.6s\tremaining: 26s\n",
            "526:\tlearn: 0.0935104\ttotal: 17.7s\tremaining: 25.9s\n",
            "527:\tlearn: 0.0933202\ttotal: 17.7s\tremaining: 25.9s\n",
            "528:\tlearn: 0.0932351\ttotal: 17.7s\tremaining: 25.9s\n",
            "529:\tlearn: 0.0931313\ttotal: 17.8s\tremaining: 25.8s\n",
            "530:\tlearn: 0.0930172\ttotal: 17.8s\tremaining: 25.8s\n",
            "531:\tlearn: 0.0929173\ttotal: 17.8s\tremaining: 25.8s\n",
            "532:\tlearn: 0.0926731\ttotal: 17.9s\tremaining: 25.7s\n",
            "533:\tlearn: 0.0926173\ttotal: 17.9s\tremaining: 25.7s\n",
            "534:\tlearn: 0.0924592\ttotal: 17.9s\tremaining: 25.7s\n",
            "535:\tlearn: 0.0923093\ttotal: 18s\tremaining: 25.6s\n",
            "536:\tlearn: 0.0922220\ttotal: 18s\tremaining: 25.6s\n",
            "537:\tlearn: 0.0921432\ttotal: 18s\tremaining: 25.5s\n",
            "538:\tlearn: 0.0919677\ttotal: 18.1s\tremaining: 25.5s\n",
            "539:\tlearn: 0.0918494\ttotal: 18.1s\tremaining: 25.5s\n",
            "540:\tlearn: 0.0917049\ttotal: 18.1s\tremaining: 25.4s\n",
            "541:\tlearn: 0.0915894\ttotal: 18.2s\tremaining: 25.4s\n",
            "542:\tlearn: 0.0914037\ttotal: 18.2s\tremaining: 25.4s\n",
            "543:\tlearn: 0.0912425\ttotal: 18.2s\tremaining: 25.3s\n",
            "544:\tlearn: 0.0911091\ttotal: 18.3s\tremaining: 25.3s\n",
            "545:\tlearn: 0.0909902\ttotal: 18.3s\tremaining: 25.3s\n",
            "546:\tlearn: 0.0909275\ttotal: 18.3s\tremaining: 25.2s\n",
            "547:\tlearn: 0.0908526\ttotal: 18.4s\tremaining: 25.2s\n",
            "548:\tlearn: 0.0907160\ttotal: 18.4s\tremaining: 25.2s\n",
            "549:\tlearn: 0.0904869\ttotal: 18.4s\tremaining: 25.1s\n",
            "550:\tlearn: 0.0902956\ttotal: 18.5s\tremaining: 25.1s\n",
            "551:\tlearn: 0.0901605\ttotal: 18.5s\tremaining: 25.1s\n",
            "552:\tlearn: 0.0900675\ttotal: 18.5s\tremaining: 25s\n",
            "553:\tlearn: 0.0899625\ttotal: 18.6s\tremaining: 25s\n",
            "554:\tlearn: 0.0897838\ttotal: 18.6s\tremaining: 25s\n",
            "555:\tlearn: 0.0896272\ttotal: 18.6s\tremaining: 24.9s\n",
            "556:\tlearn: 0.0895380\ttotal: 18.7s\tremaining: 24.9s\n",
            "557:\tlearn: 0.0893616\ttotal: 18.7s\tremaining: 24.9s\n",
            "558:\tlearn: 0.0890857\ttotal: 18.7s\tremaining: 24.8s\n",
            "559:\tlearn: 0.0888239\ttotal: 18.8s\tremaining: 24.8s\n",
            "560:\tlearn: 0.0886558\ttotal: 18.8s\tremaining: 24.8s\n",
            "561:\tlearn: 0.0885767\ttotal: 18.8s\tremaining: 24.7s\n",
            "562:\tlearn: 0.0884448\ttotal: 18.9s\tremaining: 24.7s\n",
            "563:\tlearn: 0.0883888\ttotal: 18.9s\tremaining: 24.7s\n",
            "564:\tlearn: 0.0882636\ttotal: 18.9s\tremaining: 24.6s\n",
            "565:\tlearn: 0.0880130\ttotal: 19s\tremaining: 24.6s\n",
            "566:\tlearn: 0.0879766\ttotal: 19s\tremaining: 24.6s\n",
            "567:\tlearn: 0.0878396\ttotal: 19s\tremaining: 24.5s\n",
            "568:\tlearn: 0.0876747\ttotal: 19.1s\tremaining: 24.5s\n",
            "569:\tlearn: 0.0874673\ttotal: 19.1s\tremaining: 24.4s\n",
            "570:\tlearn: 0.0872971\ttotal: 19.1s\tremaining: 24.4s\n",
            "571:\tlearn: 0.0871905\ttotal: 19.2s\tremaining: 24.4s\n",
            "572:\tlearn: 0.0870816\ttotal: 19.2s\tremaining: 24.3s\n",
            "573:\tlearn: 0.0869567\ttotal: 19.2s\tremaining: 24.3s\n",
            "574:\tlearn: 0.0868504\ttotal: 19.3s\tremaining: 24.3s\n",
            "575:\tlearn: 0.0866461\ttotal: 19.3s\tremaining: 24.2s\n",
            "576:\tlearn: 0.0865343\ttotal: 19.3s\tremaining: 24.2s\n",
            "577:\tlearn: 0.0864372\ttotal: 19.4s\tremaining: 24.2s\n",
            "578:\tlearn: 0.0862056\ttotal: 19.4s\tremaining: 24.2s\n",
            "579:\tlearn: 0.0859866\ttotal: 19.4s\tremaining: 24.1s\n",
            "580:\tlearn: 0.0857098\ttotal: 19.5s\tremaining: 24.1s\n",
            "581:\tlearn: 0.0856520\ttotal: 19.5s\tremaining: 24.1s\n",
            "582:\tlearn: 0.0855108\ttotal: 19.5s\tremaining: 24s\n",
            "583:\tlearn: 0.0853866\ttotal: 19.6s\tremaining: 24s\n",
            "584:\tlearn: 0.0853240\ttotal: 19.6s\tremaining: 24s\n",
            "585:\tlearn: 0.0851825\ttotal: 19.6s\tremaining: 23.9s\n",
            "586:\tlearn: 0.0850562\ttotal: 19.7s\tremaining: 23.9s\n",
            "587:\tlearn: 0.0848740\ttotal: 19.7s\tremaining: 23.9s\n",
            "588:\tlearn: 0.0847470\ttotal: 19.7s\tremaining: 23.8s\n",
            "589:\tlearn: 0.0845756\ttotal: 19.8s\tremaining: 23.8s\n",
            "590:\tlearn: 0.0844526\ttotal: 19.8s\tremaining: 23.8s\n",
            "591:\tlearn: 0.0842893\ttotal: 19.8s\tremaining: 23.7s\n",
            "592:\tlearn: 0.0840452\ttotal: 19.9s\tremaining: 23.7s\n",
            "593:\tlearn: 0.0839204\ttotal: 19.9s\tremaining: 23.7s\n",
            "594:\tlearn: 0.0838499\ttotal: 19.9s\tremaining: 23.6s\n",
            "595:\tlearn: 0.0837139\ttotal: 20s\tremaining: 23.6s\n",
            "596:\tlearn: 0.0836089\ttotal: 20s\tremaining: 23.6s\n",
            "597:\tlearn: 0.0835255\ttotal: 20s\tremaining: 23.5s\n",
            "598:\tlearn: 0.0832824\ttotal: 20.1s\tremaining: 23.5s\n",
            "599:\tlearn: 0.0831845\ttotal: 20.1s\tremaining: 23.5s\n",
            "600:\tlearn: 0.0830957\ttotal: 20.1s\tremaining: 23.4s\n",
            "601:\tlearn: 0.0829578\ttotal: 20.2s\tremaining: 23.4s\n",
            "602:\tlearn: 0.0828158\ttotal: 20.2s\tremaining: 23.4s\n",
            "603:\tlearn: 0.0827285\ttotal: 20.2s\tremaining: 23.3s\n",
            "604:\tlearn: 0.0826585\ttotal: 20.3s\tremaining: 23.3s\n",
            "605:\tlearn: 0.0824982\ttotal: 20.3s\tremaining: 23.3s\n",
            "606:\tlearn: 0.0823131\ttotal: 20.4s\tremaining: 23.2s\n",
            "607:\tlearn: 0.0822212\ttotal: 20.4s\tremaining: 23.2s\n",
            "608:\tlearn: 0.0820774\ttotal: 20.4s\tremaining: 23.2s\n",
            "609:\tlearn: 0.0819059\ttotal: 20.5s\tremaining: 23.1s\n",
            "610:\tlearn: 0.0817715\ttotal: 20.5s\tremaining: 23.1s\n",
            "611:\tlearn: 0.0815871\ttotal: 20.5s\tremaining: 23.1s\n",
            "612:\tlearn: 0.0813468\ttotal: 20.6s\tremaining: 23s\n",
            "613:\tlearn: 0.0812492\ttotal: 20.6s\tremaining: 23s\n",
            "614:\tlearn: 0.0811776\ttotal: 20.6s\tremaining: 23s\n",
            "615:\tlearn: 0.0810118\ttotal: 20.7s\tremaining: 22.9s\n",
            "616:\tlearn: 0.0809128\ttotal: 20.7s\tremaining: 22.9s\n",
            "617:\tlearn: 0.0807920\ttotal: 20.7s\tremaining: 22.9s\n",
            "618:\tlearn: 0.0806897\ttotal: 20.8s\tremaining: 22.8s\n",
            "619:\tlearn: 0.0805426\ttotal: 20.8s\tremaining: 22.8s\n",
            "620:\tlearn: 0.0804906\ttotal: 20.8s\tremaining: 22.8s\n",
            "621:\tlearn: 0.0803430\ttotal: 20.9s\tremaining: 22.7s\n",
            "622:\tlearn: 0.0802930\ttotal: 20.9s\tremaining: 22.7s\n",
            "623:\tlearn: 0.0801286\ttotal: 20.9s\tremaining: 22.7s\n",
            "624:\tlearn: 0.0799894\ttotal: 21s\tremaining: 22.6s\n",
            "625:\tlearn: 0.0798916\ttotal: 21s\tremaining: 22.6s\n",
            "626:\tlearn: 0.0797818\ttotal: 21s\tremaining: 22.6s\n",
            "627:\tlearn: 0.0796403\ttotal: 21.1s\tremaining: 22.5s\n",
            "628:\tlearn: 0.0795141\ttotal: 21.1s\tremaining: 22.5s\n",
            "629:\tlearn: 0.0794179\ttotal: 21.1s\tremaining: 22.5s\n",
            "630:\tlearn: 0.0793481\ttotal: 21.1s\tremaining: 22.4s\n",
            "631:\tlearn: 0.0792397\ttotal: 21.2s\tremaining: 22.4s\n",
            "632:\tlearn: 0.0791731\ttotal: 21.2s\tremaining: 22.4s\n",
            "633:\tlearn: 0.0789353\ttotal: 21.2s\tremaining: 22.3s\n",
            "634:\tlearn: 0.0788351\ttotal: 21.3s\tremaining: 22.3s\n",
            "635:\tlearn: 0.0786124\ttotal: 21.3s\tremaining: 22.2s\n",
            "636:\tlearn: 0.0784946\ttotal: 21.3s\tremaining: 22.2s\n",
            "637:\tlearn: 0.0783844\ttotal: 21.4s\tremaining: 22.2s\n",
            "638:\tlearn: 0.0782377\ttotal: 21.4s\tremaining: 22.2s\n",
            "639:\tlearn: 0.0780918\ttotal: 21.5s\tremaining: 22.1s\n",
            "640:\tlearn: 0.0779463\ttotal: 21.5s\tremaining: 22.1s\n",
            "641:\tlearn: 0.0777885\ttotal: 21.5s\tremaining: 22.1s\n",
            "642:\tlearn: 0.0776288\ttotal: 21.6s\tremaining: 22s\n",
            "643:\tlearn: 0.0774943\ttotal: 21.6s\tremaining: 22s\n",
            "644:\tlearn: 0.0773624\ttotal: 21.6s\tremaining: 22s\n",
            "645:\tlearn: 0.0771444\ttotal: 21.7s\tremaining: 21.9s\n",
            "646:\tlearn: 0.0770671\ttotal: 21.7s\tremaining: 21.9s\n",
            "647:\tlearn: 0.0769467\ttotal: 21.7s\tremaining: 21.9s\n",
            "648:\tlearn: 0.0768703\ttotal: 21.8s\tremaining: 21.8s\n",
            "649:\tlearn: 0.0768408\ttotal: 21.8s\tremaining: 21.8s\n",
            "650:\tlearn: 0.0767549\ttotal: 21.8s\tremaining: 21.8s\n",
            "651:\tlearn: 0.0765956\ttotal: 21.9s\tremaining: 21.7s\n",
            "652:\tlearn: 0.0764617\ttotal: 21.9s\tremaining: 21.7s\n",
            "653:\tlearn: 0.0763687\ttotal: 21.9s\tremaining: 21.7s\n",
            "654:\tlearn: 0.0761863\ttotal: 22s\tremaining: 21.6s\n",
            "655:\tlearn: 0.0760440\ttotal: 22s\tremaining: 21.6s\n",
            "656:\tlearn: 0.0758786\ttotal: 22s\tremaining: 21.5s\n",
            "657:\tlearn: 0.0757828\ttotal: 22s\tremaining: 21.5s\n",
            "658:\tlearn: 0.0756864\ttotal: 22.1s\tremaining: 21.5s\n",
            "659:\tlearn: 0.0755724\ttotal: 22.1s\tremaining: 21.4s\n",
            "660:\tlearn: 0.0753752\ttotal: 22.1s\tremaining: 21.4s\n",
            "661:\tlearn: 0.0751929\ttotal: 22.2s\tremaining: 21.4s\n",
            "662:\tlearn: 0.0749941\ttotal: 22.2s\tremaining: 21.3s\n",
            "663:\tlearn: 0.0749191\ttotal: 22.2s\tremaining: 21.3s\n",
            "664:\tlearn: 0.0748308\ttotal: 22.3s\tremaining: 21.3s\n",
            "665:\tlearn: 0.0747914\ttotal: 22.3s\tremaining: 21.3s\n",
            "666:\tlearn: 0.0746549\ttotal: 22.4s\tremaining: 21.2s\n",
            "667:\tlearn: 0.0745755\ttotal: 22.4s\tremaining: 21.2s\n",
            "668:\tlearn: 0.0744923\ttotal: 22.4s\tremaining: 21.2s\n",
            "669:\tlearn: 0.0744030\ttotal: 22.5s\tremaining: 21.1s\n",
            "670:\tlearn: 0.0743204\ttotal: 22.5s\tremaining: 21.1s\n",
            "671:\tlearn: 0.0741401\ttotal: 22.5s\tremaining: 21.1s\n",
            "672:\tlearn: 0.0740358\ttotal: 22.6s\tremaining: 21s\n",
            "673:\tlearn: 0.0739447\ttotal: 22.6s\tremaining: 21s\n",
            "674:\tlearn: 0.0738310\ttotal: 22.6s\tremaining: 21s\n",
            "675:\tlearn: 0.0737598\ttotal: 22.7s\tremaining: 20.9s\n",
            "676:\tlearn: 0.0735732\ttotal: 22.7s\tremaining: 20.9s\n",
            "677:\tlearn: 0.0735185\ttotal: 22.7s\tremaining: 20.9s\n",
            "678:\tlearn: 0.0734334\ttotal: 22.8s\tremaining: 20.8s\n",
            "679:\tlearn: 0.0732770\ttotal: 22.8s\tremaining: 20.8s\n",
            "680:\tlearn: 0.0732169\ttotal: 22.8s\tremaining: 20.8s\n",
            "681:\tlearn: 0.0731098\ttotal: 22.9s\tremaining: 20.7s\n",
            "682:\tlearn: 0.0729602\ttotal: 22.9s\tremaining: 20.7s\n",
            "683:\tlearn: 0.0728494\ttotal: 22.9s\tremaining: 20.7s\n",
            "684:\tlearn: 0.0727702\ttotal: 23s\tremaining: 20.6s\n",
            "685:\tlearn: 0.0726179\ttotal: 23s\tremaining: 20.6s\n",
            "686:\tlearn: 0.0725575\ttotal: 23s\tremaining: 20.5s\n",
            "687:\tlearn: 0.0724867\ttotal: 23.1s\tremaining: 20.5s\n",
            "688:\tlearn: 0.0724434\ttotal: 23.1s\tremaining: 20.5s\n",
            "689:\tlearn: 0.0722771\ttotal: 23.1s\tremaining: 20.4s\n",
            "690:\tlearn: 0.0721940\ttotal: 23.2s\tremaining: 20.4s\n",
            "691:\tlearn: 0.0721066\ttotal: 23.2s\tremaining: 20.4s\n",
            "692:\tlearn: 0.0719706\ttotal: 23.2s\tremaining: 20.3s\n",
            "693:\tlearn: 0.0719197\ttotal: 23.3s\tremaining: 20.3s\n",
            "694:\tlearn: 0.0717093\ttotal: 23.3s\tremaining: 20.3s\n",
            "695:\tlearn: 0.0716082\ttotal: 23.3s\tremaining: 20.2s\n",
            "696:\tlearn: 0.0714926\ttotal: 23.4s\tremaining: 20.2s\n",
            "697:\tlearn: 0.0713120\ttotal: 23.4s\tremaining: 20.2s\n",
            "698:\tlearn: 0.0712995\ttotal: 23.4s\tremaining: 20.1s\n",
            "699:\tlearn: 0.0711342\ttotal: 23.5s\tremaining: 20.1s\n",
            "700:\tlearn: 0.0710456\ttotal: 23.5s\tremaining: 20.1s\n",
            "701:\tlearn: 0.0709960\ttotal: 23.5s\tremaining: 20s\n",
            "702:\tlearn: 0.0708838\ttotal: 23.6s\tremaining: 20s\n",
            "703:\tlearn: 0.0708246\ttotal: 23.6s\tremaining: 20s\n",
            "704:\tlearn: 0.0707552\ttotal: 23.6s\tremaining: 19.9s\n",
            "705:\tlearn: 0.0705974\ttotal: 23.7s\tremaining: 19.9s\n",
            "706:\tlearn: 0.0705260\ttotal: 23.7s\tremaining: 19.9s\n",
            "707:\tlearn: 0.0704248\ttotal: 23.7s\tremaining: 19.8s\n",
            "708:\tlearn: 0.0703025\ttotal: 23.8s\tremaining: 19.8s\n",
            "709:\tlearn: 0.0701226\ttotal: 23.8s\tremaining: 19.8s\n",
            "710:\tlearn: 0.0699599\ttotal: 23.8s\tremaining: 19.7s\n",
            "711:\tlearn: 0.0698852\ttotal: 23.9s\tremaining: 19.7s\n",
            "712:\tlearn: 0.0697872\ttotal: 23.9s\tremaining: 19.7s\n",
            "713:\tlearn: 0.0697035\ttotal: 23.9s\tremaining: 19.6s\n",
            "714:\tlearn: 0.0696687\ttotal: 24s\tremaining: 19.6s\n",
            "715:\tlearn: 0.0696334\ttotal: 24s\tremaining: 19.6s\n",
            "716:\tlearn: 0.0695469\ttotal: 24s\tremaining: 19.5s\n",
            "717:\tlearn: 0.0694116\ttotal: 24.1s\tremaining: 19.5s\n",
            "718:\tlearn: 0.0693486\ttotal: 24.1s\tremaining: 19.5s\n",
            "719:\tlearn: 0.0693056\ttotal: 24.1s\tremaining: 19.4s\n",
            "720:\tlearn: 0.0692198\ttotal: 24.2s\tremaining: 19.4s\n",
            "721:\tlearn: 0.0691535\ttotal: 24.2s\tremaining: 19.4s\n",
            "722:\tlearn: 0.0691042\ttotal: 24.2s\tremaining: 19.3s\n",
            "723:\tlearn: 0.0689600\ttotal: 24.3s\tremaining: 19.3s\n",
            "724:\tlearn: 0.0689046\ttotal: 24.3s\tremaining: 19.3s\n",
            "725:\tlearn: 0.0688181\ttotal: 24.3s\tremaining: 19.2s\n",
            "726:\tlearn: 0.0686850\ttotal: 24.4s\tremaining: 19.2s\n",
            "727:\tlearn: 0.0686305\ttotal: 24.4s\tremaining: 19.2s\n",
            "728:\tlearn: 0.0685566\ttotal: 24.4s\tremaining: 19.1s\n",
            "729:\tlearn: 0.0684609\ttotal: 24.5s\tremaining: 19.1s\n",
            "730:\tlearn: 0.0683173\ttotal: 24.5s\tremaining: 19.1s\n",
            "731:\tlearn: 0.0682446\ttotal: 24.5s\tremaining: 19s\n",
            "732:\tlearn: 0.0681305\ttotal: 24.6s\tremaining: 19s\n",
            "733:\tlearn: 0.0680947\ttotal: 24.6s\tremaining: 19s\n",
            "734:\tlearn: 0.0679167\ttotal: 24.6s\tremaining: 18.9s\n",
            "735:\tlearn: 0.0676668\ttotal: 24.7s\tremaining: 18.9s\n",
            "736:\tlearn: 0.0675599\ttotal: 24.7s\tremaining: 18.9s\n",
            "737:\tlearn: 0.0674591\ttotal: 24.8s\tremaining: 18.9s\n",
            "738:\tlearn: 0.0673642\ttotal: 24.8s\tremaining: 18.8s\n",
            "739:\tlearn: 0.0672609\ttotal: 24.8s\tremaining: 18.8s\n",
            "740:\tlearn: 0.0670357\ttotal: 24.9s\tremaining: 18.7s\n",
            "741:\tlearn: 0.0669668\ttotal: 24.9s\tremaining: 18.7s\n",
            "742:\tlearn: 0.0667764\ttotal: 24.9s\tremaining: 18.7s\n",
            "743:\tlearn: 0.0665818\ttotal: 24.9s\tremaining: 18.6s\n",
            "744:\tlearn: 0.0664843\ttotal: 25s\tremaining: 18.6s\n",
            "745:\tlearn: 0.0664709\ttotal: 25s\tremaining: 18.6s\n",
            "746:\tlearn: 0.0664161\ttotal: 25s\tremaining: 18.5s\n",
            "747:\tlearn: 0.0663388\ttotal: 25.1s\tremaining: 18.5s\n",
            "748:\tlearn: 0.0662632\ttotal: 25.1s\tremaining: 18.5s\n",
            "749:\tlearn: 0.0661540\ttotal: 25.1s\tremaining: 18.4s\n",
            "750:\tlearn: 0.0660474\ttotal: 25.2s\tremaining: 18.4s\n",
            "751:\tlearn: 0.0659477\ttotal: 25.2s\tremaining: 18.4s\n",
            "752:\tlearn: 0.0658618\ttotal: 25.2s\tremaining: 18.3s\n",
            "753:\tlearn: 0.0656493\ttotal: 25.3s\tremaining: 18.3s\n",
            "754:\tlearn: 0.0655952\ttotal: 25.3s\tremaining: 18.3s\n",
            "755:\tlearn: 0.0654781\ttotal: 25.3s\tremaining: 18.2s\n",
            "756:\tlearn: 0.0654174\ttotal: 25.4s\tremaining: 18.2s\n",
            "757:\tlearn: 0.0652924\ttotal: 25.4s\tremaining: 18.2s\n",
            "758:\tlearn: 0.0652109\ttotal: 25.4s\tremaining: 18.1s\n",
            "759:\tlearn: 0.0651307\ttotal: 25.5s\tremaining: 18.1s\n",
            "760:\tlearn: 0.0650690\ttotal: 25.5s\tremaining: 18.1s\n",
            "761:\tlearn: 0.0649834\ttotal: 25.5s\tremaining: 18s\n",
            "762:\tlearn: 0.0648851\ttotal: 25.6s\tremaining: 18s\n",
            "763:\tlearn: 0.0648026\ttotal: 25.6s\tremaining: 18s\n",
            "764:\tlearn: 0.0646325\ttotal: 25.7s\tremaining: 17.9s\n",
            "765:\tlearn: 0.0645670\ttotal: 25.7s\tremaining: 17.9s\n",
            "766:\tlearn: 0.0644279\ttotal: 25.7s\tremaining: 17.9s\n",
            "767:\tlearn: 0.0642400\ttotal: 25.8s\tremaining: 17.8s\n",
            "768:\tlearn: 0.0640833\ttotal: 25.8s\tremaining: 17.8s\n",
            "769:\tlearn: 0.0640249\ttotal: 25.8s\tremaining: 17.8s\n",
            "770:\tlearn: 0.0639364\ttotal: 25.9s\tremaining: 17.7s\n",
            "771:\tlearn: 0.0637996\ttotal: 25.9s\tremaining: 17.7s\n",
            "772:\tlearn: 0.0637186\ttotal: 25.9s\tremaining: 17.7s\n",
            "773:\tlearn: 0.0636657\ttotal: 26s\tremaining: 17.6s\n",
            "774:\tlearn: 0.0635621\ttotal: 26s\tremaining: 17.6s\n",
            "775:\tlearn: 0.0634779\ttotal: 26s\tremaining: 17.6s\n",
            "776:\tlearn: 0.0634239\ttotal: 26.1s\tremaining: 17.5s\n",
            "777:\tlearn: 0.0632948\ttotal: 26.1s\tremaining: 17.5s\n",
            "778:\tlearn: 0.0632201\ttotal: 26.1s\tremaining: 17.5s\n",
            "779:\tlearn: 0.0631453\ttotal: 26.2s\tremaining: 17.4s\n",
            "780:\tlearn: 0.0630572\ttotal: 26.2s\tremaining: 17.4s\n",
            "781:\tlearn: 0.0629677\ttotal: 26.2s\tremaining: 17.4s\n",
            "782:\tlearn: 0.0629053\ttotal: 26.2s\tremaining: 17.3s\n",
            "783:\tlearn: 0.0626842\ttotal: 26.3s\tremaining: 17.3s\n",
            "784:\tlearn: 0.0626637\ttotal: 26.3s\tremaining: 17.3s\n",
            "785:\tlearn: 0.0626055\ttotal: 26.3s\tremaining: 17.2s\n",
            "786:\tlearn: 0.0625660\ttotal: 26.4s\tremaining: 17.2s\n",
            "787:\tlearn: 0.0624116\ttotal: 26.4s\tremaining: 17.2s\n",
            "788:\tlearn: 0.0622400\ttotal: 26.5s\tremaining: 17.1s\n",
            "789:\tlearn: 0.0621800\ttotal: 26.5s\tremaining: 17.1s\n",
            "790:\tlearn: 0.0621645\ttotal: 26.5s\tremaining: 17.1s\n",
            "791:\tlearn: 0.0620994\ttotal: 26.6s\tremaining: 17s\n",
            "792:\tlearn: 0.0620063\ttotal: 26.6s\tremaining: 17s\n",
            "793:\tlearn: 0.0619303\ttotal: 26.6s\tremaining: 17s\n",
            "794:\tlearn: 0.0618632\ttotal: 26.7s\tremaining: 16.9s\n",
            "795:\tlearn: 0.0617689\ttotal: 26.7s\tremaining: 16.9s\n",
            "796:\tlearn: 0.0617097\ttotal: 26.7s\tremaining: 16.9s\n",
            "797:\tlearn: 0.0616688\ttotal: 26.8s\tremaining: 16.8s\n",
            "798:\tlearn: 0.0616113\ttotal: 26.8s\tremaining: 16.8s\n",
            "799:\tlearn: 0.0615449\ttotal: 26.8s\tremaining: 16.8s\n",
            "800:\tlearn: 0.0614882\ttotal: 26.9s\tremaining: 16.7s\n",
            "801:\tlearn: 0.0614109\ttotal: 26.9s\tremaining: 16.7s\n",
            "802:\tlearn: 0.0613257\ttotal: 26.9s\tremaining: 16.7s\n",
            "803:\tlearn: 0.0612539\ttotal: 27s\tremaining: 16.6s\n",
            "804:\tlearn: 0.0611989\ttotal: 27s\tremaining: 16.6s\n",
            "805:\tlearn: 0.0610701\ttotal: 27s\tremaining: 16.6s\n",
            "806:\tlearn: 0.0610343\ttotal: 27.1s\tremaining: 16.5s\n",
            "807:\tlearn: 0.0609576\ttotal: 27.1s\tremaining: 16.5s\n",
            "808:\tlearn: 0.0608737\ttotal: 27.1s\tremaining: 16.5s\n",
            "809:\tlearn: 0.0607650\ttotal: 27.2s\tremaining: 16.4s\n",
            "810:\tlearn: 0.0606970\ttotal: 27.2s\tremaining: 16.4s\n",
            "811:\tlearn: 0.0605554\ttotal: 27.2s\tremaining: 16.4s\n",
            "812:\tlearn: 0.0605266\ttotal: 27.3s\tremaining: 16.3s\n",
            "813:\tlearn: 0.0604748\ttotal: 27.3s\tremaining: 16.3s\n",
            "814:\tlearn: 0.0604356\ttotal: 27.3s\tremaining: 16.3s\n",
            "815:\tlearn: 0.0603661\ttotal: 27.3s\tremaining: 16.2s\n",
            "816:\tlearn: 0.0602376\ttotal: 27.4s\tremaining: 16.2s\n",
            "817:\tlearn: 0.0600672\ttotal: 27.4s\tremaining: 16.2s\n",
            "818:\tlearn: 0.0600108\ttotal: 27.5s\tremaining: 16.1s\n",
            "819:\tlearn: 0.0599266\ttotal: 27.5s\tremaining: 16.1s\n",
            "820:\tlearn: 0.0598634\ttotal: 27.5s\tremaining: 16.1s\n",
            "821:\tlearn: 0.0596823\ttotal: 27.6s\tremaining: 16s\n",
            "822:\tlearn: 0.0596124\ttotal: 27.6s\tremaining: 16s\n",
            "823:\tlearn: 0.0595860\ttotal: 27.6s\tremaining: 16s\n",
            "824:\tlearn: 0.0595338\ttotal: 27.7s\tremaining: 15.9s\n",
            "825:\tlearn: 0.0594334\ttotal: 27.7s\tremaining: 15.9s\n",
            "826:\tlearn: 0.0593579\ttotal: 27.7s\tremaining: 15.9s\n",
            "827:\tlearn: 0.0592581\ttotal: 27.8s\tremaining: 15.8s\n",
            "828:\tlearn: 0.0591053\ttotal: 27.8s\tremaining: 15.8s\n",
            "829:\tlearn: 0.0590411\ttotal: 27.8s\tremaining: 15.8s\n",
            "830:\tlearn: 0.0589922\ttotal: 27.9s\tremaining: 15.7s\n",
            "831:\tlearn: 0.0589383\ttotal: 27.9s\tremaining: 15.7s\n",
            "832:\tlearn: 0.0588765\ttotal: 27.9s\tremaining: 15.7s\n",
            "833:\tlearn: 0.0588075\ttotal: 28s\tremaining: 15.6s\n",
            "834:\tlearn: 0.0587400\ttotal: 28s\tremaining: 15.6s\n",
            "835:\tlearn: 0.0586060\ttotal: 28s\tremaining: 15.6s\n",
            "836:\tlearn: 0.0584704\ttotal: 28.1s\tremaining: 15.5s\n",
            "837:\tlearn: 0.0583909\ttotal: 28.1s\tremaining: 15.5s\n",
            "838:\tlearn: 0.0583020\ttotal: 28.1s\tremaining: 15.5s\n",
            "839:\tlearn: 0.0581898\ttotal: 28.2s\tremaining: 15.4s\n",
            "840:\tlearn: 0.0581473\ttotal: 28.2s\tremaining: 15.4s\n",
            "841:\tlearn: 0.0580470\ttotal: 28.2s\tremaining: 15.4s\n",
            "842:\tlearn: 0.0579241\ttotal: 28.3s\tremaining: 15.3s\n",
            "843:\tlearn: 0.0577512\ttotal: 28.3s\tremaining: 15.3s\n",
            "844:\tlearn: 0.0577062\ttotal: 28.3s\tremaining: 15.3s\n",
            "845:\tlearn: 0.0576162\ttotal: 28.4s\tremaining: 15.2s\n",
            "846:\tlearn: 0.0575651\ttotal: 28.4s\tremaining: 15.2s\n",
            "847:\tlearn: 0.0574593\ttotal: 28.4s\tremaining: 15.1s\n",
            "848:\tlearn: 0.0573436\ttotal: 28.5s\tremaining: 15.1s\n",
            "849:\tlearn: 0.0572691\ttotal: 28.5s\tremaining: 15.1s\n",
            "850:\tlearn: 0.0571571\ttotal: 28.5s\tremaining: 15.1s\n",
            "851:\tlearn: 0.0570891\ttotal: 28.6s\tremaining: 15s\n",
            "852:\tlearn: 0.0570134\ttotal: 28.6s\tremaining: 15s\n",
            "853:\tlearn: 0.0569422\ttotal: 28.6s\tremaining: 15s\n",
            "854:\tlearn: 0.0568184\ttotal: 28.7s\tremaining: 14.9s\n",
            "855:\tlearn: 0.0567272\ttotal: 28.7s\tremaining: 14.9s\n",
            "856:\tlearn: 0.0566903\ttotal: 28.7s\tremaining: 14.8s\n",
            "857:\tlearn: 0.0565825\ttotal: 28.8s\tremaining: 14.8s\n",
            "858:\tlearn: 0.0564959\ttotal: 28.8s\tremaining: 14.8s\n",
            "859:\tlearn: 0.0563840\ttotal: 28.8s\tremaining: 14.7s\n",
            "860:\tlearn: 0.0563234\ttotal: 28.9s\tremaining: 14.7s\n",
            "861:\tlearn: 0.0561761\ttotal: 28.9s\tremaining: 14.7s\n",
            "862:\tlearn: 0.0561261\ttotal: 28.9s\tremaining: 14.6s\n",
            "863:\tlearn: 0.0560361\ttotal: 29s\tremaining: 14.6s\n",
            "864:\tlearn: 0.0558453\ttotal: 29s\tremaining: 14.6s\n",
            "865:\tlearn: 0.0557698\ttotal: 29s\tremaining: 14.5s\n",
            "866:\tlearn: 0.0556743\ttotal: 29.1s\tremaining: 14.5s\n",
            "867:\tlearn: 0.0556200\ttotal: 29.1s\tremaining: 14.5s\n",
            "868:\tlearn: 0.0555328\ttotal: 29.1s\tremaining: 14.4s\n",
            "869:\tlearn: 0.0554454\ttotal: 29.2s\tremaining: 14.4s\n",
            "870:\tlearn: 0.0553824\ttotal: 29.2s\tremaining: 14.4s\n",
            "871:\tlearn: 0.0552595\ttotal: 29.2s\tremaining: 14.3s\n",
            "872:\tlearn: 0.0552161\ttotal: 29.3s\tremaining: 14.3s\n",
            "873:\tlearn: 0.0551749\ttotal: 29.3s\tremaining: 14.3s\n",
            "874:\tlearn: 0.0551454\ttotal: 29.3s\tremaining: 14.2s\n",
            "875:\tlearn: 0.0551086\ttotal: 29.4s\tremaining: 14.2s\n",
            "876:\tlearn: 0.0549942\ttotal: 29.4s\tremaining: 14.2s\n",
            "877:\tlearn: 0.0549087\ttotal: 29.4s\tremaining: 14.1s\n",
            "878:\tlearn: 0.0548477\ttotal: 29.5s\tremaining: 14.1s\n",
            "879:\tlearn: 0.0547718\ttotal: 29.5s\tremaining: 14.1s\n",
            "880:\tlearn: 0.0547357\ttotal: 29.5s\tremaining: 14s\n",
            "881:\tlearn: 0.0546636\ttotal: 29.6s\tremaining: 14s\n",
            "882:\tlearn: 0.0545985\ttotal: 29.6s\tremaining: 14s\n",
            "883:\tlearn: 0.0545470\ttotal: 29.6s\tremaining: 13.9s\n",
            "884:\tlearn: 0.0544581\ttotal: 29.7s\tremaining: 13.9s\n",
            "885:\tlearn: 0.0543990\ttotal: 29.7s\tremaining: 13.9s\n",
            "886:\tlearn: 0.0543343\ttotal: 29.7s\tremaining: 13.8s\n",
            "887:\tlearn: 0.0542679\ttotal: 29.8s\tremaining: 13.8s\n",
            "888:\tlearn: 0.0542223\ttotal: 29.8s\tremaining: 13.8s\n",
            "889:\tlearn: 0.0541398\ttotal: 29.8s\tremaining: 13.7s\n",
            "890:\tlearn: 0.0540389\ttotal: 29.9s\tremaining: 13.7s\n",
            "891:\tlearn: 0.0539743\ttotal: 29.9s\tremaining: 13.7s\n",
            "892:\tlearn: 0.0539304\ttotal: 29.9s\tremaining: 13.6s\n",
            "893:\tlearn: 0.0538995\ttotal: 30s\tremaining: 13.6s\n",
            "894:\tlearn: 0.0538494\ttotal: 30s\tremaining: 13.6s\n",
            "895:\tlearn: 0.0537290\ttotal: 30s\tremaining: 13.5s\n",
            "896:\tlearn: 0.0536722\ttotal: 30.1s\tremaining: 13.5s\n",
            "897:\tlearn: 0.0536030\ttotal: 30.1s\tremaining: 13.5s\n",
            "898:\tlearn: 0.0535768\ttotal: 30.1s\tremaining: 13.4s\n",
            "899:\tlearn: 0.0534934\ttotal: 30.2s\tremaining: 13.4s\n",
            "900:\tlearn: 0.0534608\ttotal: 30.2s\tremaining: 13.4s\n",
            "901:\tlearn: 0.0534038\ttotal: 30.2s\tremaining: 13.3s\n",
            "902:\tlearn: 0.0533358\ttotal: 30.3s\tremaining: 13.3s\n",
            "903:\tlearn: 0.0532146\ttotal: 30.3s\tremaining: 13.3s\n",
            "904:\tlearn: 0.0531786\ttotal: 30.3s\tremaining: 13.2s\n",
            "905:\tlearn: 0.0530799\ttotal: 30.4s\tremaining: 13.2s\n",
            "906:\tlearn: 0.0530202\ttotal: 30.4s\tremaining: 13.2s\n",
            "907:\tlearn: 0.0529247\ttotal: 30.4s\tremaining: 13.1s\n",
            "908:\tlearn: 0.0528704\ttotal: 30.5s\tremaining: 13.1s\n",
            "909:\tlearn: 0.0528087\ttotal: 30.5s\tremaining: 13.1s\n",
            "910:\tlearn: 0.0526773\ttotal: 30.5s\tremaining: 13s\n",
            "911:\tlearn: 0.0526477\ttotal: 30.6s\tremaining: 13s\n",
            "912:\tlearn: 0.0525800\ttotal: 30.6s\tremaining: 13s\n",
            "913:\tlearn: 0.0524588\ttotal: 30.6s\tremaining: 12.9s\n",
            "914:\tlearn: 0.0524081\ttotal: 30.7s\tremaining: 12.9s\n",
            "915:\tlearn: 0.0523177\ttotal: 30.7s\tremaining: 12.9s\n",
            "916:\tlearn: 0.0522711\ttotal: 30.7s\tremaining: 12.8s\n",
            "917:\tlearn: 0.0521908\ttotal: 30.8s\tremaining: 12.8s\n",
            "918:\tlearn: 0.0521023\ttotal: 30.8s\tremaining: 12.8s\n",
            "919:\tlearn: 0.0520839\ttotal: 30.9s\tremaining: 12.7s\n",
            "920:\tlearn: 0.0520018\ttotal: 30.9s\tremaining: 12.7s\n",
            "921:\tlearn: 0.0519554\ttotal: 30.9s\tremaining: 12.7s\n",
            "922:\tlearn: 0.0518774\ttotal: 31s\tremaining: 12.6s\n",
            "923:\tlearn: 0.0517668\ttotal: 31s\tremaining: 12.6s\n",
            "924:\tlearn: 0.0517343\ttotal: 31s\tremaining: 12.6s\n",
            "925:\tlearn: 0.0517063\ttotal: 31.1s\tremaining: 12.5s\n",
            "926:\tlearn: 0.0516438\ttotal: 31.1s\tremaining: 12.5s\n",
            "927:\tlearn: 0.0516032\ttotal: 31.1s\tremaining: 12.5s\n",
            "928:\tlearn: 0.0515713\ttotal: 31.2s\tremaining: 12.4s\n",
            "929:\tlearn: 0.0515199\ttotal: 31.2s\tremaining: 12.4s\n",
            "930:\tlearn: 0.0514327\ttotal: 31.2s\tremaining: 12.4s\n",
            "931:\tlearn: 0.0513447\ttotal: 31.3s\tremaining: 12.3s\n",
            "932:\tlearn: 0.0512101\ttotal: 31.3s\tremaining: 12.3s\n",
            "933:\tlearn: 0.0511292\ttotal: 31.3s\tremaining: 12.3s\n",
            "934:\tlearn: 0.0509733\ttotal: 31.4s\tremaining: 12.2s\n",
            "935:\tlearn: 0.0508504\ttotal: 31.4s\tremaining: 12.2s\n",
            "936:\tlearn: 0.0508094\ttotal: 31.4s\tremaining: 12.2s\n",
            "937:\tlearn: 0.0507362\ttotal: 31.5s\tremaining: 12.1s\n",
            "938:\tlearn: 0.0506555\ttotal: 31.5s\tremaining: 12.1s\n",
            "939:\tlearn: 0.0505682\ttotal: 31.5s\tremaining: 12.1s\n",
            "940:\tlearn: 0.0504950\ttotal: 31.6s\tremaining: 12s\n",
            "941:\tlearn: 0.0504431\ttotal: 31.6s\tremaining: 12s\n",
            "942:\tlearn: 0.0504048\ttotal: 31.6s\tremaining: 12s\n",
            "943:\tlearn: 0.0503590\ttotal: 31.7s\tremaining: 11.9s\n",
            "944:\tlearn: 0.0502760\ttotal: 31.7s\tremaining: 11.9s\n",
            "945:\tlearn: 0.0502558\ttotal: 31.7s\tremaining: 11.9s\n",
            "946:\tlearn: 0.0502392\ttotal: 31.8s\tremaining: 11.8s\n",
            "947:\tlearn: 0.0502024\ttotal: 31.8s\tremaining: 11.8s\n",
            "948:\tlearn: 0.0500931\ttotal: 31.8s\tremaining: 11.8s\n",
            "949:\tlearn: 0.0500365\ttotal: 31.9s\tremaining: 11.7s\n",
            "950:\tlearn: 0.0499898\ttotal: 31.9s\tremaining: 11.7s\n",
            "951:\tlearn: 0.0499394\ttotal: 31.9s\tremaining: 11.7s\n",
            "952:\tlearn: 0.0499211\ttotal: 32s\tremaining: 11.6s\n",
            "953:\tlearn: 0.0498333\ttotal: 32s\tremaining: 11.6s\n",
            "954:\tlearn: 0.0497147\ttotal: 32s\tremaining: 11.6s\n",
            "955:\tlearn: 0.0496835\ttotal: 32.1s\tremaining: 11.5s\n",
            "956:\tlearn: 0.0496416\ttotal: 32.1s\tremaining: 11.5s\n",
            "957:\tlearn: 0.0496076\ttotal: 32.1s\tremaining: 11.5s\n",
            "958:\tlearn: 0.0494918\ttotal: 32.2s\tremaining: 11.4s\n",
            "959:\tlearn: 0.0493980\ttotal: 32.2s\tremaining: 11.4s\n",
            "960:\tlearn: 0.0493409\ttotal: 32.2s\tremaining: 11.4s\n",
            "961:\tlearn: 0.0492766\ttotal: 32.3s\tremaining: 11.3s\n",
            "962:\tlearn: 0.0491976\ttotal: 32.3s\tremaining: 11.3s\n",
            "963:\tlearn: 0.0491667\ttotal: 32.3s\tremaining: 11.3s\n",
            "964:\tlearn: 0.0490962\ttotal: 32.4s\tremaining: 11.2s\n",
            "965:\tlearn: 0.0490839\ttotal: 32.4s\tremaining: 11.2s\n",
            "966:\tlearn: 0.0490673\ttotal: 32.4s\tremaining: 11.2s\n",
            "967:\tlearn: 0.0490074\ttotal: 32.5s\tremaining: 11.1s\n",
            "968:\tlearn: 0.0489417\ttotal: 32.5s\tremaining: 11.1s\n",
            "969:\tlearn: 0.0488350\ttotal: 32.5s\tremaining: 11.1s\n",
            "970:\tlearn: 0.0488210\ttotal: 32.6s\tremaining: 11s\n",
            "971:\tlearn: 0.0487944\ttotal: 32.6s\tremaining: 11s\n",
            "972:\tlearn: 0.0487843\ttotal: 32.6s\tremaining: 11s\n",
            "973:\tlearn: 0.0486922\ttotal: 32.7s\tremaining: 10.9s\n",
            "974:\tlearn: 0.0486439\ttotal: 32.7s\tremaining: 10.9s\n",
            "975:\tlearn: 0.0485670\ttotal: 32.7s\tremaining: 10.9s\n",
            "976:\tlearn: 0.0485427\ttotal: 32.8s\tremaining: 10.8s\n",
            "977:\tlearn: 0.0485083\ttotal: 32.8s\tremaining: 10.8s\n",
            "978:\tlearn: 0.0484460\ttotal: 32.8s\tremaining: 10.8s\n",
            "979:\tlearn: 0.0484069\ttotal: 32.9s\tremaining: 10.7s\n",
            "980:\tlearn: 0.0483528\ttotal: 32.9s\tremaining: 10.7s\n",
            "981:\tlearn: 0.0482898\ttotal: 32.9s\tremaining: 10.7s\n",
            "982:\tlearn: 0.0482399\ttotal: 33s\tremaining: 10.6s\n",
            "983:\tlearn: 0.0481669\ttotal: 33s\tremaining: 10.6s\n",
            "984:\tlearn: 0.0481487\ttotal: 33.1s\tremaining: 10.6s\n",
            "985:\tlearn: 0.0481054\ttotal: 33.1s\tremaining: 10.5s\n",
            "986:\tlearn: 0.0480641\ttotal: 33.1s\tremaining: 10.5s\n",
            "987:\tlearn: 0.0479913\ttotal: 33.1s\tremaining: 10.5s\n",
            "988:\tlearn: 0.0479264\ttotal: 33.2s\tremaining: 10.4s\n",
            "989:\tlearn: 0.0478561\ttotal: 33.2s\tremaining: 10.4s\n",
            "990:\tlearn: 0.0477946\ttotal: 33.2s\tremaining: 10.4s\n",
            "991:\tlearn: 0.0477856\ttotal: 33.3s\tremaining: 10.3s\n",
            "992:\tlearn: 0.0477616\ttotal: 33.3s\tremaining: 10.3s\n",
            "993:\tlearn: 0.0476134\ttotal: 33.4s\tremaining: 10.3s\n",
            "994:\tlearn: 0.0475475\ttotal: 33.4s\tremaining: 10.2s\n",
            "995:\tlearn: 0.0474705\ttotal: 33.4s\tremaining: 10.2s\n",
            "996:\tlearn: 0.0474246\ttotal: 33.5s\tremaining: 10.2s\n",
            "997:\tlearn: 0.0473860\ttotal: 33.5s\tremaining: 10.1s\n",
            "998:\tlearn: 0.0473580\ttotal: 33.5s\tremaining: 10.1s\n",
            "999:\tlearn: 0.0472789\ttotal: 33.6s\tremaining: 10.1s\n",
            "1000:\tlearn: 0.0472325\ttotal: 33.6s\tremaining: 10s\n",
            "1001:\tlearn: 0.0471266\ttotal: 33.6s\tremaining: 10s\n",
            "1002:\tlearn: 0.0470488\ttotal: 33.7s\tremaining: 9.97s\n",
            "1003:\tlearn: 0.0470156\ttotal: 33.7s\tremaining: 9.93s\n",
            "1004:\tlearn: 0.0468581\ttotal: 33.7s\tremaining: 9.9s\n",
            "1005:\tlearn: 0.0468195\ttotal: 33.8s\tremaining: 9.87s\n",
            "1006:\tlearn: 0.0467084\ttotal: 33.8s\tremaining: 9.83s\n",
            "1007:\tlearn: 0.0466110\ttotal: 33.8s\tremaining: 9.8s\n",
            "1008:\tlearn: 0.0465622\ttotal: 33.9s\tremaining: 9.77s\n",
            "1009:\tlearn: 0.0464621\ttotal: 33.9s\tremaining: 9.73s\n",
            "1010:\tlearn: 0.0464106\ttotal: 33.9s\tremaining: 9.7s\n",
            "1011:\tlearn: 0.0463920\ttotal: 34s\tremaining: 9.67s\n",
            "1012:\tlearn: 0.0462899\ttotal: 34s\tremaining: 9.63s\n",
            "1013:\tlearn: 0.0462594\ttotal: 34s\tremaining: 9.6s\n",
            "1014:\tlearn: 0.0462356\ttotal: 34.1s\tremaining: 9.56s\n",
            "1015:\tlearn: 0.0461961\ttotal: 34.1s\tremaining: 9.53s\n",
            "1016:\tlearn: 0.0461162\ttotal: 34.1s\tremaining: 9.5s\n",
            "1017:\tlearn: 0.0460429\ttotal: 34.2s\tremaining: 9.46s\n",
            "1018:\tlearn: 0.0460073\ttotal: 34.2s\tremaining: 9.43s\n",
            "1019:\tlearn: 0.0459839\ttotal: 34.2s\tremaining: 9.4s\n",
            "1020:\tlearn: 0.0459329\ttotal: 34.3s\tremaining: 9.36s\n",
            "1021:\tlearn: 0.0458818\ttotal: 34.3s\tremaining: 9.33s\n",
            "1022:\tlearn: 0.0458177\ttotal: 34.3s\tremaining: 9.29s\n",
            "1023:\tlearn: 0.0457273\ttotal: 34.4s\tremaining: 9.26s\n",
            "1024:\tlearn: 0.0456613\ttotal: 34.4s\tremaining: 9.23s\n",
            "1025:\tlearn: 0.0456050\ttotal: 34.4s\tremaining: 9.19s\n",
            "1026:\tlearn: 0.0455582\ttotal: 34.5s\tremaining: 9.16s\n",
            "1027:\tlearn: 0.0455050\ttotal: 34.5s\tremaining: 9.13s\n",
            "1028:\tlearn: 0.0454484\ttotal: 34.5s\tremaining: 9.1s\n",
            "1029:\tlearn: 0.0454315\ttotal: 34.6s\tremaining: 9.06s\n",
            "1030:\tlearn: 0.0453835\ttotal: 34.6s\tremaining: 9.03s\n",
            "1031:\tlearn: 0.0453717\ttotal: 34.7s\tremaining: 9s\n",
            "1032:\tlearn: 0.0453152\ttotal: 34.7s\tremaining: 8.96s\n",
            "1033:\tlearn: 0.0453001\ttotal: 34.7s\tremaining: 8.93s\n",
            "1034:\tlearn: 0.0452451\ttotal: 34.8s\tremaining: 8.9s\n",
            "1035:\tlearn: 0.0452092\ttotal: 34.8s\tremaining: 8.86s\n",
            "1036:\tlearn: 0.0451371\ttotal: 34.8s\tremaining: 8.83s\n",
            "1037:\tlearn: 0.0451115\ttotal: 34.8s\tremaining: 8.8s\n",
            "1038:\tlearn: 0.0450646\ttotal: 34.9s\tremaining: 8.76s\n",
            "1039:\tlearn: 0.0450458\ttotal: 34.9s\tremaining: 8.73s\n",
            "1040:\tlearn: 0.0449682\ttotal: 35s\tremaining: 8.7s\n",
            "1041:\tlearn: 0.0449436\ttotal: 35s\tremaining: 8.66s\n",
            "1042:\tlearn: 0.0448627\ttotal: 35s\tremaining: 8.63s\n",
            "1043:\tlearn: 0.0448181\ttotal: 35.1s\tremaining: 8.6s\n",
            "1044:\tlearn: 0.0448043\ttotal: 35.1s\tremaining: 8.56s\n",
            "1045:\tlearn: 0.0447318\ttotal: 35.1s\tremaining: 8.53s\n",
            "1046:\tlearn: 0.0446635\ttotal: 35.2s\tremaining: 8.5s\n",
            "1047:\tlearn: 0.0446047\ttotal: 35.2s\tremaining: 8.46s\n",
            "1048:\tlearn: 0.0445685\ttotal: 35.2s\tremaining: 8.43s\n",
            "1049:\tlearn: 0.0444259\ttotal: 35.3s\tremaining: 8.4s\n",
            "1050:\tlearn: 0.0443603\ttotal: 35.3s\tremaining: 8.37s\n",
            "1051:\tlearn: 0.0443386\ttotal: 35.3s\tremaining: 8.33s\n",
            "1052:\tlearn: 0.0442960\ttotal: 35.4s\tremaining: 8.3s\n",
            "1053:\tlearn: 0.0442222\ttotal: 35.4s\tremaining: 8.26s\n",
            "1054:\tlearn: 0.0441518\ttotal: 35.4s\tremaining: 8.23s\n",
            "1055:\tlearn: 0.0441100\ttotal: 35.5s\tremaining: 8.2s\n",
            "1056:\tlearn: 0.0440691\ttotal: 35.5s\tremaining: 8.17s\n",
            "1057:\tlearn: 0.0440147\ttotal: 35.6s\tremaining: 8.13s\n",
            "1058:\tlearn: 0.0440087\ttotal: 35.6s\tremaining: 8.1s\n",
            "1059:\tlearn: 0.0439695\ttotal: 35.6s\tremaining: 8.06s\n",
            "1060:\tlearn: 0.0439399\ttotal: 35.6s\tremaining: 8.03s\n",
            "1061:\tlearn: 0.0438913\ttotal: 35.7s\tremaining: 8s\n",
            "1062:\tlearn: 0.0438194\ttotal: 35.7s\tremaining: 7.96s\n",
            "1063:\tlearn: 0.0437849\ttotal: 35.8s\tremaining: 7.93s\n",
            "1064:\tlearn: 0.0437555\ttotal: 35.8s\tremaining: 7.89s\n",
            "1065:\tlearn: 0.0437144\ttotal: 35.8s\tremaining: 7.86s\n",
            "1066:\tlearn: 0.0436632\ttotal: 35.8s\tremaining: 7.83s\n",
            "1067:\tlearn: 0.0436176\ttotal: 35.9s\tremaining: 7.79s\n",
            "1068:\tlearn: 0.0435450\ttotal: 35.9s\tremaining: 7.76s\n",
            "1069:\tlearn: 0.0434858\ttotal: 36s\tremaining: 7.73s\n",
            "1070:\tlearn: 0.0434507\ttotal: 36s\tremaining: 7.69s\n",
            "1071:\tlearn: 0.0433853\ttotal: 36s\tremaining: 7.66s\n",
            "1072:\tlearn: 0.0433644\ttotal: 36s\tremaining: 7.63s\n",
            "1073:\tlearn: 0.0432750\ttotal: 36.1s\tremaining: 7.59s\n",
            "1074:\tlearn: 0.0432199\ttotal: 36.1s\tremaining: 7.56s\n",
            "1075:\tlearn: 0.0431237\ttotal: 36.1s\tremaining: 7.52s\n",
            "1076:\tlearn: 0.0430636\ttotal: 36.2s\tremaining: 7.49s\n",
            "1077:\tlearn: 0.0430047\ttotal: 36.2s\tremaining: 7.46s\n",
            "1078:\tlearn: 0.0429086\ttotal: 36.2s\tremaining: 7.42s\n",
            "1079:\tlearn: 0.0428078\ttotal: 36.3s\tremaining: 7.39s\n",
            "1080:\tlearn: 0.0427634\ttotal: 36.3s\tremaining: 7.35s\n",
            "1081:\tlearn: 0.0427152\ttotal: 36.3s\tremaining: 7.32s\n",
            "1082:\tlearn: 0.0426747\ttotal: 36.4s\tremaining: 7.29s\n",
            "1083:\tlearn: 0.0426202\ttotal: 36.4s\tremaining: 7.25s\n",
            "1084:\tlearn: 0.0426091\ttotal: 36.4s\tremaining: 7.22s\n",
            "1085:\tlearn: 0.0425825\ttotal: 36.5s\tremaining: 7.19s\n",
            "1086:\tlearn: 0.0425490\ttotal: 36.5s\tremaining: 7.15s\n",
            "1087:\tlearn: 0.0425124\ttotal: 36.5s\tremaining: 7.12s\n",
            "1088:\tlearn: 0.0424314\ttotal: 36.6s\tremaining: 7.09s\n",
            "1089:\tlearn: 0.0424237\ttotal: 36.6s\tremaining: 7.05s\n",
            "1090:\tlearn: 0.0424034\ttotal: 36.6s\tremaining: 7.02s\n",
            "1091:\tlearn: 0.0423317\ttotal: 36.7s\tremaining: 6.99s\n",
            "1092:\tlearn: 0.0422525\ttotal: 36.7s\tremaining: 6.95s\n",
            "1093:\tlearn: 0.0422139\ttotal: 36.7s\tremaining: 6.92s\n",
            "1094:\tlearn: 0.0421708\ttotal: 36.8s\tremaining: 6.88s\n",
            "1095:\tlearn: 0.0421146\ttotal: 36.8s\tremaining: 6.85s\n",
            "1096:\tlearn: 0.0420842\ttotal: 36.8s\tremaining: 6.82s\n",
            "1097:\tlearn: 0.0420351\ttotal: 36.9s\tremaining: 6.79s\n",
            "1098:\tlearn: 0.0419601\ttotal: 36.9s\tremaining: 6.75s\n",
            "1099:\tlearn: 0.0419150\ttotal: 37s\tremaining: 6.72s\n",
            "1100:\tlearn: 0.0418519\ttotal: 37s\tremaining: 6.68s\n",
            "1101:\tlearn: 0.0417334\ttotal: 37s\tremaining: 6.65s\n",
            "1102:\tlearn: 0.0416795\ttotal: 37.1s\tremaining: 6.62s\n",
            "1103:\tlearn: 0.0416347\ttotal: 37.1s\tremaining: 6.58s\n",
            "1104:\tlearn: 0.0415711\ttotal: 37.1s\tremaining: 6.55s\n",
            "1105:\tlearn: 0.0415149\ttotal: 37.2s\tremaining: 6.52s\n",
            "1106:\tlearn: 0.0414628\ttotal: 37.2s\tremaining: 6.48s\n",
            "1107:\tlearn: 0.0414362\ttotal: 37.2s\tremaining: 6.45s\n",
            "1108:\tlearn: 0.0413859\ttotal: 37.3s\tremaining: 6.42s\n",
            "1109:\tlearn: 0.0413671\ttotal: 37.3s\tremaining: 6.38s\n",
            "1110:\tlearn: 0.0413295\ttotal: 37.3s\tremaining: 6.35s\n",
            "1111:\tlearn: 0.0413092\ttotal: 37.4s\tremaining: 6.32s\n",
            "1112:\tlearn: 0.0412639\ttotal: 37.4s\tremaining: 6.28s\n",
            "1113:\tlearn: 0.0412189\ttotal: 37.4s\tremaining: 6.25s\n",
            "1114:\tlearn: 0.0411908\ttotal: 37.5s\tremaining: 6.21s\n",
            "1115:\tlearn: 0.0411513\ttotal: 37.5s\tremaining: 6.18s\n",
            "1116:\tlearn: 0.0411083\ttotal: 37.5s\tremaining: 6.15s\n",
            "1117:\tlearn: 0.0410386\ttotal: 37.6s\tremaining: 6.12s\n",
            "1118:\tlearn: 0.0409397\ttotal: 37.6s\tremaining: 6.08s\n",
            "1119:\tlearn: 0.0409200\ttotal: 37.6s\tremaining: 6.05s\n",
            "1120:\tlearn: 0.0409046\ttotal: 37.7s\tremaining: 6.01s\n",
            "1121:\tlearn: 0.0408319\ttotal: 37.7s\tremaining: 5.98s\n",
            "1122:\tlearn: 0.0407965\ttotal: 37.7s\tremaining: 5.95s\n",
            "1123:\tlearn: 0.0407827\ttotal: 37.8s\tremaining: 5.91s\n",
            "1124:\tlearn: 0.0407587\ttotal: 37.8s\tremaining: 5.88s\n",
            "1125:\tlearn: 0.0407150\ttotal: 37.8s\tremaining: 5.84s\n",
            "1126:\tlearn: 0.0406802\ttotal: 37.9s\tremaining: 5.81s\n",
            "1127:\tlearn: 0.0406273\ttotal: 37.9s\tremaining: 5.78s\n",
            "1128:\tlearn: 0.0405892\ttotal: 37.9s\tremaining: 5.74s\n",
            "1129:\tlearn: 0.0405426\ttotal: 38s\tremaining: 5.71s\n",
            "1130:\tlearn: 0.0404950\ttotal: 38s\tremaining: 5.68s\n",
            "1131:\tlearn: 0.0404470\ttotal: 38s\tremaining: 5.64s\n",
            "1132:\tlearn: 0.0404367\ttotal: 38.1s\tremaining: 5.61s\n",
            "1133:\tlearn: 0.0403668\ttotal: 38.1s\tremaining: 5.58s\n",
            "1134:\tlearn: 0.0403449\ttotal: 38.1s\tremaining: 5.54s\n",
            "1135:\tlearn: 0.0403007\ttotal: 38.2s\tremaining: 5.51s\n",
            "1136:\tlearn: 0.0402558\ttotal: 38.2s\tremaining: 5.47s\n",
            "1137:\tlearn: 0.0401919\ttotal: 38.2s\tremaining: 5.44s\n",
            "1138:\tlearn: 0.0401133\ttotal: 38.2s\tremaining: 5.41s\n",
            "1139:\tlearn: 0.0400747\ttotal: 38.3s\tremaining: 5.37s\n",
            "1140:\tlearn: 0.0399921\ttotal: 38.3s\tremaining: 5.34s\n",
            "1141:\tlearn: 0.0399498\ttotal: 38.3s\tremaining: 5.3s\n",
            "1142:\tlearn: 0.0399080\ttotal: 38.4s\tremaining: 5.27s\n",
            "1143:\tlearn: 0.0398286\ttotal: 38.4s\tremaining: 5.24s\n",
            "1144:\tlearn: 0.0398061\ttotal: 38.4s\tremaining: 5.2s\n",
            "1145:\tlearn: 0.0397617\ttotal: 38.5s\tremaining: 5.17s\n",
            "1146:\tlearn: 0.0397124\ttotal: 38.5s\tremaining: 5.14s\n",
            "1147:\tlearn: 0.0396733\ttotal: 38.5s\tremaining: 5.1s\n",
            "1148:\tlearn: 0.0395343\ttotal: 38.6s\tremaining: 5.07s\n",
            "1149:\tlearn: 0.0394692\ttotal: 38.6s\tremaining: 5.04s\n",
            "1150:\tlearn: 0.0394080\ttotal: 38.6s\tremaining: 5s\n",
            "1151:\tlearn: 0.0393499\ttotal: 38.7s\tremaining: 4.97s\n",
            "1152:\tlearn: 0.0392876\ttotal: 38.7s\tremaining: 4.93s\n",
            "1153:\tlearn: 0.0391967\ttotal: 38.7s\tremaining: 4.9s\n",
            "1154:\tlearn: 0.0391741\ttotal: 38.8s\tremaining: 4.87s\n",
            "1155:\tlearn: 0.0391369\ttotal: 38.8s\tremaining: 4.83s\n",
            "1156:\tlearn: 0.0390810\ttotal: 38.8s\tremaining: 4.8s\n",
            "1157:\tlearn: 0.0390410\ttotal: 38.9s\tremaining: 4.77s\n",
            "1158:\tlearn: 0.0389863\ttotal: 38.9s\tremaining: 4.73s\n",
            "1159:\tlearn: 0.0389369\ttotal: 38.9s\tremaining: 4.7s\n",
            "1160:\tlearn: 0.0389007\ttotal: 39s\tremaining: 4.66s\n",
            "1161:\tlearn: 0.0388269\ttotal: 39s\tremaining: 4.63s\n",
            "1162:\tlearn: 0.0387941\ttotal: 39s\tremaining: 4.6s\n",
            "1163:\tlearn: 0.0387694\ttotal: 39.1s\tremaining: 4.56s\n",
            "1164:\tlearn: 0.0387031\ttotal: 39.1s\tremaining: 4.53s\n",
            "1165:\tlearn: 0.0386523\ttotal: 39.1s\tremaining: 4.5s\n",
            "1166:\tlearn: 0.0386103\ttotal: 39.2s\tremaining: 4.46s\n",
            "1167:\tlearn: 0.0385486\ttotal: 39.2s\tremaining: 4.43s\n",
            "1168:\tlearn: 0.0384916\ttotal: 39.2s\tremaining: 4.39s\n",
            "1169:\tlearn: 0.0384497\ttotal: 39.3s\tremaining: 4.36s\n",
            "1170:\tlearn: 0.0383268\ttotal: 39.3s\tremaining: 4.33s\n",
            "1171:\tlearn: 0.0382905\ttotal: 39.3s\tremaining: 4.29s\n",
            "1172:\tlearn: 0.0382573\ttotal: 39.4s\tremaining: 4.26s\n",
            "1173:\tlearn: 0.0382195\ttotal: 39.4s\tremaining: 4.23s\n",
            "1174:\tlearn: 0.0381977\ttotal: 39.4s\tremaining: 4.19s\n",
            "1175:\tlearn: 0.0381385\ttotal: 39.5s\tremaining: 4.16s\n",
            "1176:\tlearn: 0.0380724\ttotal: 39.5s\tremaining: 4.13s\n",
            "1177:\tlearn: 0.0380404\ttotal: 39.5s\tremaining: 4.09s\n",
            "1178:\tlearn: 0.0379938\ttotal: 39.6s\tremaining: 4.06s\n",
            "1179:\tlearn: 0.0379409\ttotal: 39.6s\tremaining: 4.03s\n",
            "1180:\tlearn: 0.0379166\ttotal: 39.6s\tremaining: 3.99s\n",
            "1181:\tlearn: 0.0378837\ttotal: 39.7s\tremaining: 3.96s\n",
            "1182:\tlearn: 0.0378213\ttotal: 39.7s\tremaining: 3.92s\n",
            "1183:\tlearn: 0.0377514\ttotal: 39.7s\tremaining: 3.89s\n",
            "1184:\tlearn: 0.0377154\ttotal: 39.8s\tremaining: 3.86s\n",
            "1185:\tlearn: 0.0376802\ttotal: 39.8s\tremaining: 3.83s\n",
            "1186:\tlearn: 0.0376427\ttotal: 39.8s\tremaining: 3.79s\n",
            "1187:\tlearn: 0.0375638\ttotal: 39.9s\tremaining: 3.76s\n",
            "1188:\tlearn: 0.0374918\ttotal: 39.9s\tremaining: 3.72s\n",
            "1189:\tlearn: 0.0374801\ttotal: 39.9s\tremaining: 3.69s\n",
            "1190:\tlearn: 0.0374372\ttotal: 40s\tremaining: 3.66s\n",
            "1191:\tlearn: 0.0373923\ttotal: 40s\tremaining: 3.62s\n",
            "1192:\tlearn: 0.0373560\ttotal: 40s\tremaining: 3.59s\n",
            "1193:\tlearn: 0.0372588\ttotal: 40.1s\tremaining: 3.56s\n",
            "1194:\tlearn: 0.0372128\ttotal: 40.1s\tremaining: 3.52s\n",
            "1195:\tlearn: 0.0371389\ttotal: 40.1s\tremaining: 3.49s\n",
            "1196:\tlearn: 0.0370966\ttotal: 40.2s\tremaining: 3.46s\n",
            "1197:\tlearn: 0.0370785\ttotal: 40.2s\tremaining: 3.42s\n",
            "1198:\tlearn: 0.0370254\ttotal: 40.2s\tremaining: 3.39s\n",
            "1199:\tlearn: 0.0369654\ttotal: 40.3s\tremaining: 3.35s\n",
            "1200:\tlearn: 0.0369157\ttotal: 40.3s\tremaining: 3.32s\n",
            "1201:\tlearn: 0.0368660\ttotal: 40.3s\tremaining: 3.29s\n",
            "1202:\tlearn: 0.0368252\ttotal: 40.4s\tremaining: 3.25s\n",
            "1203:\tlearn: 0.0367999\ttotal: 40.4s\tremaining: 3.22s\n",
            "1204:\tlearn: 0.0367726\ttotal: 40.4s\tremaining: 3.19s\n",
            "1205:\tlearn: 0.0367521\ttotal: 40.5s\tremaining: 3.15s\n",
            "1206:\tlearn: 0.0367301\ttotal: 40.5s\tremaining: 3.12s\n",
            "1207:\tlearn: 0.0366794\ttotal: 40.5s\tremaining: 3.09s\n",
            "1208:\tlearn: 0.0366284\ttotal: 40.6s\tremaining: 3.05s\n",
            "1209:\tlearn: 0.0366009\ttotal: 40.6s\tremaining: 3.02s\n",
            "1210:\tlearn: 0.0365629\ttotal: 40.6s\tremaining: 2.99s\n",
            "1211:\tlearn: 0.0365296\ttotal: 40.7s\tremaining: 2.95s\n",
            "1212:\tlearn: 0.0364942\ttotal: 40.7s\tremaining: 2.92s\n",
            "1213:\tlearn: 0.0364372\ttotal: 40.7s\tremaining: 2.88s\n",
            "1214:\tlearn: 0.0364119\ttotal: 40.8s\tremaining: 2.85s\n",
            "1215:\tlearn: 0.0363833\ttotal: 40.8s\tremaining: 2.82s\n",
            "1216:\tlearn: 0.0363575\ttotal: 40.8s\tremaining: 2.78s\n",
            "1217:\tlearn: 0.0363151\ttotal: 40.9s\tremaining: 2.75s\n",
            "1218:\tlearn: 0.0362933\ttotal: 40.9s\tremaining: 2.72s\n",
            "1219:\tlearn: 0.0362212\ttotal: 40.9s\tremaining: 2.68s\n",
            "1220:\tlearn: 0.0361606\ttotal: 41s\tremaining: 2.65s\n",
            "1221:\tlearn: 0.0361357\ttotal: 41s\tremaining: 2.62s\n",
            "1222:\tlearn: 0.0360964\ttotal: 41s\tremaining: 2.58s\n",
            "1223:\tlearn: 0.0360833\ttotal: 41.1s\tremaining: 2.55s\n",
            "1224:\tlearn: 0.0360109\ttotal: 41.1s\tremaining: 2.52s\n",
            "1225:\tlearn: 0.0359699\ttotal: 41.1s\tremaining: 2.48s\n",
            "1226:\tlearn: 0.0359389\ttotal: 41.2s\tremaining: 2.45s\n",
            "1227:\tlearn: 0.0359205\ttotal: 41.2s\tremaining: 2.42s\n",
            "1228:\tlearn: 0.0359077\ttotal: 41.2s\tremaining: 2.38s\n",
            "1229:\tlearn: 0.0358673\ttotal: 41.3s\tremaining: 2.35s\n",
            "1230:\tlearn: 0.0358033\ttotal: 41.3s\tremaining: 2.31s\n",
            "1231:\tlearn: 0.0357724\ttotal: 41.3s\tremaining: 2.28s\n",
            "1232:\tlearn: 0.0357585\ttotal: 41.4s\tremaining: 2.25s\n",
            "1233:\tlearn: 0.0357353\ttotal: 41.4s\tremaining: 2.21s\n",
            "1234:\tlearn: 0.0357058\ttotal: 41.4s\tremaining: 2.18s\n",
            "1235:\tlearn: 0.0356741\ttotal: 41.5s\tremaining: 2.15s\n",
            "1236:\tlearn: 0.0356032\ttotal: 41.5s\tremaining: 2.11s\n",
            "1237:\tlearn: 0.0355726\ttotal: 41.6s\tremaining: 2.08s\n",
            "1238:\tlearn: 0.0355030\ttotal: 41.6s\tremaining: 2.05s\n",
            "1239:\tlearn: 0.0354785\ttotal: 41.6s\tremaining: 2.01s\n",
            "1240:\tlearn: 0.0354260\ttotal: 41.6s\tremaining: 1.98s\n",
            "1241:\tlearn: 0.0353955\ttotal: 41.7s\tremaining: 1.95s\n",
            "1242:\tlearn: 0.0353633\ttotal: 41.7s\tremaining: 1.91s\n",
            "1243:\tlearn: 0.0353120\ttotal: 41.7s\tremaining: 1.88s\n",
            "1244:\tlearn: 0.0352861\ttotal: 41.8s\tremaining: 1.84s\n",
            "1245:\tlearn: 0.0352460\ttotal: 41.8s\tremaining: 1.81s\n",
            "1246:\tlearn: 0.0352169\ttotal: 41.8s\tremaining: 1.78s\n",
            "1247:\tlearn: 0.0351896\ttotal: 41.9s\tremaining: 1.74s\n",
            "1248:\tlearn: 0.0351730\ttotal: 41.9s\tremaining: 1.71s\n",
            "1249:\tlearn: 0.0351219\ttotal: 41.9s\tremaining: 1.68s\n",
            "1250:\tlearn: 0.0350906\ttotal: 42s\tremaining: 1.64s\n",
            "1251:\tlearn: 0.0350532\ttotal: 42s\tremaining: 1.61s\n",
            "1252:\tlearn: 0.0350117\ttotal: 42s\tremaining: 1.58s\n",
            "1253:\tlearn: 0.0349677\ttotal: 42.1s\tremaining: 1.54s\n",
            "1254:\tlearn: 0.0349114\ttotal: 42.1s\tremaining: 1.51s\n",
            "1255:\tlearn: 0.0348777\ttotal: 42.1s\tremaining: 1.48s\n",
            "1256:\tlearn: 0.0348449\ttotal: 42.2s\tremaining: 1.44s\n",
            "1257:\tlearn: 0.0348043\ttotal: 42.2s\tremaining: 1.41s\n",
            "1258:\tlearn: 0.0347677\ttotal: 42.3s\tremaining: 1.38s\n",
            "1259:\tlearn: 0.0347474\ttotal: 42.3s\tremaining: 1.34s\n",
            "1260:\tlearn: 0.0347264\ttotal: 42.3s\tremaining: 1.31s\n",
            "1261:\tlearn: 0.0346863\ttotal: 42.3s\tremaining: 1.27s\n",
            "1262:\tlearn: 0.0346781\ttotal: 42.4s\tremaining: 1.24s\n",
            "1263:\tlearn: 0.0346554\ttotal: 42.4s\tremaining: 1.21s\n",
            "1264:\tlearn: 0.0346256\ttotal: 42.5s\tremaining: 1.17s\n",
            "1265:\tlearn: 0.0346073\ttotal: 42.5s\tremaining: 1.14s\n",
            "1266:\tlearn: 0.0345933\ttotal: 42.5s\tremaining: 1.11s\n",
            "1267:\tlearn: 0.0345536\ttotal: 42.6s\tremaining: 1.07s\n",
            "1268:\tlearn: 0.0344642\ttotal: 42.6s\tremaining: 1.04s\n",
            "1269:\tlearn: 0.0344599\ttotal: 42.6s\tremaining: 1.01s\n",
            "1270:\tlearn: 0.0344062\ttotal: 42.7s\tremaining: 973ms\n",
            "1271:\tlearn: 0.0343771\ttotal: 42.7s\tremaining: 940ms\n",
            "1272:\tlearn: 0.0343473\ttotal: 42.7s\tremaining: 906ms\n",
            "1273:\tlearn: 0.0343108\ttotal: 42.8s\tremaining: 873ms\n",
            "1274:\tlearn: 0.0342894\ttotal: 42.8s\tremaining: 839ms\n",
            "1275:\tlearn: 0.0342497\ttotal: 42.8s\tremaining: 806ms\n",
            "1276:\tlearn: 0.0341961\ttotal: 42.9s\tremaining: 772ms\n",
            "1277:\tlearn: 0.0341777\ttotal: 42.9s\tremaining: 738ms\n",
            "1278:\tlearn: 0.0341495\ttotal: 42.9s\tremaining: 705ms\n",
            "1279:\tlearn: 0.0340932\ttotal: 43s\tremaining: 671ms\n",
            "1280:\tlearn: 0.0340674\ttotal: 43s\tremaining: 638ms\n",
            "1281:\tlearn: 0.0340070\ttotal: 43s\tremaining: 604ms\n",
            "1282:\tlearn: 0.0339590\ttotal: 43.1s\tremaining: 570ms\n",
            "1283:\tlearn: 0.0339449\ttotal: 43.1s\tremaining: 537ms\n",
            "1284:\tlearn: 0.0339380\ttotal: 43.1s\tremaining: 503ms\n",
            "1285:\tlearn: 0.0338980\ttotal: 43.1s\tremaining: 470ms\n",
            "1286:\tlearn: 0.0338721\ttotal: 43.2s\tremaining: 436ms\n",
            "1287:\tlearn: 0.0338278\ttotal: 43.2s\tremaining: 403ms\n",
            "1288:\tlearn: 0.0337842\ttotal: 43.3s\tremaining: 369ms\n",
            "1289:\tlearn: 0.0337760\ttotal: 43.3s\tremaining: 336ms\n",
            "1290:\tlearn: 0.0337252\ttotal: 43.3s\tremaining: 302ms\n",
            "1291:\tlearn: 0.0336481\ttotal: 43.4s\tremaining: 269ms\n",
            "1292:\tlearn: 0.0336074\ttotal: 43.4s\tremaining: 235ms\n",
            "1293:\tlearn: 0.0335518\ttotal: 43.4s\tremaining: 201ms\n",
            "1294:\tlearn: 0.0335051\ttotal: 43.5s\tremaining: 168ms\n",
            "1295:\tlearn: 0.0334755\ttotal: 43.5s\tremaining: 134ms\n",
            "1296:\tlearn: 0.0334102\ttotal: 43.6s\tremaining: 101ms\n",
            "1297:\tlearn: 0.0333938\ttotal: 43.6s\tremaining: 67.2ms\n",
            "1298:\tlearn: 0.0333674\ttotal: 43.6s\tremaining: 33.6ms\n",
            "1299:\tlearn: 0.0332798\ttotal: 43.7s\tremaining: 0us\n",
            "\n",
            " The best parameters across ALL searched params:\n",
            " {'depth': 8, 'iterations': 1300, 'learning_rate': 0.04628434728633249}\n"
          ]
        }
      ]
    },
    {
      "cell_type": "code",
      "source": [
        "from catboost import CatBoostClassifier\n",
        "model_6 = CatBoostClassifier(depth=8, iterations= 1300, devices='0:1',learning_rate=0.04628434728633249)\n",
        "%time model_6.fit(X_train_smote, y_train_smote, verbose=0)\n",
        "y_pred = model_6.predict(X_test)"
      ],
      "metadata": {
        "colab": {
          "base_uri": "https://localhost:8080/"
        },
        "id": "WqlHfaZ7hEAU",
        "outputId": "578291a8-29d5-4303-a6ca-f2d02535327f"
      },
      "execution_count": 273,
      "outputs": [
        {
          "output_type": "stream",
          "name": "stdout",
          "text": [
            "CPU times: user 1min 21s, sys: 1.54 s, total: 1min 23s\n",
            "Wall time: 43.5 s\n"
          ]
        }
      ]
    },
    {
      "cell_type": "code",
      "source": [
        "from sklearn.metrics import classification_report,confusion_matrix\n",
        "print(classification_report(y_test,y_pred))"
      ],
      "metadata": {
        "colab": {
          "base_uri": "https://localhost:8080/"
        },
        "id": "f6Q0CN_zhW66",
        "outputId": "7fa00adb-118f-40d6-ceb8-d0e7c3a02df5"
      },
      "execution_count": 274,
      "outputs": [
        {
          "output_type": "stream",
          "name": "stdout",
          "text": [
            "              precision    recall  f1-score   support\n",
            "\n",
            "           0       0.94      0.93      0.93      2045\n",
            "           1       0.66      0.69      0.67       396\n",
            "\n",
            "    accuracy                           0.89      2441\n",
            "   macro avg       0.80      0.81      0.80      2441\n",
            "weighted avg       0.89      0.89      0.89      2441\n",
            "\n"
          ]
        }
      ]
    },
    {
      "cell_type": "code",
      "source": [
        "result_model_6=calculate_results(y_true=y_test, y_pred=y_pred)\n",
        "result_model_6"
      ],
      "metadata": {
        "colab": {
          "base_uri": "https://localhost:8080/"
        },
        "id": "_iv8IzgjlLTU",
        "outputId": "b65160ba-147b-419d-85b6-971ab6a3aa3f"
      },
      "execution_count": 275,
      "outputs": [
        {
          "output_type": "execute_result",
          "data": {
            "text/plain": [
              "{'accuracy': 89.14379352724293,\n",
              " 'f1': 0.8926628185078923,\n",
              " 'precision': 0.8941123205926425,\n",
              " 'recall': 0.8914379352724293}"
            ]
          },
          "metadata": {},
          "execution_count": 275
        }
      ]
    },
    {
      "cell_type": "code",
      "source": [
        "make_confusion_matrix(y_test, y_pred)"
      ],
      "metadata": {
        "colab": {
          "base_uri": "https://localhost:8080/",
          "height": 574
        },
        "id": "RIDD7uHYt2PU",
        "outputId": "dc541f7c-18e4-45a0-d8d2-6fff326ee1d7"
      },
      "execution_count": 276,
      "outputs": [
        {
          "output_type": "display_data",
          "data": {
            "image/png": "[encoded data removed]",
            "text/plain": [
              "<Figure size 720x720 with 2 Axes>"
            ]
          },
          "metadata": {
            "needs_background": "light"
          }
        }
      ]
    },
    {
      "cell_type": "code",
      "source": [
        "y_pred_train_model_4=model_4.predict(X_train_smote)"
      ],
      "metadata": {
        "id": "i23_2T1Lx4af"
      },
      "execution_count": 278,
      "outputs": []
    },
    {
      "cell_type": "code",
      "source": [
        "result_train_model_4=calculate_results(y_train_smote,y_pred_train_model_4)\n",
        "result_train_model_4"
      ],
      "metadata": {
        "colab": {
          "base_uri": "https://localhost:8080/"
        },
        "id": "WwQ_0SgDzHLc",
        "outputId": "566190ba-a451-4132-a8a8-28e58856de49"
      },
      "execution_count": 280,
      "outputs": [
        {
          "output_type": "execute_result",
          "data": {
            "text/plain": [
              "{'accuracy': 95.21885521885521,\n",
              " 'f1': 0.9519691247398092,\n",
              " 'precision': 0.9520451506423654,\n",
              " 'recall': 0.9521885521885521}"
            ]
          },
          "metadata": {},
          "execution_count": 280
        }
      ]
    },
    {
      "cell_type": "code",
      "source": [
        "result_model_4"
      ],
      "metadata": {
        "colab": {
          "base_uri": "https://localhost:8080/"
        },
        "id": "f9lr-invlQgh",
        "outputId": "48d1c7ad-5fa0-4a80-d5ae-efe946bf5dee"
      },
      "execution_count": 253,
      "outputs": [
        {
          "output_type": "execute_result",
          "data": {
            "text/plain": [
              "{'accuracy': 89.59442851290454,\n",
              " 'f1': 0.896669292651563,\n",
              " 'precision': 0.8974798980034443,\n",
              " 'recall': 0.8959442851290454}"
            ]
          },
          "metadata": {},
          "execution_count": 253
        }
      ]
    },
    {
      "cell_type": "markdown",
      "source": [
        "## Model_7: Model 4 with regularization to decrease our overfitting\n",
        "\n",
        "https://catboost.ai/en/docs/references/training-parameters/#l2_leaf_reg"
      ],
      "metadata": {
        "id": "PuB_vo6W0ZDk"
      }
    },
    {
      "cell_type": "code",
      "source": [
        "from catboost import CatBoostClassifier\n",
        "model_7 = CatBoostClassifier(iterations=1000,                          \n",
        "                           devices='0:1',\n",
        "                           verbose=0,\n",
        "                           l2_leaf_reg=20)\n",
        "%time model_7.fit(X_train_smote, y_train_smote)\n",
        "y_pred = model_7.predict(X_test)"
      ],
      "metadata": {
        "colab": {
          "base_uri": "https://localhost:8080/",
          "height": 374
        },
        "id": "l003gN3d0d9o",
        "outputId": "cbf5358f-d8f5-4e08-b55c-04730b6473fe"
      },
      "execution_count": 1,
      "outputs": [
        {
          "output_type": "error",
          "ename": "ModuleNotFoundError",
          "evalue": "ignored",
          "traceback": [
            "\u001b[0;31m---------------------------------------------------------------------------\u001b[0m",
            "\u001b[0;31mModuleNotFoundError\u001b[0m                       Traceback (most recent call last)",
            "\u001b[0;32m<ipython-input-1-b67a0707acff>\u001b[0m in \u001b[0;36m<module>\u001b[0;34m()\u001b[0m\n\u001b[0;32m----> 1\u001b[0;31m \u001b[0;32mfrom\u001b[0m \u001b[0mcatboost\u001b[0m \u001b[0;32mimport\u001b[0m \u001b[0mCatBoostClassifier\u001b[0m\u001b[0;34m\u001b[0m\u001b[0;34m\u001b[0m\u001b[0m\n\u001b[0m\u001b[1;32m      2\u001b[0m model_7 = CatBoostClassifier(iterations=1000,                          \n\u001b[1;32m      3\u001b[0m                            \u001b[0mdevices\u001b[0m\u001b[0;34m=\u001b[0m\u001b[0;34m'0:1'\u001b[0m\u001b[0;34m,\u001b[0m\u001b[0;34m\u001b[0m\u001b[0;34m\u001b[0m\u001b[0m\n\u001b[1;32m      4\u001b[0m                            \u001b[0mverbose\u001b[0m\u001b[0;34m=\u001b[0m\u001b[0;36m0\u001b[0m\u001b[0;34m,\u001b[0m\u001b[0;34m\u001b[0m\u001b[0;34m\u001b[0m\u001b[0m\n\u001b[1;32m      5\u001b[0m                            l2_leaf_reg=20)\n",
            "\u001b[0;31mModuleNotFoundError\u001b[0m: No module named 'catboost'",
            "",
            "\u001b[0;31m---------------------------------------------------------------------------\u001b[0;32m\nNOTE: If your import is failing due to a missing package, you can\nmanually install dependencies using either !pip or !apt.\n\nTo view examples of installing some common dependencies, click the\n\"Open Examples\" button below.\n\u001b[0;31m---------------------------------------------------------------------------\u001b[0m\n"
          ],
          "errorDetails": {
            "actions": [
              {
                "action": "open_url",
                "actionText": "Open Examples",
                "url": "/notebooks/snippets/importing_libraries.ipynb"
              }
            ]
          }
        }
      ]
    },
    {
      "cell_type": "code",
      "source": [
        "result_model_7=calculate_results(y_test,y_pred)\n",
        "result_model_7"
      ],
      "metadata": {
        "colab": {
          "base_uri": "https://localhost:8080/"
        },
        "id": "1NPb252G06zQ",
        "outputId": "ae5f0bf8-606c-4055-89e2-4e724355a21b"
      },
      "execution_count": 296,
      "outputs": [
        {
          "output_type": "execute_result",
          "data": {
            "text/plain": [
              "{'accuracy': 89.9631298648095,\n",
              " 'f1': 0.9007637378657871,\n",
              " 'precision': 0.90212740570091,\n",
              " 'recall': 0.899631298648095}"
            ]
          },
          "metadata": {},
          "execution_count": 296
        }
      ]
    },
    {
      "cell_type": "code",
      "source": [
        "from sklearn.metrics import classification_report,confusion_matrix\n",
        "print(classification_report(y_test,y_pred))"
      ],
      "metadata": {
        "colab": {
          "base_uri": "https://localhost:8080/"
        },
        "id": "ixDL_yXE3MCG",
        "outputId": "0610b085-4918-4bb0-fe88-6491f3d0bd9f"
      },
      "execution_count": 297,
      "outputs": [
        {
          "output_type": "stream",
          "name": "stdout",
          "text": [
            "              precision    recall  f1-score   support\n",
            "\n",
            "           0       0.95      0.93      0.94      2045\n",
            "           1       0.68      0.72      0.70       396\n",
            "\n",
            "    accuracy                           0.90      2441\n",
            "   macro avg       0.81      0.83      0.82      2441\n",
            "weighted avg       0.90      0.90      0.90      2441\n",
            "\n"
          ]
        }
      ]
    },
    {
      "cell_type": "code",
      "source": [
        "make_confusion_matrix(y_test, y_pred)"
      ],
      "metadata": {
        "colab": {
          "base_uri": "https://localhost:8080/",
          "height": 574
        },
        "id": "lDpZWR-Z6226",
        "outputId": "08fbda11-532b-4b96-9942-ad675fc49abf"
      },
      "execution_count": 308,
      "outputs": [
        {
          "output_type": "display_data",
          "data": {
            "image/png": "[encoded data removed]",
            "text/plain": [
              "<Figure size 720x720 with 2 Axes>"
            ]
          },
          "metadata": {
            "needs_background": "light"
          }
        }
      ]
    },
    {
      "cell_type": "code",
      "source": [
        "def compare_model_to_new_results(result_model, new_model_results):\n",
        "  for key, value in result_model.items():\n",
        "    print(f\"Model_4 {key}: {value:.2f}, New {key}: {new_model_results[key]:.2f}, Difference: {new_model_results[key]-value:.2f}\")"
      ],
      "metadata": {
        "id": "A0yJBzVa4mTg"
      },
      "execution_count": 306,
      "outputs": []
    },
    {
      "cell_type": "code",
      "source": [
        "compare_model_to_new_results(result_model=result_model_4, new_model_results=result_model_7)\n"
      ],
      "metadata": {
        "colab": {
          "base_uri": "https://localhost:8080/"
        },
        "id": "0EYw4kdO1ioF",
        "outputId": "e9426cba-b72e-4ba7-cb54-500d3646d8fc"
      },
      "execution_count": 307,
      "outputs": [
        {
          "output_type": "stream",
          "name": "stdout",
          "text": [
            "Model_4 accuracy: 89.59, New accuracy: 89.96, Difference: 0.37\n",
            "Model_4 precision: 0.90, New precision: 0.90, Difference: 0.00\n",
            "Model_4 recall: 0.90, New recall: 0.90, Difference: 0.00\n",
            "Model_4 f1: 0.90, New f1: 0.90, Difference: 0.00\n"
          ]
        }
      ]
    },
    {
      "cell_type": "markdown",
      "source": [
        "Finally the model_7 outperformed the model 4, we have our champion for the prediction of the project.\n",
        "We could have add more data or create new feature to improve our model.\n",
        "\n",
        "* Accuracy: 89.9631298648095,\n",
        "* f1 : 0.9007637378657871,\n",
        "* precision: 0.90212740570091,\n",
        "* recall: 0.899631298648095"
      ],
      "metadata": {
        "id": "O-SWsK8ytvUd"
      }
    },
    {
      "cell_type": "code",
      "source": [
        ""
      ],
      "metadata": {
        "id": "yf7mMNU1tsmD"
      },
      "execution_count": null,
      "outputs": []
    }
  ]
}